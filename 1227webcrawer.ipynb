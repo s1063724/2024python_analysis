{
  "nbformat": 4,
  "nbformat_minor": 0,
  "metadata": {
    "colab": {
      "provenance": [],
      "authorship_tag": "ABX9TyPxxPW4d+/Hd/JqShkUqegM",
      "include_colab_link": true
    },
    "kernelspec": {
      "name": "python3",
      "display_name": "Python 3"
    },
    "language_info": {
      "name": "python"
    }
  },
  "cells": [
    {
      "cell_type": "markdown",
      "metadata": {
        "id": "view-in-github",
        "colab_type": "text"
      },
      "source": [
        "<a href=\"https://colab.research.google.com/github/s1063724/2024python_analysis/blob/main/1227webcrawer.ipynb\" target=\"_parent\"><img src=\"https://colab.research.google.com/assets/colab-badge.svg\" alt=\"Open In Colab\"/></a>"
      ]
    },
    {
      "cell_type": "code",
      "execution_count": null,
      "metadata": {
        "colab": {
          "base_uri": "https://localhost:8080/"
        },
        "id": "H6KBXuQ2Y0qL",
        "outputId": "8f31d302-e4ba-403d-e89b-0e4d8df53ccf"
      },
      "outputs": [
        {
          "output_type": "stream",
          "name": "stdout",
          "text": [
            "<html><body><p>Hello World!</p></body></html>\n"
          ]
        }
      ],
      "source": [
        "# BeautifulSoup\n",
        "from bs4 import BeautifulSoup\n",
        "html_str = '<p>Hello World!</p>'\n",
        "# lxml, html5lib, html.parser\n",
        "soup = BeautifulSoup(html_str, 'lxml')\n",
        "print(soup)"
      ]
    },
    {
      "cell_type": "code",
      "source": [
        "import requests\n",
        "r = requests.get('https://fchart.github.io/ML/Surveys.html')\n",
        "r.encoding = 'utf-8'\n",
        "soup = BeautifulSoup(r.text, 'lxml')\n",
        "\n",
        "tags = soup('a')\n",
        "tag = tags[2]\n",
        "print(soup)\n",
        "print(tag.name)\n",
        "print(tag.text)\n",
        "print(tag.string)\n",
        "print(tag.b.string)"
      ],
      "metadata": {
        "colab": {
          "base_uri": "https://localhost:8080/"
        },
        "id": "EF9NYO4pcDqy",
        "outputId": "758f4dec-6b0a-46cb-de8f-fb53e5c5016b"
      },
      "execution_count": null,
      "outputs": [
        {
          "output_type": "stream",
          "name": "stdout",
          "text": [
            "<!DOCTYPE html>\n",
            "<html lang=\"big5\">\n",
            "<head>\n",
            "<meta charset=\"utf-8\"/>\n",
            "<title>測試資料擷取的HTML網頁</title>\n",
            "</head>\n",
            "<body>\n",
            "<!-- Surveys -->\n",
            "<div class=\"surveys\" id=\"surveys\">\n",
            "<div class=\"survey\" id=\"q1\">\n",
            "<p class=\"question\">\n",
            "<a href=\"http://example.com/q1\" target=\"_blank\">請問你的<b>性別</b>?</a></p>\n",
            "<ul class=\"answer\">\n",
            "<li class=\"response\">男 - \r\n",
            "       <span class=\"score selected\">20</span></li>\n",
            "<li class=\"response\">女 - <span class=\"score\">10</span></li>\n",
            "</ul>\n",
            "</div>\n",
            "<div class=\"survey\" id=\"q2\">\n",
            "<p class=\"question\">\n",
            "<a href=\"http://example.com/q2\" target=\"_blank\">請問你是否喜歡<b>偵探小說</b>?</a></p>\n",
            "<ul class=\"answer\">\n",
            "<li class=\"response\">喜歡 - \r\n",
            "       <span class=\"score\">40</span></li>\n",
            "<li class=\"response\">普通 - \r\n",
            "       <span class=\"score selected\">20</span></li>\n",
            "<li class=\"response\">不喜歡 - \r\n",
            "       <span class=\"score\">0</span></li>\n",
            "</ul>\n",
            "</div>\n",
            "<div class=\"survey\" id=\"q3\">\n",
            "<p class=\"question\">\n",
            "<a href=\"http://example.com/q3\" target=\"_blank\">請問你是否會<b>程式設計</b>?</a></p>\n",
            "<ul class=\"answer\">\n",
            "<li class=\"response\">會 - \r\n",
            "       <span class=\"score selected\">34</span>\n",
            "<img alt=\"Yes\" class=\"img-fluid rounded\" src=\"img/yes.png\"/>\n",
            "</li>\n",
            "<li class=\"response\">不會 - \r\n",
            "       <span class=\"score\">6</span>\n",
            "<img alt=\"No\" class=\"img-fluid rounded\" src=\"img/no.png\"/>\n",
            "</li>\n",
            "</ul>\n",
            "</div>\n",
            "</div>\n",
            "<div class=\"emails\" id=\"emails\">\n",
            "<div class=\"question\">電子郵件清單資訊: </div>\r\n",
            "    abc@example.com\r\n",
            "    <div class=\"survey\" data-custom=\"important\">def@example.com</div>\n",
            "<span class=\"survey\" id=\"email\">ghi@example.com</span></div>\n",
            "</body>\n",
            "</html>\n",
            "a\n",
            "請問你是否會程式設計?\n",
            "None\n",
            "程式設計\n"
          ]
        }
      ]
    },
    {
      "cell_type": "code",
      "source": [
        "str1 = 'Python is a programming language that lets you work quickly and integrate systems more effectively.'\n",
        "# split(), join()\n",
        "list1 = str1.split()\n",
        "print(list1)\n",
        "\n",
        "\n",
        "# 將字串黏起來\n",
        "str2 = \" \".join(list1)\n",
        "print(str2)"
      ],
      "metadata": {
        "colab": {
          "base_uri": "https://localhost:8080/"
        },
        "id": "u74nFrLbCKtb",
        "outputId": "33a5279b-6da7-4aad-cb4c-6191ea10b0c1"
      },
      "execution_count": null,
      "outputs": [
        {
          "output_type": "stream",
          "name": "stdout",
          "text": [
            "['Python', 'is', 'a', 'programming', 'language', 'that', 'lets', 'you', 'work', 'quickly', 'and', 'integrate', 'systems', 'more', 'effectively.']\n",
            "Python is a programming language that lets you work quickly and integrate systems more effectively.\n"
          ]
        }
      ]
    },
    {
      "cell_type": "code",
      "source": [
        "# 刪除不需要的字元\n",
        "str1 = \"      Python is a \\nprogramming language.\\n\\r      \"\n",
        "# replace()\n",
        "\n",
        "str2 = str1.replace(\"\\n\", \"\").replace(\"\\r\", \"\")\n",
        "print(\"'\"+ str2 + \"'\")\n",
        "\n",
        "# strip()去除前後空白\n",
        "print(\"'\"+ str2.strip() +\",\")"
      ],
      "metadata": {
        "colab": {
          "base_uri": "https://localhost:8080/"
        },
        "id": "d_5cuRx9Doph",
        "outputId": "47cb6a38-74a9-48d0-a4b9-a4cbad76b391"
      },
      "execution_count": null,
      "outputs": [
        {
          "output_type": "stream",
          "name": "stdout",
          "text": [
            "'      Python is a programming language.      '\n",
            "'Python is a programming language.,\n"
          ]
        }
      ]
    },
    {
      "cell_type": "code",
      "source": [
        "# 刪除標點符號\n",
        "import string\n",
        "str1 = \"#$%^Python -is- $%programming _ language.$\"\n",
        "\n",
        "list1 = str1.split(\" \")\n",
        "print(list1)\n",
        "\n",
        "for item in list1:\n",
        "  print(item.strip(string.punctuation))"
      ],
      "metadata": {
        "colab": {
          "base_uri": "https://localhost:8080/"
        },
        "id": "D986IRjQFUtx",
        "outputId": "d39213b6-6db9-4a15-a3f1-6ac941566f31"
      },
      "execution_count": null,
      "outputs": [
        {
          "output_type": "stream",
          "name": "stdout",
          "text": [
            "['#$%^Python', '-is-', '$%programming', '_', 'language.$']\n",
            "Python\n",
            "is\n",
            "programming\n",
            "\n",
            "language\n"
          ]
        }
      ]
    },
    {
      "cell_type": "code",
      "source": [
        "# URL網址的處理\n",
        "baseURL = 'http://example.com'\n",
        "list1 = ['http://www.example.com/test', 'http://example.com/word', 'http://example.com/index.html', 'media/ex.jpg']\n",
        "\n",
        "def getURL(baseURL, source):\n",
        "  if source.startswith(\"http://www.\"):\n",
        "    url = 'http://' +source[11:]\n",
        "  elif source.startswith(\"http://\"):\n",
        "    url = source\n",
        "  elif source.startswith(\"www\"):\n",
        "    url = source[4:]\n",
        "    url = \"http://\"+source\n",
        "  else:\n",
        "    url = baseURL + \"/\" + source\n",
        "  if baseURL not in url:\n",
        "    return None\n",
        "  return url\n"
      ],
      "metadata": {
        "id": "lKZQxW0rXb43"
      },
      "execution_count": null,
      "outputs": []
    },
    {
      "cell_type": "code",
      "source": [
        "for item in list1:\n",
        "  print(getURL(baseURL,item))"
      ],
      "metadata": {
        "colab": {
          "base_uri": "https://localhost:8080/"
        },
        "id": "FA5qhJHYwBqJ",
        "outputId": "2205749e-dab3-4824-ba0e-8b3dd9b93ddd"
      },
      "execution_count": null,
      "outputs": [
        {
          "output_type": "stream",
          "name": "stdout",
          "text": [
            "http://example.com/test\n",
            "http://example.com/word\n",
            "http://example.com/index.html\n",
            "http://example.com/media/ex.jpg\n"
          ]
        }
      ]
    },
    {
      "cell_type": "code",
      "source": [
        "# csv 文件檔案 - 讀取\n",
        "import csv\n",
        "csvfile = 'Example.csv'\n",
        "with open(csvfile, 'r') as fp:\n",
        "  reader = csv.reader(fp)\n",
        "  for row in reader:\n",
        "    print(','.join(row))"
      ],
      "metadata": {
        "colab": {
          "base_uri": "https://localhost:8080/"
        },
        "id": "GoLUP4r8XfrA",
        "outputId": "e5f5603e-2616-45b1-a07b-f18e09cca8f2"
      },
      "execution_count": null,
      "outputs": [
        {
          "output_type": "stream",
          "name": "stdout",
          "text": [
            "﻿Monday,Tuesday,Wenesday\n",
            "10,45,60\n",
            "20,70,100\n"
          ]
        }
      ]
    },
    {
      "cell_type": "code",
      "source": [
        "# CSV檔案寫入\n",
        "csvfile = 'Example2.csv'\n",
        "list1 = [[10 , 20, 30], [5, 10, 15], [100, 101, 105]]\n",
        "with open(csvfile, 'w+', newline='') as fp:\n",
        "  writer = csv.writer(fp)\n",
        "  writer.writerow(['Date1', 'Date2', 'Date3'])\n",
        "  for row in list1:\n",
        "    writer.writerow(row)"
      ],
      "metadata": {
        "id": "5IbmiMDtdtXv"
      },
      "execution_count": null,
      "outputs": []
    },
    {
      "cell_type": "code",
      "source": [
        "import requests\n",
        "from bs4 import BeautifulSoup\n",
        "import csv\n",
        "\n",
        "url = 'https://fchart.github.io/ML/table.html'\n",
        "csvfile = 'CompanySale.csv'\n",
        "r = requests.get(url)\n",
        "r.encoding = 'utf-8'\n",
        "soup = BeautifulSoup(r.text, 'lxml')\n",
        "tag_table = soup.find(class_ = 'tt')\n",
        "rows = tag_table.findAll('tr')\n",
        "\n",
        "with open(csvfile, 'w+', newline='', encoding = 'utf-8') as fp:\n",
        "  writer = csv.writer(fp)\n",
        "  for row in rows:\n",
        "    rowList = []\n",
        "    for cell in row.findAll(['td','th']):\n",
        "      rowList.append(cell.get_text().replace('\\n','').replace('\\r',''))\n",
        "    writer.writerow(rowList)"
      ],
      "metadata": {
        "id": "282-fRVI4NZo"
      },
      "execution_count": null,
      "outputs": []
    }
  ]
}