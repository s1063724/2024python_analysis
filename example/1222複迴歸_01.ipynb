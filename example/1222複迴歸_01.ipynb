{
  "nbformat": 4,
  "nbformat_minor": 0,
  "metadata": {
    "colab": {
      "provenance": [],
      "authorship_tag": "ABX9TyNzQnfD7DUAx3IQuxAjqbEG",
      "include_colab_link": true
    },
    "kernelspec": {
      "name": "python3",
      "display_name": "Python 3"
    },
    "language_info": {
      "name": "python"
    }
  },
  "cells": [
    {
      "cell_type": "markdown",
      "metadata": {
        "id": "view-in-github",
        "colab_type": "text"
      },
      "source": [
        "<a href=\"https://colab.research.google.com/github/s1063724/2024python_analysis/blob/main/example/1222%E8%A4%87%E8%BF%B4%E6%AD%B8_01.ipynb\" target=\"_parent\"><img src=\"https://colab.research.google.com/assets/colab-badge.svg\" alt=\"Open In Colab\"/></a>"
      ]
    },
    {
      "cell_type": "code",
      "execution_count": 1,
      "metadata": {
        "colab": {
          "base_uri": "https://localhost:8080/"
        },
        "id": "efgqVIXQNtdo",
        "outputId": "7489f1d8-4b51-4e08-e5e5-6f8c86dd2597"
      },
      "outputs": [
        {
          "output_type": "stream",
          "name": "stdout",
          "text": [
            "迴歸係數:  [[0.71013574 1.07794276]]\n",
            "截距:  [-166.36459731]\n"
          ]
        }
      ],
      "source": [
        "# 複迴歸，多元線性迴歸\n",
        "# 很多原因造成的結果\n",
        "# 腰圍、身高的組合產生什麼樣的體重\n",
        "# 腰圍: 67, 68, 70, 65, 80, 85 , 78, 79, 95, 89\n",
        "# 身高: 160, 165, 167, 170, 165, 167, 178, 182, 175, 172\n",
        "# 體重: 50, 60, 65, 65, 70, 75 , 80, 85, 90, 81\n",
        "\n",
        "import numpy as np\n",
        "import pandas as pd\n",
        "from sklearn.linear_model import LinearRegression\n",
        "\n",
        "wh = np.array([[67,160],[68,165],[70,167],[65,170],[80,165],[85,167],[78,178],[79,182],[95,175],[89,172]])\n",
        "w = np.array([50, 60, 65, 65, 70, 75 , 80, 85, 90, 81])\n",
        "\n",
        "X =pd.DataFrame(wh, columns=['腰圍','身高'])\n",
        "y = pd.DataFrame(w, columns=['體重'])\n",
        "lm = LinearRegression()\n",
        "lm.fit(X,y)\n",
        "\n",
        "print('迴歸係數: ', lm.coef_)\n",
        "print('截距: ', lm.intercept_)\n",
        "# y = 0.71x1 +1.077x2 -166.36"
      ]
    },
    {
      "cell_type": "code",
      "source": [
        "# [66,164], [82,172]\n",
        "new_wh = pd.DataFrame(np.array([[66,164],[82,172]]),columns = ['腰圍','身高'])\n",
        "new_wh\n",
        "pred_w = lm.predict(new_wh)\n",
        "print(pred_w)"
      ],
      "metadata": {
        "colab": {
          "base_uri": "https://localhost:8080/"
        },
        "id": "cmi3kH9OjbtX",
        "outputId": "d91d17c5-3920-4c75-e482-9eb8a5433beb"
      },
      "execution_count": 4,
      "outputs": [
        {
          "output_type": "stream",
          "name": "stdout",
          "text": [
            "[[57.28697457]\n",
            " [77.2726885 ]]\n"
          ]
        }
      ]
    }
  ]
}