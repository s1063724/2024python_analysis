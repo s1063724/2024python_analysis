{
  "nbformat": 4,
  "nbformat_minor": 0,
  "metadata": {
    "colab": {
      "provenance": [],
      "authorship_tag": "ABX9TyMp2UMcLFOCqm6/JOqQSD1n",
      "include_colab_link": true
    },
    "kernelspec": {
      "name": "python3",
      "display_name": "Python 3"
    },
    "language_info": {
      "name": "python"
    }
  },
  "cells": [
    {
      "cell_type": "markdown",
      "metadata": {
        "id": "view-in-github",
        "colab_type": "text"
      },
      "source": [
        "<a href=\"https://colab.research.google.com/github/s1063724/2024python_analysis/blob/main/example/0117%E7%B5%B1%E8%A8%88.ipynb\" target=\"_parent\"><img src=\"https://colab.research.google.com/assets/colab-badge.svg\" alt=\"Open In Colab\"/></a>"
      ]
    },
    {
      "cell_type": "code",
      "execution_count": null,
      "metadata": {
        "id": "flq8T11o5-wG"
      },
      "outputs": [],
      "source": [
        "#：1. 描述統計; 2.檢定\n",
        "#Python 估計與檢定\n",
        "#統計資料分析\n",
        "# 估計 (Estimation): 樣本 (smaple), 台灣抽菸人口百分比? 母體 (population) -> 抽樣 1000. (平均數)\n",
        "# 假設檢定 (Hypothesis Testing): *黃色小熊會被12歲的小朋友喜愛\n",
        "#----------------\n",
        "#母數 (parameters): 母體特徵的平均數和標準差這些指標\n",
        "#σ(sigma): 母體的標準差 μ(mu):母體的平均數, *樣本的標準差 S,平均數 X (bar)\n",
        "#母體資料分配型態: 常態分配 (Normal Distribution)\n",
        "\n",
        "#抽樣: 樣本資料 (sampling data)\n",
        "#1. 簡單隨機抽樣: Python 串列, 500 抽1 (隨機或是一定與比率抽)\n",
        "#2. 系統抽樣: 先隨機選取, 後以母體大小除以樣本大小的間距進行抽樣。例如:第1次抽到11, 母體10000: 200 樣本, 10000/200=50, 所以第二個樣本 61, 第三個111\n",
        "#3. 分層抽樣 (stratified sampling): strata 層\n",
        "#4. 叢集抽樣:地區別或是組織別"
      ]
    },
    {
      "cell_type": "code",
      "source": [
        "#資料標準化: 使用【標準分數】(standard score) - Z (Z-score) (data science, 資料科學家)\n",
        "#練習：在 Facebook 隨機選 24 個朋友樣本, 記下每個朋友的朋友數\n",
        "import pandas as pd\n",
        "friends = [110, 1017, 1127, 417, 624, 957, 89,\n",
        "           951, 947, 797, 981, 125, 455, 731,\n",
        "           1641, 486, 1307, 472, 1131, 1771, 905,\n",
        "           532, 742, 633]\n",
        "s_friends = pd.Series(friends)\n",
        "# describe()描述資料內容\n",
        "print(s_friends.describe())"
      ],
      "metadata": {
        "colab": {
          "base_uri": "https://localhost:8080/"
        },
        "id": "GVJtSpripEAB",
        "outputId": "a82b4684-c80d-4cbc-efc3-12c0b6c76d2c"
      },
      "execution_count": null,
      "outputs": [
        {
          "output_type": "stream",
          "name": "stdout",
          "text": [
            "count      24.000000\n",
            "mean      789.500000\n",
            "std       433.835874\n",
            "min        89.000000\n",
            "25%       482.500000\n",
            "50%       769.500000\n",
            "75%       990.000000\n",
            "max      1771.000000\n",
            "dtype: float64\n"
          ]
        }
      ]
    },
    {
      "cell_type": "code",
      "source": [
        "# 用 Z-score 表達朋友數\n",
        "m = s_friends.mean()\n",
        "print('平均數: ', m)\n",
        "s = s_friends.std()\n",
        "print('標準差: ', s)\n",
        "\n",
        "# (各值 - 平均數) / 標準差(變異數) （x-μ）/σ\n",
        "# 先放一個空串列(list)\n",
        "z_score = []\n",
        "for x in friends:\n",
        "  z = (x - m)/s\n",
        "  z_score.append(z)\n",
        "\n",
        "print(z_score)"
      ],
      "metadata": {
        "colab": {
          "base_uri": "https://localhost:8080/"
        },
        "id": "H3zi2KYtq8mv",
        "outputId": "d733b859-cf91-43c6-a90b-de81cfd0a6f8"
      },
      "execution_count": null,
      "outputs": [
        {
          "output_type": "stream",
          "name": "stdout",
          "text": [
            "平均數:  789.5\n",
            "標準差:  433.83587359437126\n",
            "[-1.566260517762808, 0.5243918584121248, 0.777943965776229, -0.8586196363011713, -0.3814806706250842, 0.38609070894079517, -1.6146659200777733, 0.3722605939936622, 0.36304051736224024, 0.017287643683916203, 0.441411168729327, -1.5316852303949755, -0.7710289083026626, -0.13484362073454637, 1.9627238129139528, -0.6995733144091423, 1.192847414190218, -0.7318435826191192, 0.787164042407651, 2.262376303435167, 0.2662297127323095, -0.5935424331477895, -0.10948840999813594, -0.3607354982043847]\n"
          ]
        }
      ]
    },
    {
      "cell_type": "code",
      "source": [
        "# 中央極限定理: 抽樣數夠大, 都幾乎會是常態分配\n",
        "import matplotlib.pyplot as plt\n",
        "import numpy as np\n",
        "dice = [1, 2, 3, 4, 5, 6]\n",
        "sample_means = []\n",
        "for x in range(100):\n",
        "  # size一次出現幾個值\n",
        "  sample = np.random.choice(a=dice, size=1)\n",
        "  sample_means.append(sample.mean())\n",
        "  print(sample, end = '')\n",
        "df = pd.DataFrame(sample_means)\n",
        "# density:密度\n",
        "df.plot(kind='density')\n",
        "plt.show()"
      ],
      "metadata": {
        "colab": {
          "base_uri": "https://localhost:8080/",
          "height": 467
        },
        "id": "ZPmMy4_fRJP5",
        "outputId": "1d68d275-20b4-4f1e-a7c6-91a04d7a4b49"
      },
      "execution_count": null,
      "outputs": [
        {
          "output_type": "stream",
          "name": "stdout",
          "text": [
            "[6][3][4][1][1][1][2][4][3][6][3][3][5][5][4][2][2][5][6][6][6][2][3][1][4][2][1][2][4][5][6][5][2][1][5][5][3][6][3][3][6][1][3][4][1][3][6][4][2][3][2][1][4][2][4][2][2][2][4][4][6][5][1][6][3][5][6][2][1][4][2][1][3][3][5][2][1][3][5][1][2][1][3][4][2][6][6][2][2][3][6][3][2][5][2][2][4][2][4][4]"
          ]
        },
        {
          "output_type": "display_data",
          "data": {
            "text/plain": [
              "<Figure size 640x480 with 1 Axes>"
            ],
            "image/png": "[encoded data removed]"
          },
          "metadata": {}
        }
      ]
    },
    {
      "cell_type": "code",
      "source": [
        "#估計\n",
        "#點估計 (point estimation): 民調調查結果,所有的選民有 45% 投給 2 號候選人\n",
        "#區間估計 (interval estimate):全國 30%-48% 會投給 1 號候選人\n",
        "#甚麼是好的估計: 1. 不 偏差 (bias); 2. 有效; 3. 一致性\n",
        "\n",
        "population = []\n",
        "for x in range(10000):\n",
        "  sample = np.random.choice(a=dice, size=100)\n",
        "  population.append(sample.mean())\n",
        "print(sample)\n",
        "print('母體的平均數: ', sum(population)/10000)\n",
        "\n",
        "size_range = [10, 100, 1000]\n",
        "for sample_size in size_range:\n",
        "  sample = np.random.choice(a=population, size=sample_size)\n",
        "  sample_mean = sample.mean()\n",
        "  print(sample_size, '樣本平均數', sample_mean)"
      ],
      "metadata": {
        "colab": {
          "base_uri": "https://localhost:8080/"
        },
        "id": "Ct3z-0BKT4Xu",
        "outputId": "21a1dea6-46d7-410f-9045-94b046b0215c"
      },
      "execution_count": null,
      "outputs": [
        {
          "output_type": "stream",
          "name": "stdout",
          "text": [
            "[6 4 2 6 1 6 2 2 6 2 6 4 6 4 4 4 3 4 4 3 3 4 4 1 3 6 2 1 2 2 1 1 3 3 1 6 3\n",
            " 2 2 5 2 4 2 4 3 5 4 5 3 4 3 3 5 5 1 1 1 1 5 2 2 2 1 5 2 3 2 6 2 3 6 3 2 4\n",
            " 2 2 1 5 2 1 6 1 6 3 3 3 6 2 4 6 5 4 1 1 4 1 3 3 2 2]\n",
            "母體的平均數:  3.499222999999992\n",
            "10 樣本平均數 3.528\n",
            "100 樣本平均數 3.5126999999999997\n",
            "1000 樣本平均數 3.4973199999999998\n"
          ]
        }
      ]
    },
    {
      "cell_type": "code",
      "source": [
        "# 區間估計: 例如：國內男性身高 95% 機率是在 161-179 公分之間\n",
        "# 95% 機率: 信賴係數 (confidence coefficent), 信賴水準\n",
        "# 161-179 公分: 信賴區間 (confidence intervals)\n",
        "# 95% 會準確, 顯著水準, 99%\n",
        "\n",
        "# 進行區間估計的步驟: 1. 決定信賴係數; 2. 查詢 Z  分配表; 3.獲得信賴區間值\n",
        "\n",
        "population = []\n",
        "for x in range(10000):\n",
        "  sample = np.random.choice(a=dice, size=100)\n",
        "  population.append(sample.mean())\n",
        "print('母體平均數: ', sum(population)/10000)"
      ],
      "metadata": {
        "id": "FRdeWrszWXRr",
        "colab": {
          "base_uri": "https://localhost:8080/"
        },
        "outputId": "2bd921f7-74a0-46a8-be4a-ff836acf81a0"
      },
      "execution_count": null,
      "outputs": [
        {
          "output_type": "stream",
          "name": "stdout",
          "text": [
            "母體平均數:  3.4998510000000045\n"
          ]
        }
      ]
    },
    {
      "cell_type": "code",
      "source": [
        "import math\n",
        "sample_size = 100\n",
        "sample = np.random.choice(a=population, size=sample_size)\n",
        "sample_mean = sample.mean()\n",
        "print('樣本平均:', sample_mean)\n",
        "sample_stdev = sample.std()\n",
        "print('樣本標準差:', sample_stdev)\n",
        "\n",
        "sigma = sample_stdev / math.sqrt(sample_size - 1)\n",
        "print('樣本計算出的母體標準差:', sigma)\n",
        "# 開根號((樣本各值-樣本平均)^2 / 樣本數)\n",
        "for x in sample:\n",
        "  # 算術平均數(arth_mean)=各值-均值\n",
        "  arth_mean = x-sample_mean\n",
        "  mother_v = math.sqrt(math.pow(arth_mean, 2)/sample_size)\n",
        "print('母體樣本標準差: ',mother_v)"
      ],
      "metadata": {
        "colab": {
          "base_uri": "https://localhost:8080/"
        },
        "id": "YLaLjmyY09Us",
        "outputId": "fea5e0b3-06ee-4cee-94ed-9d5e27e29a26"
      },
      "execution_count": null,
      "outputs": [
        {
          "output_type": "stream",
          "name": "stdout",
          "text": [
            "樣本平均: 3.4709\n",
            "樣本標準差: 0.1588716148341169\n",
            "樣本計算出的母體標準差: 0.015967198067958387\n",
            "母體樣本標準差:  0.019090000000000006\n"
          ]
        }
      ]
    },
    {
      "cell_type": "code",
      "source": [
        "#範例問題 1 (自由練習)：學校有一些交換學生, 有人認為交換生成績比較好, 有人不認為。怎麼證明?\n",
        "# 交換學樣本 100 個學生, 成績平均是 71.5 分; 從教務處得到全校學生的平均成績 70分; 母體的標準差: 2.5\n",
        "# H0: 交換生的成績和全校平均成績相同。\n",
        "# Ha: 不相同\n",
        "import numpy as np\n",
        "from scipy import stats\n",
        "import math\n",
        "\n",
        "population_mean = 70\n",
        "sample_size = 100\n",
        "sample_mean = 71.5\n",
        "print('樣本平均:', sample_mean)\n",
        "sigma = 2.5\n",
        "\n",
        "z_obtained = (sample_mean - population_mean)/(sigma/math.sqrt(sample_size))\n",
        "print('Z 檢定統計量: ', z_obtained) #-> =6, 表示 71.5 離假設母體平均數 70 有 6 個標準差之遠, 故沒有落在信賴區間內\n",
        "# 常態分佈q:計算誤差(信心水準)\n",
        "z_critical = stats.norm.ppf(q= 0.975)\n",
        "print('Z 分數: ', z_critical)"
      ],
      "metadata": {
        "colab": {
          "base_uri": "https://localhost:8080/"
        },
        "id": "U-9W7ZVj92Wu",
        "outputId": "d60b191e-5fe9-4648-a42d-1635f53dbd1d"
      },
      "execution_count": null,
      "outputs": [
        {
          "output_type": "stream",
          "name": "stdout",
          "text": [
            "樣本平均: 71.5\n",
            "Z 檢定統計量:  6.0\n",
            "Z 分數:  1.959963984540054\n"
          ]
        }
      ]
    },
    {
      "cell_type": "code",
      "source": [
        "#範例 2 (自由練習):\n",
        "#披薩店希望各種披薩的銷售量相同, 能夠方便備料 (30份)\n",
        "#蔬菜 20 地中海 16, 總匯 34, 夏威夷 40, 海鮮 38, 燻雞 32\n",
        "#H0: 披薩的銷售量與期望銷售量相同\n",
        "#Ha: 銷售量不一致\n",
        "\n",
        "# 銷售量(觀察值)\n",
        "observed = np.array([20, 16, 34, 40, 38, 32])\n",
        "# 期望值\n",
        "expected = np.array([30, 30, 30, 30, 30, 30])\n",
        "# 資料量(自由度)\n",
        "df = len(observed) - 1\n",
        "print('自由度:', df)\n",
        "x =((observed-expected)**2)/expected\n",
        "print(x)\n",
        "chi_squared_stat = (((observed-expected)**2)/expected).sum()\n",
        "print('卡方檢定統計量:', chi_squared_stat)\n",
        "chi_squared, p_value = stats.chisquare(f_obs=observed, f_exp=expected)\n",
        "\n",
        "print('卡方檢定 = ', chi_squared, '\\np值 =', p_value)\n",
        "crit = stats.chi2.ppf(q = 0.95, df=df)\n",
        "print('臨界區: ', crit)\n",
        "# p值為0.0068 < 0.05 (95%的例外)，所以拒絕虛無假設(不成立) -> 銷售量不一致\n"
      ],
      "metadata": {
        "colab": {
          "base_uri": "https://localhost:8080/"
        },
        "id": "s3LooIlN92Uu",
        "outputId": "f9e3acb3-a484-4734-aaf9-af82644a0c6d"
      },
      "execution_count": null,
      "outputs": [
        {
          "output_type": "stream",
          "name": "stdout",
          "text": [
            "自由度: 5\n",
            "[3.33333333 6.53333333 0.53333333 3.33333333 2.13333333 0.13333333]\n",
            "卡方檢定統計量: 16.0\n",
            "卡方檢定 =  16.0 \n",
            "p值 = 0.006844073922420431\n",
            "臨界區:  11.070497693516351\n"
          ]
        }
      ]
    },
    {
      "cell_type": "code",
      "source": [
        "#範例 3\n",
        "#學生每日使用手機時間與學習分數有相關\n",
        "\n",
        "# 使用小時\n",
        "hours_phone_used = [0, 0, 0, 1, 1.3, 1.5, 2, 2.2, 2.6, 3.2, 4.1, 4.4, 5]\n",
        "# 成績\n",
        "score = [87, 89, 91, 90, 82, 80, 78, 81, 76, 85, 80, 73, 72]\n",
        "\n",
        "df = pd.DataFrame({'phone_used': hours_phone_used, 'score':score})\n",
        "print(df)\n",
        "df.plot(kind='scatter', x='phone_used', y='score')\n",
        "plt.title('Mobile Phone and Learning')\n",
        "plt.show()\n",
        "#1.統計方式:平均值, 看變異的程度\n",
        "#2.相關係數"
      ],
      "metadata": {
        "colab": {
          "base_uri": "https://localhost:8080/",
          "height": 715
        },
        "id": "kDIklJEG92SF",
        "outputId": "9d7a9185-1146-4377-e2a9-7657609eaccb"
      },
      "execution_count": null,
      "outputs": [
        {
          "output_type": "stream",
          "name": "stdout",
          "text": [
            "    phone_used  score\n",
            "0          0.0     87\n",
            "1          0.0     89\n",
            "2          0.0     91\n",
            "3          1.0     90\n",
            "4          1.3     82\n",
            "5          1.5     80\n",
            "6          2.0     78\n",
            "7          2.2     81\n",
            "8          2.6     76\n",
            "9          3.2     85\n",
            "10         4.1     80\n",
            "11         4.4     73\n",
            "12         5.0     72\n"
          ]
        },
        {
          "output_type": "display_data",
          "data": {
            "text/plain": [
              "<Figure size 640x480 with 1 Axes>"
            ],
            "image/png": "[encoded data removed]"
          },
          "metadata": {}
        }
      ]
    }
  ]
}