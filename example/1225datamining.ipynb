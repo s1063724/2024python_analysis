{
  "nbformat": 4,
  "nbformat_minor": 0,
  "metadata": {
    "colab": {
      "provenance": [],
      "authorship_tag": "ABX9TyNxIOSqD7upu7E+VMLkbjn0",
      "include_colab_link": true
    },
    "kernelspec": {
      "name": "python3",
      "display_name": "Python 3"
    },
    "language_info": {
      "name": "python"
    },
    "widgets": {
      "application/vnd.jupyter.widget-state+json": {
        "fc4aa94371934afdb8d37505f7d5c263": {
          "model_module": "@jupyter-widgets/output",
          "model_name": "OutputModel",
          "model_module_version": "1.0.0",
          "state": {
            "_dom_classes": [],
            "_model_module": "@jupyter-widgets/output",
            "_model_module_version": "1.0.0",
            "_model_name": "OutputModel",
            "_view_count": null,
            "_view_module": "@jupyter-widgets/output",
            "_view_module_version": "1.0.0",
            "_view_name": "OutputView",
            "layout": "IPY_MODEL_6bf2a37f8fe1480784d95c45b8ee4c38",
            "msg_id": "",
            "outputs": [
              {
                "output_type": "display_data",
                "data": {
                  "text/plain": "     \u001b[38;5;237m━━━━━━━━━━━━━━━━━━━━━━━━━━━━━━━━━━━━━━━━\u001b[0m \u001b[32m0.0/53.2 kB\u001b[0m \u001b[31m?\u001b[0m eta \u001b[36m-:--:--\u001b[0m\n",
                  "text/html": "<pre style=\"white-space:pre;overflow-x:auto;line-height:normal;font-family:Menlo,'DejaVu Sans Mono',consolas,'Courier New',monospace\">     <span style=\"color: #3a3a3a; text-decoration-color: #3a3a3a\">━━━━━━━━━━━━━━━━━━━━━━━━━━━━━━━━━━━━━━━━</span> <span style=\"color: #008000; text-decoration-color: #008000\">0.0/53.2 kB</span> <span style=\"color: #800000; text-decoration-color: #800000\">?</span> eta <span style=\"color: #008080; text-decoration-color: #008080\">-:--:--</span>\n</pre>\n"
                },
                "metadata": {}
              }
            ]
          }
        },
        "6bf2a37f8fe1480784d95c45b8ee4c38": {
          "model_module": "@jupyter-widgets/base",
          "model_name": "LayoutModel",
          "model_module_version": "1.2.0",
          "state": {
            "_model_module": "@jupyter-widgets/base",
            "_model_module_version": "1.2.0",
            "_model_name": "LayoutModel",
            "_view_count": null,
            "_view_module": "@jupyter-widgets/base",
            "_view_module_version": "1.2.0",
            "_view_name": "LayoutView",
            "align_content": null,
            "align_items": null,
            "align_self": null,
            "border": null,
            "bottom": null,
            "display": null,
            "flex": null,
            "flex_flow": null,
            "grid_area": null,
            "grid_auto_columns": null,
            "grid_auto_flow": null,
            "grid_auto_rows": null,
            "grid_column": null,
            "grid_gap": null,
            "grid_row": null,
            "grid_template_areas": null,
            "grid_template_columns": null,
            "grid_template_rows": null,
            "height": null,
            "justify_content": null,
            "justify_items": null,
            "left": null,
            "margin": null,
            "max_height": null,
            "max_width": null,
            "min_height": null,
            "min_width": null,
            "object_fit": null,
            "object_position": null,
            "order": null,
            "overflow": null,
            "overflow_x": null,
            "overflow_y": null,
            "padding": null,
            "right": null,
            "top": null,
            "visibility": null,
            "width": null
          }
        }
      }
    }
  },
  "cells": [
    {
      "cell_type": "markdown",
      "metadata": {
        "id": "view-in-github",
        "colab_type": "text"
      },
      "source": [
        "<a href=\"https://colab.research.google.com/github/s1063724/2024python_analysis/blob/main/example/1225datamining.ipynb\" target=\"_parent\"><img src=\"https://colab.research.google.com/assets/colab-badge.svg\" alt=\"Open In Colab\"/></a>"
      ]
    },
    {
      "cell_type": "code",
      "execution_count": null,
      "metadata": {
        "colab": {
          "base_uri": "https://localhost:8080/"
        },
        "id": "qCuSPCPt7YKf",
        "outputId": "4a61c3db-5e7d-4d98-b8f9-dfda3c26c289"
      },
      "outputs": [
        {
          "output_type": "stream",
          "name": "stdout",
          "text": [
            "200\n"
          ]
        }
      ],
      "source": [
        "# html\n",
        "# JavaScript\n",
        "# http://fchart.github.io/ML/nba_items.html\n",
        "import requests\n",
        "r = requests.get('http://www.google.com')\n",
        "print(r.status_code)"
      ]
    },
    {
      "cell_type": "code",
      "source": [
        "# http://www.company.com?para1=value1&para2=value2\n",
        "# 通訊協定 http, https, ftp, telnet, ssh\n",
        "url_para = {'name':'Ray', 'score':85}\n",
        "r = requests.get('http://httpbin.org/get',params= url_para)\n",
        "print(r.url)\n",
        "print(r.text)"
      ],
      "metadata": {
        "colab": {
          "base_uri": "https://localhost:8080/"
        },
        "id": "jY6MhXwA9AdN",
        "outputId": "20a5cd1d-4e8b-4f44-83f8-e667b82c817f"
      },
      "execution_count": null,
      "outputs": [
        {
          "output_type": "stream",
          "name": "stdout",
          "text": [
            "http://httpbin.org/get?name=Ray&score=85\n",
            "{\n",
            "  \"args\": {\n",
            "    \"name\": \"Ray\", \n",
            "    \"score\": \"85\"\n",
            "  }, \n",
            "  \"headers\": {\n",
            "    \"Accept\": \"*/*\", \n",
            "    \"Accept-Encoding\": \"gzip, deflate\", \n",
            "    \"Host\": \"httpbin.org\", \n",
            "    \"User-Agent\": \"python-requests/2.31.0\", \n",
            "    \"X-Amzn-Trace-Id\": \"Root=1-65ba0ea7-64bf10b62c08b4f05228a164\"\n",
            "  }, \n",
            "  \"origin\": \"35.230.106.234\", \n",
            "  \"url\": \"http://httpbin.org/get?name=Ray&score=85\"\n",
            "}\n",
            "\n"
          ]
        }
      ]
    },
    {
      "cell_type": "code",
      "source": [
        "!pip install URLEncoder"
      ],
      "metadata": {
        "colab": {
          "base_uri": "https://localhost:8080/"
        },
        "id": "bbhao8xFasPX",
        "outputId": "0739b91a-1c25-4afd-c1ad-d1061b80ed6f"
      },
      "execution_count": null,
      "outputs": [
        {
          "output_type": "stream",
          "name": "stdout",
          "text": [
            "Collecting URLEncoder\n",
            "  Downloading URLEncoder-1.1.tar.gz (2.9 kB)\n",
            "  Preparing metadata (setup.py) ... \u001b[?25l\u001b[?25hdone\n",
            "Building wheels for collected packages: URLEncoder\n",
            "  Building wheel for URLEncoder (setup.py) ... \u001b[?25l\u001b[?25hdone\n",
            "  Created wheel for URLEncoder: filename=URLEncoder-1.1-py3-none-any.whl size=3819 sha256=4e69759421cf661ff1656f063c198f0b59a3bcd12ad5bd1bce98a7de2093704c\n",
            "  Stored in directory: /root/.cache/pip/wheels/e5/50/34/75358d9ef10fd602dc7f8a9c90476e1d5880241309744da6fa\n",
            "Successfully built URLEncoder\n",
            "Installing collected packages: URLEncoder\n",
            "Successfully installed URLEncoder-1.1\n"
          ]
        }
      ]
    },
    {
      "cell_type": "code",
      "source": [
        "from urlencode import urlencode # 不好用\n",
        "print(r.text)"
      ],
      "metadata": {
        "colab": {
          "base_uri": "https://localhost:8080/",
          "height": 479,
          "referenced_widgets": [
            "fc4aa94371934afdb8d37505f7d5c263",
            "6bf2a37f8fe1480784d95c45b8ee4c38"
          ]
        },
        "id": "8RWta27xckCX",
        "outputId": "0aed0ccb-da42-46b4-d054-dbbcf3e9092a"
      },
      "execution_count": null,
      "outputs": [
        {
          "output_type": "stream",
          "name": "stderr",
          "text": [
            "/usr/local/lib/python3.10/dist-packages/_distutils_hack/__init__.py:33: UserWarning: Setuptools is replacing distutils.\n",
            "  warnings.warn(\"Setuptools is replacing distutils.\")\n"
          ]
        },
        {
          "output_type": "stream",
          "name": "stdout",
          "text": [
            "\"ujson\" module not found. Trying installation with pip\n"
          ]
        },
        {
          "output_type": "stream",
          "name": "stderr",
          "text": [
            "WARNING: pip is being invoked by an old script wrapper. This will fail in a future version of pip.\n",
            "Please see https://github.com/pypa/pip/issues/5599 for advice on fixing the underlying issue.\n",
            "To avoid this problem you can invoke Python with '-m pip' instead of running pip directly.\n"
          ]
        },
        {
          "output_type": "display_data",
          "data": {
            "text/plain": [
              "Collecting ujson\n"
            ],
            "text/html": [
              "<pre style=\"white-space:pre;overflow-x:auto;line-height:normal;font-family:Menlo,'DejaVu Sans Mono',consolas,'Courier New',monospace\">Collecting ujson\n",
              "</pre>\n"
            ]
          },
          "metadata": {}
        },
        {
          "output_type": "display_data",
          "data": {
            "text/plain": [
              "  Downloading ujson-5.9.0-cp310-cp310-manylinux_2_17_x86_64.manylinux2014_x86_64.whl (53 kB)\n"
            ],
            "text/html": [
              "<pre style=\"white-space:pre;overflow-x:auto;line-height:normal;font-family:Menlo,'DejaVu Sans Mono',consolas,'Courier New',monospace\">  Downloading ujson-5.9.0-cp310-cp310-manylinux_2_17_x86_64.manylinux2014_x86_64.whl (53 kB)\n",
              "</pre>\n"
            ]
          },
          "metadata": {}
        },
        {
          "output_type": "display_data",
          "data": {
            "text/plain": [
              "Output()"
            ],
            "application/vnd.jupyter.widget-view+json": {
              "version_major": 2,
              "version_minor": 0,
              "model_id": "fc4aa94371934afdb8d37505f7d5c263"
            }
          },
          "metadata": {}
        },
        {
          "output_type": "display_data",
          "data": {
            "text/plain": [],
            "text/html": [
              "<pre style=\"white-space:pre;overflow-x:auto;line-height:normal;font-family:Menlo,'DejaVu Sans Mono',consolas,'Courier New',monospace\"></pre>\n"
            ]
          },
          "metadata": {}
        },
        {
          "output_type": "display_data",
          "data": {
            "text/plain": [
              "\n"
            ],
            "text/html": [
              "<pre style=\"white-space:pre;overflow-x:auto;line-height:normal;font-family:Menlo,'DejaVu Sans Mono',consolas,'Courier New',monospace\">\n",
              "</pre>\n"
            ]
          },
          "metadata": {}
        },
        {
          "output_type": "display_data",
          "data": {
            "text/plain": [
              "Installing collected packages: ujson\n"
            ],
            "text/html": [
              "<pre style=\"white-space:pre;overflow-x:auto;line-height:normal;font-family:Menlo,'DejaVu Sans Mono',consolas,'Courier New',monospace\">Installing collected packages: ujson\n",
              "</pre>\n"
            ]
          },
          "metadata": {}
        },
        {
          "output_type": "display_data",
          "data": {
            "text/plain": [
              "Successfully installed ujson-5.9.0\n"
            ],
            "text/html": [
              "<pre style=\"white-space:pre;overflow-x:auto;line-height:normal;font-family:Menlo,'DejaVu Sans Mono',consolas,'Courier New',monospace\">Successfully installed ujson-5.9.0\n",
              "</pre>\n"
            ]
          },
          "metadata": {}
        },
        {
          "output_type": "stream",
          "name": "stdout",
          "text": [
            "{\n",
            "  \"args\": {\n",
            "    \"name\": \"Ray\", \n",
            "    \"score\": \"85\"\n",
            "  }, \n",
            "  \"headers\": {\n",
            "    \"Accept\": \"*/*\", \n",
            "    \"Accept-Encoding\": \"gzip, deflate\", \n",
            "    \"Host\": \"httpbin.org\", \n",
            "    \"User-Agent\": \"python-requests/2.31.0\", \n",
            "    \"X-Amzn-Trace-Id\": \"Root=1-65ba0ea7-64bf10b62c08b4f05228a164\"\n",
            "  }, \n",
            "  \"origin\": \"35.230.106.234\", \n",
            "  \"url\": \"http://httpbin.org/get?name=Ray&score=85\"\n",
            "}\n",
            "\n"
          ]
        }
      ]
    },
    {
      "cell_type": "code",
      "source": [
        "# httpbin.org\n",
        "print(r.encoding)"
      ],
      "metadata": {
        "colab": {
          "base_uri": "https://localhost:8080/"
        },
        "id": "RcatBIQLdaqk",
        "outputId": "fbb7e782-50aa-423a-8684-acf113bf583c"
      },
      "execution_count": null,
      "outputs": [
        {
          "output_type": "stream",
          "name": "stdout",
          "text": [
            "utf-8\n"
          ]
        }
      ]
    },
    {
      "cell_type": "code",
      "source": [
        "# Json -> dictionary{key:value1, key2:value2}\n",
        "print(r.json())\n",
        "print(type(r.json()))\n",
        "import pprint as p\n",
        "p.pprint(r.json())"
      ],
      "metadata": {
        "colab": {
          "base_uri": "https://localhost:8080/"
        },
        "id": "kV5gsU6qe3na",
        "outputId": "4b8612b9-d160-49fb-a057-7b83e74dd0e4"
      },
      "execution_count": null,
      "outputs": [
        {
          "output_type": "stream",
          "name": "stdout",
          "text": [
            "{'args': {'name': 'Ray', 'score': '85'}, 'headers': {'Accept': '*/*', 'Accept-Encoding': 'gzip, deflate', 'Host': 'httpbin.org', 'User-Agent': 'python-requests/2.31.0', 'X-Amzn-Trace-Id': 'Root=1-65ba0ea7-64bf10b62c08b4f05228a164'}, 'origin': '35.230.106.234', 'url': 'http://httpbin.org/get?name=Ray&score=85'}\n",
            "<class 'dict'>\n",
            "{'args': {'name': 'Ray', 'score': '85'},\n",
            " 'headers': {'Accept': '*/*',\n",
            "             'Accept-Encoding': 'gzip, deflate',\n",
            "             'Host': 'httpbin.org',\n",
            "             'User-Agent': 'python-requests/2.31.0',\n",
            "             'X-Amzn-Trace-Id': 'Root=1-65ba0ea7-64bf10b62c08b4f05228a164'},\n",
            " 'origin': '35.230.106.234',\n",
            " 'url': 'http://httpbin.org/get?name=Ray&score=85'}\n"
          ]
        }
      ]
    },
    {
      "cell_type": "code",
      "source": [
        "# 綜合練習\n",
        "import requests\n",
        "r = requests.get('http://www.google.com')\n",
        "print(r.status_code)\n",
        "print(r.status_code == requests.codes.ok)\n",
        "print(r.raise_for_status())\n",
        "\n",
        "r = requests.get('http://www.google.com/404')\n",
        "print(r.status_code)\n",
        "print(r.status_code == requests.codes.ok)\n",
        "print(r.status_code == requests.codes.all_good)"
      ],
      "metadata": {
        "colab": {
          "base_uri": "https://localhost:8080/"
        },
        "id": "0D0FgU8aMuV4",
        "outputId": "9a03c4fc-1d05-4b98-c97e-ef418f001eac"
      },
      "execution_count": null,
      "outputs": [
        {
          "output_type": "stream",
          "name": "stdout",
          "text": [
            "200\n",
            "True\n",
            "None\n",
            "404\n",
            "False\n",
            "False\n"
          ]
        }
      ]
    },
    {
      "cell_type": "code",
      "source": [
        "# 200 ok. 404 -> 400-599 http 錯誤\n",
        "print(r.status_code)\n",
        "print(r.raise_for_status())"
      ],
      "metadata": {
        "colab": {
          "base_uri": "https://localhost:8080/",
          "height": 351
        },
        "id": "usjXAKOWPlpv",
        "outputId": "f0a6ba78-68d1-45f1-ea7f-90e194b012bc"
      },
      "execution_count": null,
      "outputs": [
        {
          "output_type": "stream",
          "name": "stdout",
          "text": [
            "404\n"
          ]
        },
        {
          "output_type": "error",
          "ename": "HTTPError",
          "evalue": "404 Client Error: Not Found for url: http://www.google.com/404",
          "traceback": [
            "\u001b[0;31m---------------------------------------------------------------------------\u001b[0m",
            "\u001b[0;31mHTTPError\u001b[0m                                 Traceback (most recent call last)",
            "\u001b[0;32m<ipython-input-8-2426aa7d9c64>\u001b[0m in \u001b[0;36m<cell line: 3>\u001b[0;34m()\u001b[0m\n\u001b[1;32m      1\u001b[0m \u001b[0;31m# 200 ok. 404 -> 400-599 http 錯誤\u001b[0m\u001b[0;34m\u001b[0m\u001b[0;34m\u001b[0m\u001b[0m\n\u001b[1;32m      2\u001b[0m \u001b[0mprint\u001b[0m\u001b[0;34m(\u001b[0m\u001b[0mr\u001b[0m\u001b[0;34m.\u001b[0m\u001b[0mstatus_code\u001b[0m\u001b[0;34m)\u001b[0m\u001b[0;34m\u001b[0m\u001b[0;34m\u001b[0m\u001b[0m\n\u001b[0;32m----> 3\u001b[0;31m \u001b[0mprint\u001b[0m\u001b[0;34m(\u001b[0m\u001b[0mr\u001b[0m\u001b[0;34m.\u001b[0m\u001b[0mraise_for_status\u001b[0m\u001b[0;34m(\u001b[0m\u001b[0;34m)\u001b[0m\u001b[0;34m)\u001b[0m\u001b[0;34m\u001b[0m\u001b[0;34m\u001b[0m\u001b[0m\n\u001b[0m",
            "\u001b[0;32m/usr/local/lib/python3.10/dist-packages/requests/models.py\u001b[0m in \u001b[0;36mraise_for_status\u001b[0;34m(self)\u001b[0m\n\u001b[1;32m   1019\u001b[0m \u001b[0;34m\u001b[0m\u001b[0m\n\u001b[1;32m   1020\u001b[0m         \u001b[0;32mif\u001b[0m \u001b[0mhttp_error_msg\u001b[0m\u001b[0;34m:\u001b[0m\u001b[0;34m\u001b[0m\u001b[0;34m\u001b[0m\u001b[0m\n\u001b[0;32m-> 1021\u001b[0;31m             \u001b[0;32mraise\u001b[0m \u001b[0mHTTPError\u001b[0m\u001b[0;34m(\u001b[0m\u001b[0mhttp_error_msg\u001b[0m\u001b[0;34m,\u001b[0m \u001b[0mresponse\u001b[0m\u001b[0;34m=\u001b[0m\u001b[0mself\u001b[0m\u001b[0;34m)\u001b[0m\u001b[0;34m\u001b[0m\u001b[0;34m\u001b[0m\u001b[0m\n\u001b[0m\u001b[1;32m   1022\u001b[0m \u001b[0;34m\u001b[0m\u001b[0m\n\u001b[1;32m   1023\u001b[0m     \u001b[0;32mdef\u001b[0m \u001b[0mclose\u001b[0m\u001b[0;34m(\u001b[0m\u001b[0mself\u001b[0m\u001b[0;34m)\u001b[0m\u001b[0;34m:\u001b[0m\u001b[0;34m\u001b[0m\u001b[0;34m\u001b[0m\u001b[0m\n",
            "\u001b[0;31mHTTPError\u001b[0m: 404 Client Error: Not Found for url: http://www.google.com/404"
          ]
        }
      ]
    },
    {
      "cell_type": "code",
      "source": [
        "# 取得回應的標頭資訊 -> header\n",
        "r = requests.get('http://www.google.com')\n",
        "print(r.headers['Content-Type'])\n",
        "print(r.headers['Content-Length'])\n",
        "print(r.headers['Date'])\n",
        "print(r.headers['Server'])"
      ],
      "metadata": {
        "colab": {
          "base_uri": "https://localhost:8080/"
        },
        "id": "DB9YXosVQ523",
        "outputId": "dfe3f306-cc1c-48a9-8037-dd676861fafb"
      },
      "execution_count": null,
      "outputs": [
        {
          "output_type": "stream",
          "name": "stdout",
          "text": [
            "text/html; charset=ISO-8859-1\n",
            "7925\n",
            "Wed, 31 Jan 2024 09:13:45 GMT\n",
            "gws\n"
          ]
        }
      ]
    },
    {
      "cell_type": "code",
      "source": [
        "# Cookie\n",
        "url = 'http://httpbin.org/cookies'\n",
        "\n",
        "cookies = dict(name='Ray Wu')\n",
        "r = requests.get(url, cookies = cookies)\n",
        "print(r.text)"
      ],
      "metadata": {
        "colab": {
          "base_uri": "https://localhost:8080/"
        },
        "id": "hrWFXF20SoI3",
        "outputId": "253149f9-0517-4a29-aad9-9fa774a5e0da"
      },
      "execution_count": null,
      "outputs": [
        {
          "output_type": "stream",
          "name": "stdout",
          "text": [
            "{\n",
            "  \"cookies\": {\n",
            "    \"name\": \"Ray Wu\"\n",
            "  }\n",
            "}\n",
            "\n"
          ]
        }
      ]
    },
    {
      "cell_type": "code",
      "source": [
        "session = requests.Session()\n",
        "response = session.get('http://www.google.com')\n",
        "v = session.cookies.get_dict()\n",
        "print(v)"
      ],
      "metadata": {
        "colab": {
          "base_uri": "https://localhost:8080/"
        },
        "id": "sNq5WHuaTxbB",
        "outputId": "3de08ad6-60cd-4f6c-da1b-38d908dc13f6"
      },
      "execution_count": null,
      "outputs": [
        {
          "output_type": "stream",
          "name": "stdout",
          "text": [
            "{'1P_JAR': '2024-01-31-09', 'AEC': 'Ae3NU9NumLH8KupsTemNGOuB6b5ZcovixT_nHNfsZ6bTIjRTp86KOkrdMc8', 'NID': '511=szaUAFC-x6fgtVadnxrn1peWw3KXC7GHOSpsrcoLaNFLqgiGGjaKtctOAt8hhfMJ8Ze6Vw61Bzhxygd0hsXVbhn3ZkXc9HkJaygj_YErAy_Q79e5Q1G5ukOWBgDQ4dGCvNkg_oTN9h2xb_N9q4QVa4s6A1j_BEWDSHx8JpLrUqo'}\n"
          ]
        }
      ]
    },
    {
      "cell_type": "code",
      "source": [
        "# 建立自訂 HTTP header\n",
        "url = 'http://httpbin.org/user-agent'\n",
        "r = requests.get(url)\n",
        "print(r.text)\n",
        "print('------------------------------------')\n",
        "\n",
        "url_headers = {'user-agent': 'Mozilla/5.0 {WIndows NT 10.0; WIn64; x64; rv101.0} Gecko/20200101 Firefox/101.1'}\n",
        "r = requests.get(url, headers = url_headers)\n",
        "print(r.text)"
      ],
      "metadata": {
        "colab": {
          "base_uri": "https://localhost:8080/"
        },
        "id": "z0ds5lc4UxUx",
        "outputId": "ced87a42-65d0-4845-84d4-a2ee2cdb58eb"
      },
      "execution_count": null,
      "outputs": [
        {
          "output_type": "stream",
          "name": "stdout",
          "text": [
            "{\n",
            "  \"user-agent\": \"python-requests/2.31.0\"\n",
            "}\n",
            "\n",
            "------------------------------------\n",
            "{\n",
            "  \"user-agent\": \"Mozilla/5.0 {WIndows NT 10.0; WIn64; x64; rv101.0} Gecko/20200101 Firefox/101.1\"\n",
            "}\n",
            "\n"
          ]
        }
      ]
    },
    {
      "cell_type": "code",
      "source": [
        "# HTTP 協定的 RESTful API 的請求\n",
        "url = 'https://www.googleapis.com/books/v1/volumes'\n",
        "# q 查詢 ,maxResults 最多回傳幾本書, projection 輕裝本還是一般本\n",
        "url_params = {'q': 'Python', 'maxResults':3, 'projection':'lite'}\n",
        "try:\n",
        "  r = requests.get(url, params = url_params, timeout =0.01)\n",
        "  p.pprint(r.json())\n",
        "except requests.exceptions.Timeout as ex:\n",
        "  print('等太久了!...\\n'+str(ex))"
      ],
      "metadata": {
        "colab": {
          "base_uri": "https://localhost:8080/"
        },
        "id": "7IqxDzgrZEAu",
        "outputId": "954b4529-1613-4928-efcb-a1c08566cf1c"
      },
      "execution_count": null,
      "outputs": [
        {
          "output_type": "stream",
          "name": "stdout",
          "text": [
            "等太久了!...\n",
            "HTTPSConnectionPool(host='www.googleapis.com', port=443): Read timed out. (read timeout=0.01)\n"
          ]
        }
      ]
    },
    {
      "cell_type": "code",
      "source": [
        "# RequestException, HTTPError, ConnectionError, Timeout, TooManyRedirects\n",
        "# 例外情況控制綜合錯誤\n",
        "url = 'http://www.google.com/404'\n",
        "try:\n",
        "  r = requests.get(url, timeout=3)\n",
        "  r.raise_for_status()\n",
        "except requests.exceptions.RequestException as ex1:\n",
        "  print('Http 請求錯誤: '+ str(ex1))\n",
        "except requests.exceptions.HTTPError as ex2:\n",
        "  print('Http 回應錯誤: '+ str(ex2))"
      ],
      "metadata": {
        "colab": {
          "base_uri": "https://localhost:8080/"
        },
        "id": "Tuc7dpM5b-g3",
        "outputId": "36e4d890-e936-472b-a6a6-b0af33e6b542"
      },
      "execution_count": null,
      "outputs": [
        {
          "output_type": "stream",
          "name": "stdout",
          "text": [
            "Http 請求錯誤: 404 Client Error: Not Found for url: http://www.google.com/404\n"
          ]
        }
      ]
    },
    {
      "cell_type": "code",
      "source": [
        "# http -> html\n",
        "# anaconda -> spider ->"
      ],
      "metadata": {
        "id": "X9beAsJ0xI6e"
      },
      "execution_count": null,
      "outputs": []
    }
  ]
}