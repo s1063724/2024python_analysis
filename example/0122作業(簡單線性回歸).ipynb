{
  "nbformat": 4,
  "nbformat_minor": 0,
  "metadata": {
    "colab": {
      "provenance": [],
      "authorship_tag": "ABX9TyM/ps/CLj2pBnc2PREQ4xJu",
      "include_colab_link": true
    },
    "kernelspec": {
      "name": "python3",
      "display_name": "Python 3"
    },
    "language_info": {
      "name": "python"
    }
  },
  "cells": [
    {
      "cell_type": "markdown",
      "metadata": {
        "id": "view-in-github",
        "colab_type": "text"
      },
      "source": [
        "<a href=\"https://colab.research.google.com/github/s1063724/2024python_analysis/blob/main/example/0122%E4%BD%9C%E6%A5%AD(%E7%B0%A1%E5%96%AE%E7%B7%9A%E6%80%A7%E5%9B%9E%E6%AD%B8).ipynb\" target=\"_parent\"><img src=\"https://colab.research.google.com/assets/colab-badge.svg\" alt=\"Open In Colab\"/></a>"
      ]
    },
    {
      "cell_type": "code",
      "execution_count": null,
      "metadata": {
        "colab": {
          "base_uri": "https://localhost:8080/"
        },
        "id": "Pq9FOePjEH0b",
        "outputId": "1cde69f1-c9b1-4c3f-82c3-b65c2c032b1c"
      },
      "outputs": [
        {
          "output_type": "stream",
          "name": "stdout",
          "text": [
            "<class 'pandas.core.series.Series'>\n"
          ]
        }
      ],
      "source": [
        "#簡單線性迴歸 (Simple Linear Regression): 由現有的資料建立一條線, 從這條線可以看出資料的相關性, 而獲得對未來發展的預測。\n",
        "#適合：預測, 資料之間的變項有相關性\n",
        "\n",
        "# 85度C: 蒐集氣溫與店營業額的資料\n",
        "# 氣溫：29, 28, 34, 31, 25, 29, 32, 31, 24, 33, 25, 31, 26, 30\n",
        "# 營業額 (單位千元)：7.7, 6.2, 9.3, 8.4, 5.9, 6.4, 8.0, 7.5, 5.8, 9.1, 5.1, 7.3, 6.5, 8.4\n",
        "\n",
        "import numpy as np\n",
        "import pandas as pd\n",
        "from sklearn.linear_model import LinearRegression\n",
        "\n",
        "temp = np.array([29, 28, 34, 31, 25, 29, 32, 31, 24, 33, 25, 31, 26, 30])\n",
        "# 營業額(答案)\n",
        "income = np.array([7.7, 6.2, 9.3, 8.4, 5.9, 6.4, 8.0, 7.5, 5.8, 9.1, 5.1, 7.3, 6.5, 8.4])\n",
        "# data (X)-> label (target 答案 y)\n",
        "X = pd.DataFrame(temp, columns=['氣溫'])\n",
        "target = pd.DataFrame(income, columns=['營業額'])\n",
        "y = target['營業額']\n",
        "\n",
        "print(type(y))"
      ]
    },
    {
      "cell_type": "code",
      "source": [
        "lm = LinearRegression()\n",
        "lm_fit = lm.fit(X, y)\n",
        "# print(lm_fit)\n",
        "lm_score = lm.score(X, y)\n",
        "print(lm_score)\n",
        "\n",
        "print('迴歸係數: ', lm.coef_)\n",
        "print('截距: ', lm.intercept_)\n",
        "# y = 0.37X - 3.636 = 迴歸係數*X + 截距"
      ],
      "metadata": {
        "colab": {
          "base_uri": "https://localhost:8080/"
        },
        "id": "fWxrdbp6HgT1",
        "outputId": "0cd6209e-34e4-4741-9bbf-63d53abd880c"
      },
      "execution_count": null,
      "outputs": [
        {
          "output_type": "stream",
          "name": "stdout",
          "text": [
            "0.8225092881166941\n",
            "迴歸係數:  [0.37378855]\n",
            "截距:  -3.6361233480176187\n"
          ]
        }
      ]
    },
    {
      "cell_type": "code",
      "source": [
        "# 預測氣溫 11, 30 度營業營應該是多少?\n",
        "new_temp = pd.DataFrame(np.array([11, 30]), columns=['氣溫'])\n",
        "pred = lm.predict(new_temp)\n",
        "print(pred)# 得出結果可能為 0.47萬 跟 7.5萬"
      ],
      "metadata": {
        "colab": {
          "base_uri": "https://localhost:8080/"
        },
        "id": "P0QyleviHefg",
        "outputId": "ac24226f-e232-4555-d10f-cd244274e73c"
      },
      "execution_count": null,
      "outputs": [
        {
          "output_type": "stream",
          "name": "stdout",
          "text": [
            "[0.47555066 7.57753304]\n"
          ]
        }
      ]
    },
    {
      "cell_type": "code",
      "source": [
        "# 繪圖\n",
        "import matplotlib.pyplot as plt\n",
        "# 散點圖\n",
        "plt.scatter(temp, income)\n",
        "# 預測\n",
        "ra = lm.predict(X)\n",
        "plt.plot(temp, ra, color='blue')\n",
        "plt.plot(new_temp['氣溫'], pred, color='red', marker='o', markersize=10)\n",
        "plt.title('An AI model predict Income')\n",
        "plt.show()"
      ],
      "metadata": {
        "colab": {
          "base_uri": "https://localhost:8080/",
          "height": 452
        },
        "id": "6e8xcM_HHqyN",
        "outputId": "8e79a7d9-049a-4535-8fc1-78ce620e81e8"
      },
      "execution_count": null,
      "outputs": [
        {
          "output_type": "display_data",
          "data": {
            "text/plain": [
              "<Figure size 640x480 with 1 Axes>"
            ],
            "image/png": "[encoded data removed]"
          },
          "metadata": {}
        }
      ]
    }
  ]
}