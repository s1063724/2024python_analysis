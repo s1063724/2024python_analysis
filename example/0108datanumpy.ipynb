{
  "nbformat": 4,
  "nbformat_minor": 0,
  "metadata": {
    "colab": {
      "provenance": [],
      "authorship_tag": "ABX9TyNdoxW12kJOsZUQJyV4N0DP",
      "include_colab_link": true
    },
    "kernelspec": {
      "name": "python3",
      "display_name": "Python 3"
    },
    "language_info": {
      "name": "python"
    }
  },
  "cells": [
    {
      "cell_type": "markdown",
      "metadata": {
        "id": "view-in-github",
        "colab_type": "text"
      },
      "source": [
        "<a href=\"https://colab.research.google.com/github/s1063724/2024python_analysis/blob/main/example/0108datanumpy.ipynb\" target=\"_parent\"><img src=\"https://colab.research.google.com/assets/colab-badge.svg\" alt=\"Open In Colab\"/></a>"
      ]
    },
    {
      "cell_type": "code",
      "execution_count": null,
      "metadata": {
        "colab": {
          "base_uri": "https://localhost:8080/"
        },
        "id": "HtwL0b-e6C_G",
        "outputId": "474e7555-72bf-416a-efe5-7e51ce110ee9"
      },
      "outputs": [
        {
          "output_type": "stream",
          "name": "stdout",
          "text": [
            "v=[1 2 3]\n",
            "s=5\n",
            "a + s = [6 7 8]\n",
            "a - s = [-4 -3 -2]\n",
            "a * s = [ 5 10 15]\n",
            "a / s = [0.2 0.4 0.6]\n",
            "[4, 5, 6, 1, 2, 3]\n",
            "[ 4 10 18]\n"
          ]
        }
      ],
      "source": [
        "# 陣列、向量\n",
        "# a =  [a1, a2, a3] 向量\n",
        "# s = 5 純量scalar\n",
        "# c = a + s = [a1+s, a2+s, a3+s]\n",
        "import numpy as np\n",
        "\n",
        "a= np.array([1,2,3])\n",
        "print('v='+str(a))\n",
        "s = 5\n",
        "print('s='+str(s))\n",
        "b = a + s\n",
        "# 向量的加法運算\n",
        "print('a + s =',str(b))\n",
        "\n",
        "# 減法運算c = a - s\n",
        "c = a - s\n",
        "print('a - s =',str(c))\n",
        "\n",
        "d = a * s\n",
        "print('a * s =',str(d))\n",
        "\n",
        "e = a / s\n",
        "print('a / s =',str(e))\n",
        "# 串列相加\n",
        "f = [4, 5, 6]\n",
        "g = [1, 2, 3]\n",
        "h = f + g\n",
        "print(str(h))\n",
        "# 向量之間的運算\n",
        "i = np.array([4, 5, 6])\n",
        "j = np.array([1, 2, 3])\n",
        "k = i * j\n",
        "print(str(k))"
      ]
    },
    {
      "cell_type": "code",
      "source": [
        "# 向量 點積 運算 -dot product\n",
        "a = np.array([1,2,3])\n",
        "print('a='+str(a))\n",
        "s=np.array([4,5,6])\n",
        "print('s='+str(s))\n",
        "c = a.dot(s)\n",
        "# (1 * 4) + (2 * 5) + (3 * 6)\n",
        "print('a dot s='+str(c))\n"
      ],
      "metadata": {
        "colab": {
          "base_uri": "https://localhost:8080/"
        },
        "id": "VlNIR1AZJyoJ",
        "outputId": "5aa8f1aa-b8e9-4c5e-8678-8a32a3b38104"
      },
      "execution_count": null,
      "outputs": [
        {
          "output_type": "stream",
          "name": "stdout",
          "text": [
            "a=[1 2 3]\n",
            "s=[4 5 6]\n",
            "a dot s=32\n"
          ]
        }
      ]
    },
    {
      "cell_type": "code",
      "source": [
        "# 向量 與 布林值 遮罩(mask)\n",
        "a = np.array([14,8,10,11,6,3,18,13,12,9])\n",
        "print('a = '+str(a))\n",
        "# 遮照向量\n",
        "mask = (a % 3 == 0)\n",
        "print('mask = '+str(mask))\n",
        "# 用布林值遮罩取出值\n",
        "b = a[mask]\n",
        "print('b = '+str(b))\n",
        "\n",
        "for ele in b:\n",
        "  print(ele, end=' ')"
      ],
      "metadata": {
        "colab": {
          "base_uri": "https://localhost:8080/"
        },
        "id": "KpqkLYaHl-4K",
        "outputId": "8adf1285-f968-438d-d1b5-c1510b2f5bb0"
      },
      "execution_count": null,
      "outputs": [
        {
          "output_type": "stream",
          "name": "stdout",
          "text": [
            "a = [14  8 10 11  6  3 18 13 12  9]\n",
            "mask = [False False False False  True  True  True False  True  True]\n",
            "b = [ 6  3 18 12  9]\n",
            "6 3 18 12 9 "
          ]
        }
      ]
    },
    {
      "cell_type": "code",
      "source": [
        "# 陣列的函式\n",
        "# ravel(), flatten() -> 把陣列拉平 -> 一個維度\n",
        "a = np.array([[1,2,3],[4,5,6]])\n",
        "# 二維變一維\n",
        "b = a.ravel()\n",
        "e = a.flatten()\n",
        "print(str(b))\n",
        "print(str(e))\n",
        "print()\n",
        "# reshape() -> 改變陣列形狀\n",
        "c = np.reshape(b, (2, 3))\n",
        "print(str(c))\n",
        "print()\n",
        "d = np.reshape(c, (3, 2))\n",
        "print(str(d))\n"
      ],
      "metadata": {
        "colab": {
          "base_uri": "https://localhost:8080/"
        },
        "id": "O92esLeOn9Cn",
        "outputId": "12cb22c3-81e9-4ace-bb31-757adaa8d55d"
      },
      "execution_count": null,
      "outputs": [
        {
          "output_type": "stream",
          "name": "stdout",
          "text": [
            "[1 2 3 4 5 6]\n",
            "[1 2 3 4 5 6]\n",
            "\n",
            "[[1 2 3]\n",
            " [4 5 6]]\n",
            "\n",
            "[[1 2]\n",
            " [3 4]\n",
            " [5 6]]\n"
          ]
        }
      ]
    },
    {
      "cell_type": "code",
      "source": [],
      "metadata": {
        "id": "Y4-glJZ2TGNJ"
      },
      "execution_count": null,
      "outputs": []
    }
  ]
}