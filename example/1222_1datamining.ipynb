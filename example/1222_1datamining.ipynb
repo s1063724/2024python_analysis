{
  "nbformat": 4,
  "nbformat_minor": 0,
  "metadata": {
    "colab": {
      "provenance": [],
      "authorship_tag": "ABX9TyPrkvrGuTJvmgo130OrE1MZ",
      "include_colab_link": true
    },
    "kernelspec": {
      "name": "python3",
      "display_name": "Python 3"
    },
    "language_info": {
      "name": "python"
    }
  },
  "cells": [
    {
      "cell_type": "markdown",
      "metadata": {
        "id": "view-in-github",
        "colab_type": "text"
      },
      "source": [
        "<a href=\"https://colab.research.google.com/github/s1063724/2024python_analysis/blob/main/example/1222_1datamining.ipynb\" target=\"_parent\"><img src=\"https://colab.research.google.com/assets/colab-badge.svg\" alt=\"Open In Colab\"/></a>"
      ]
    },
    {
      "cell_type": "code",
      "execution_count": null,
      "metadata": {
        "id": "T2pWeim0MUob"
      },
      "outputs": [],
      "source": [
        "# 取得資料: 自己蒐集的資料， API， 網路爬蟲\n",
        "# web scraping: 網路爬蟲， 網頁資料擷取 -> html (web scoket) -> csv (dict)\n",
        "# java script\n",
        "# https://chromewebstore.google.com/detail/javascript-switch/fopnmaooogcdcnofegdbcgfbgpkhgoae -> JavaScript Switch\n",
        "# https://fchart.github.io/ML/nba_items.html\n",
        "# 分析工具、 http函式庫、網路爬蟲的函式庫、 擷取動態網頁資料、 javascript"
      ]
    },
    {
      "cell_type": "code",
      "source": [
        "# 第一步: 找出目標URL網址和參數\n",
        "# http://www.example1.com:80/test/index.php?user=joe\n",
        "# 第二步: 判斷網頁內容如何產生\n",
        "  # 網頁沒有使用javascript -> 靜態網頁 -> requests\n",
        "  # 網頁內容有差別，但想取得的資料不受到影響 -> requests\n",
        "  # 目標不見 -> Selenium\n",
        "# 第三步:作戰方法 -> CSS選擇器; XPath; 正規表達式\n",
        "# 第四步:把取得資料儲存到你的檔案結構或是資料庫:CSV, JSON, 資料庫"
      ],
      "metadata": {
        "id": "-G2dUKqqatwJ"
      },
      "execution_count": null,
      "outputs": []
    },
    {
      "cell_type": "code",
      "source": [
        "import requests\n",
        "r = requests.get('http://www.google.com')\n",
        "if r.status_code == 200:\n",
        "  print('連線成功，程式繼續...')\n",
        "else:\n",
        "  print('連線失敗，程式中斷...')\n",
        "\n",
        "print(r.status_code)"
      ],
      "metadata": {
        "colab": {
          "base_uri": "https://localhost:8080/"
        },
        "id": "rB3H2cNPdJ0g",
        "outputId": "16c4d107-f3a6-40d6-ae09-a71b560bce41"
      },
      "execution_count": null,
      "outputs": [
        {
          "output_type": "stream",
          "name": "stdout",
          "text": [
            "連線成功，程式繼續...\n",
            "200\n"
          ]
        }
      ]
    },
    {
      "cell_type": "code",
      "source": [
        "# http://www.company.com?para1=value1&para2=value2\n",
        "import requests\n",
        "url_params = {'name':'RayWu', 'score':85}\n",
        "r = requests.get('http://httpbin.org/get', params=url_params)\n",
        "print(r.url)\n"
      ],
      "metadata": {
        "colab": {
          "base_uri": "https://localhost:8080/"
        },
        "id": "TRwwqSRcg25y",
        "outputId": "25504e05-7a39-4ca3-ea95-8e75a3895c22"
      },
      "execution_count": null,
      "outputs": [
        {
          "output_type": "stream",
          "name": "stdout",
          "text": [
            "http://httpbin.org/get?name=RayWu&score=85\n"
          ]
        }
      ]
    },
    {
      "cell_type": "code",
      "source": [
        "print(r.text)"
      ],
      "metadata": {
        "colab": {
          "base_uri": "https://localhost:8080/"
        },
        "id": "vAk2acVv09bU",
        "outputId": "a78df1d2-f540-46b8-9264-f2f411e503e6"
      },
      "execution_count": null,
      "outputs": [
        {
          "output_type": "stream",
          "name": "stdout",
          "text": [
            "{\n",
            "  \"args\": {\n",
            "    \"name\": \"RayWu\", \n",
            "    \"score\": \"85\"\n",
            "  }, \n",
            "  \"headers\": {\n",
            "    \"Accept\": \"*/*\", \n",
            "    \"Accept-Encoding\": \"gzip, deflate\", \n",
            "    \"Host\": \"httpbin.org\", \n",
            "    \"User-Agent\": \"python-requests/2.31.0\", \n",
            "    \"X-Amzn-Trace-Id\": \"Root=1-65b90b0c-368622c83e9a37df7ef73d16\"\n",
            "  }, \n",
            "  \"origin\": \"130.211.243.44\", \n",
            "  \"url\": \"http://httpbin.org/get?name=RayWu&score=85\"\n",
            "}\n",
            "\n"
          ]
        }
      ]
    },
    {
      "cell_type": "code",
      "source": [
        "post_data = {'name':'RayWu', 'score':85}\n",
        "r = requests.post('http://httpbin.org/post', data = post_data)\n",
        "print(r.text)"
      ],
      "metadata": {
        "colab": {
          "base_uri": "https://localhost:8080/"
        },
        "id": "7U0Bk2wq2tDN",
        "outputId": "a89f0ce7-1b64-49b3-fb98-99299b7923dc"
      },
      "execution_count": null,
      "outputs": [
        {
          "output_type": "stream",
          "name": "stdout",
          "text": [
            "{\n",
            "  \"args\": {}, \n",
            "  \"data\": \"\", \n",
            "  \"files\": {}, \n",
            "  \"form\": {\n",
            "    \"name\": \"RayWu\", \n",
            "    \"score\": \"85\"\n",
            "  }, \n",
            "  \"headers\": {\n",
            "    \"Accept\": \"*/*\", \n",
            "    \"Accept-Encoding\": \"gzip, deflate\", \n",
            "    \"Content-Length\": \"19\", \n",
            "    \"Content-Type\": \"application/x-www-form-urlencoded\", \n",
            "    \"Host\": \"httpbin.org\", \n",
            "    \"User-Agent\": \"python-requests/2.31.0\", \n",
            "    \"X-Amzn-Trace-Id\": \"Root=1-65b90d74-2d6b8ff444c06ca3210c1db9\"\n",
            "  }, \n",
            "  \"json\": null, \n",
            "  \"origin\": \"130.211.243.44\", \n",
            "  \"url\": \"http://httpbin.org/post\"\n",
            "}\n",
            "\n"
          ]
        }
      ]
    },
    {
      "cell_type": "code",
      "source": [
        "# html, JSON, 二進位檔\n",
        "# JSON -> JavaScript Object Notation\n",
        "r = requests.get('http://fchart.github.io/test.html')\n",
        "print(r.text)\n",
        "print(r.encoding)"
      ],
      "metadata": {
        "colab": {
          "base_uri": "https://localhost:8080/"
        },
        "id": "lvuxK6Ua3Iot",
        "outputId": "f24aba2d-2025-46e9-ab17-1d78f46c2571"
      },
      "execution_count": null,
      "outputs": [
        {
          "output_type": "stream",
          "name": "stdout",
          "text": [
            "<html>\r\n",
            "<head>\r\n",
            "<meta charset=\"utf-8\"/>\r\n",
            "<title>測試的HTML5網頁</title>\r\n",
            "</head>\r\n",
            "<body>\r\n",
            "<h3>從網路取得資料</h3><hr/>\r\n",
            "<div><p>使用Requests套件送出HTTP請求</p></div>\r\n",
            "</body>\r\n",
            "</html>\n",
            "utf-8\n"
          ]
        }
      ]
    },
    {
      "cell_type": "code",
      "source": [
        "r = requests.get('http://fchart.github.io/test.html')\n",
        "print(r.text)\n",
        "print('----------------------------------------')\n",
        "\n",
        "r = requests.get('http://fchart.github.io/test.html')\n",
        "print(r.content)\n",
        "print('----------------------------------------')\n",
        "\n",
        "# stream = True 直接把網頁資料當成二進位完全不處理\n",
        "r = requests.get('http://fchart.github.io/test.html', stream=True)\n",
        "# 原始資料\n",
        "print(r.raw)\n",
        "print(r.raw.read(15))"
      ],
      "metadata": {
        "colab": {
          "base_uri": "https://localhost:8080/"
        },
        "id": "V0l4AcVz4UCf",
        "outputId": "f4c031be-12f9-471e-e235-b67107021512"
      },
      "execution_count": null,
      "outputs": [
        {
          "output_type": "stream",
          "name": "stdout",
          "text": [
            "<html>\r\n",
            "<head>\r\n",
            "<meta charset=\"utf-8\"/>\r\n",
            "<title>測試的HTML5網頁</title>\r\n",
            "</head>\r\n",
            "<body>\r\n",
            "<h3>從網路取得資料</h3><hr/>\r\n",
            "<div><p>使用Requests套件送出HTTP請求</p></div>\r\n",
            "</body>\r\n",
            "</html>\n",
            "----------------------------------------\n",
            "b'<html>\\r\\n<head>\\r\\n<meta charset=\"utf-8\"/>\\r\\n<title>\\xe6\\xb8\\xac\\xe8\\xa9\\xa6\\xe7\\x9a\\x84HTML5\\xe7\\xb6\\xb2\\xe9\\xa0\\x81</title>\\r\\n</head>\\r\\n<body>\\r\\n<h3>\\xe5\\xbe\\x9e\\xe7\\xb6\\xb2\\xe8\\xb7\\xaf\\xe5\\x8f\\x96\\xe5\\xbe\\x97\\xe8\\xb3\\x87\\xe6\\x96\\x99</h3><hr/>\\r\\n<div><p>\\xe4\\xbd\\xbf\\xe7\\x94\\xa8Requests\\xe5\\xa5\\x97\\xe4\\xbb\\xb6\\xe9\\x80\\x81\\xe5\\x87\\xbaHTTP\\xe8\\xab\\x8b\\xe6\\xb1\\x82</p></div>\\r\\n</body>\\r\\n</html>'\n",
            "----------------------------------------\n",
            "<urllib3.response.HTTPResponse object at 0x7cf8d043ce80>\n",
            "b''\n"
          ]
        }
      ]
    }
  ]
}