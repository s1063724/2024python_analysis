{
  "nbformat": 4,
  "nbformat_minor": 0,
  "metadata": {
    "colab": {
      "provenance": [],
      "authorship_tag": "ABX9TyNn8QkHTYIeckloaPsS+o9C",
      "include_colab_link": true
    },
    "kernelspec": {
      "name": "python3",
      "display_name": "Python 3"
    },
    "language_info": {
      "name": "python"
    }
  },
  "cells": [
    {
      "cell_type": "markdown",
      "metadata": {
        "id": "view-in-github",
        "colab_type": "text"
      },
      "source": [
        "<a href=\"https://colab.research.google.com/github/s1063724/2024python_analysis/blob/main/example/1222datamining.ipynb\" target=\"_parent\"><img src=\"https://colab.research.google.com/assets/colab-badge.svg\" alt=\"Open In Colab\"/></a>"
      ]
    },
    {
      "cell_type": "code",
      "execution_count": null,
      "metadata": {
        "colab": {
          "base_uri": "https://localhost:8080/"
        },
        "id": "EtqUseNXY658",
        "outputId": "0e362b87-2bb0-4c87-abcd-f521183d8716"
      },
      "outputs": [
        {
          "output_type": "stream",
          "name": "stdout",
          "text": [
            "[6, 4, 5]\n",
            "[6, 4, 5] 5\n",
            "[6, 4, 'py']\n"
          ]
        }
      ],
      "source": [
        "# Python 容器\n",
        "# 串列 List, 字典 Dictionary, 集合 Set, 元組 Tuple\n",
        "# 一維度陣列Array: 相同資料行型態，連續的資料\n",
        "ls = [6, 4 , 5] #元素 eleement\n",
        "print(ls)\n",
        "print(ls, ls[2])\n",
        "ls[2] = 'py'\n",
        "print(ls)"
      ]
    },
    {
      "cell_type": "code",
      "source": [
        "ls.append('bar')\n",
        "print(ls)"
      ],
      "metadata": {
        "colab": {
          "base_uri": "https://localhost:8080/"
        },
        "id": "8_yumOGwarkZ",
        "outputId": "c578d1d1-bb21-4ff0-82cc-8b8bb5324cd3"
      },
      "execution_count": null,
      "outputs": [
        {
          "output_type": "stream",
          "name": "stdout",
          "text": [
            "[6, 4, 'py', 'bar']\n"
          ]
        }
      ]
    },
    {
      "cell_type": "code",
      "source": [
        "ls.pop()\n",
        "print(ls)"
      ],
      "metadata": {
        "colab": {
          "base_uri": "https://localhost:8080/"
        },
        "id": "bna-lotma6z1",
        "outputId": "a67eada6-18e0-44f6-c5e6-9e0e2e164ce7"
      },
      "execution_count": null,
      "outputs": [
        {
          "output_type": "stream",
          "name": "stdout",
          "text": [
            "[6, 4, 'py']\n"
          ]
        }
      ]
    },
    {
      "cell_type": "code",
      "source": [
        "ls.reverse()\n",
        "print(ls)\n"
      ],
      "metadata": {
        "colab": {
          "base_uri": "https://localhost:8080/"
        },
        "id": "i3gpaePabKpr",
        "outputId": "597e6a1b-c2d5-43c4-9f53-941425855726"
      },
      "execution_count": null,
      "outputs": [
        {
          "output_type": "stream",
          "name": "stdout",
          "text": [
            "['py', 4, 6]\n"
          ]
        }
      ]
    },
    {
      "cell_type": "code",
      "source": [
        "ls1 = ls.copy()\n",
        "print(ls1)"
      ],
      "metadata": {
        "colab": {
          "base_uri": "https://localhost:8080/"
        },
        "id": "npUl86wKbdyI",
        "outputId": "8bff2b1b-62c6-4ec7-e099-5221c48841f3"
      },
      "execution_count": null,
      "outputs": [
        {
          "output_type": "stream",
          "name": "stdout",
          "text": [
            "['py', 4, 6]\n"
          ]
        }
      ]
    },
    {
      "cell_type": "code",
      "source": [
        "ls2 = ls.extend((2,4,5))\n",
        "print(ls2)"
      ],
      "metadata": {
        "colab": {
          "base_uri": "https://localhost:8080/"
        },
        "id": "dCi4j9fnc3ct",
        "outputId": "56ff8f00-1663-4fe0-d7c2-d7d6dd2240bb"
      },
      "execution_count": null,
      "outputs": [
        {
          "output_type": "stream",
          "name": "stdout",
          "text": [
            "None\n"
          ]
        }
      ]
    },
    {
      "cell_type": "code",
      "source": [
        "# 串列 資料切割 資料抽取\n",
        "nums = list(range(5))\n",
        "print(nums)\n",
        "print(nums[0])\n",
        "print(nums[2:4])\n",
        "print(nums[2:])\n",
        "print(nums[:])"
      ],
      "metadata": {
        "colab": {
          "base_uri": "https://localhost:8080/"
        },
        "id": "jgH14iDMboyW",
        "outputId": "572ee0ea-55e4-443a-a42b-954487c9180d"
      },
      "execution_count": null,
      "outputs": [
        {
          "output_type": "stream",
          "name": "stdout",
          "text": [
            "[0, 1, 2, 3, 4]\n",
            "0\n",
            "[2, 3]\n",
            "[2, 3, 4]\n",
            "[0, 1, 2, 3, 4]\n"
          ]
        }
      ]
    },
    {
      "cell_type": "code",
      "source": [
        "# 走訪 串列\n",
        "ani = ['cat', 'dog', 'bat']\n",
        "for ani_kind in ani:\n",
        "  print(ani_kind)"
      ],
      "metadata": {
        "colab": {
          "base_uri": "https://localhost:8080/"
        },
        "id": "1GBHoiuZc1eg",
        "outputId": "160d7643-7a7a-4cb9-d9c5-3827f9b37bd0"
      },
      "execution_count": null,
      "outputs": [
        {
          "output_type": "stream",
          "name": "stdout",
          "text": [
            "cat\n",
            "dog\n",
            "bat\n"
          ]
        }
      ]
    },
    {
      "cell_type": "code",
      "source": [
        "for index,ani_kind in enumerate(ani):\n",
        "  print('序號', index, '是', ani_kind)\n"
      ],
      "metadata": {
        "colab": {
          "base_uri": "https://localhost:8080/"
        },
        "id": "8ZxDXNVJd17u",
        "outputId": "293ff199-9a37-4a50-ecef-f7e680b453da"
      },
      "execution_count": null,
      "outputs": [
        {
          "output_type": "stream",
          "name": "stdout",
          "text": [
            "序號 0 是 f\n",
            "序號 1 是 i\n",
            "序號 2 是 s\n",
            "序號 3 是 h\n"
          ]
        }
      ]
    },
    {
      "cell_type": "code",
      "source": [
        "# 串列生成式\n",
        "list1 = [x for x in range(10)]\n",
        "print(list1)\n",
        "list2 = [x+1 for x in range(10)]\n",
        "print(list2)\n",
        "list3 = [x for x in range(10) if x%2 ==0]\n",
        "print(list3)\n",
        "list4 = [x*2 for x in range(10) if x%2 == 0]\n",
        "print(list4)"
      ],
      "metadata": {
        "colab": {
          "base_uri": "https://localhost:8080/"
        },
        "id": "poD6mZWofVPm",
        "outputId": "ee43d0df-536e-466b-c6aa-dca6c4a18563"
      },
      "execution_count": null,
      "outputs": [
        {
          "output_type": "stream",
          "name": "stdout",
          "text": [
            "[0, 1, 2, 3, 4, 5, 6, 7, 8, 9]\n",
            "[1, 2, 3, 4, 5, 6, 7, 8, 9, 10]\n",
            "[0, 2, 4, 6, 8]\n",
            "[0, 4, 8, 12, 16]\n"
          ]
        }
      ]
    },
    {
      "cell_type": "code",
      "source": [
        "# 字典 Dictionary, dict\n",
        "# {key:value}\n",
        "d = {'cat':'white', 'dog':'white', 'fish':'blue'}\n",
        "print(d)\n",
        "print(d['cat'])\n",
        "\n",
        "d['snake'] = 'yellow'\n",
        "print(d)\n",
        "d['snake'] = 'pink'\n",
        "print(d)\n",
        "\n",
        "print(d.get('monkey', '找不到!'))\n",
        "print(d.get('snake', '找不到!'))\n",
        "\n",
        "del d['snake']\n",
        "print(d)\n"
      ],
      "metadata": {
        "colab": {
          "base_uri": "https://localhost:8080/"
        },
        "id": "31GP5-mCfmdu",
        "outputId": "f267a399-1f07-4f9d-da58-966c8a419ece"
      },
      "execution_count": null,
      "outputs": [
        {
          "output_type": "stream",
          "name": "stdout",
          "text": [
            "{'cat': 'white', 'dog': 'white', 'fish': 'blue'}\n",
            "white\n",
            "{'cat': 'white', 'dog': 'white', 'fish': 'blue', 'snake': 'yellow'}\n",
            "{'cat': 'white', 'dog': 'white', 'fish': 'blue', 'snake': 'pink'}\n",
            "找不到!\n",
            "pink\n",
            "{'cat': 'white', 'dog': 'white', 'fish': 'blue'}\n"
          ]
        }
      ]
    },
    {
      "cell_type": "code",
      "source": [
        "# 字典走訪\n",
        "for ani in d:\n",
        "  color = d[ani]\n",
        "  print(ani, '的顏色是', color)"
      ],
      "metadata": {
        "colab": {
          "base_uri": "https://localhost:8080/"
        },
        "id": "vw29TKn6Xor-",
        "outputId": "e7457a6a-1896-47d3-99a5-67ab79f2c5ec"
      },
      "execution_count": null,
      "outputs": [
        {
          "output_type": "stream",
          "name": "stdout",
          "text": [
            "cat 的顏色是 white\n",
            "dog 的顏色是 white\n",
            "fish 的顏色是 blue\n"
          ]
        }
      ]
    },
    {
      "cell_type": "code",
      "source": [
        "for ani, color in d.items():\n",
        "  print('動物', ani, '的顏色是', color, '。')"
      ],
      "metadata": {
        "colab": {
          "base_uri": "https://localhost:8080/"
        },
        "id": "-HQFddXSZaZR",
        "outputId": "4097e28e-a1f6-4f6f-fcfc-8a1d095cc666"
      },
      "execution_count": null,
      "outputs": [
        {
          "output_type": "stream",
          "name": "stdout",
          "text": [
            "動物 cat 的顏色是 white 。\n",
            "動物 dog 的顏色是 white 。\n",
            "動物 fish 的顏色是 blue 。\n"
          ]
        }
      ]
    },
    {
      "cell_type": "code",
      "source": [
        "# 字典生成式\n",
        "d1 = {x:x*x for x in range(10)}\n",
        "print(d1)"
      ],
      "metadata": {
        "colab": {
          "base_uri": "https://localhost:8080/"
        },
        "id": "SMUtjS1PacPr",
        "outputId": "aa08459d-bf56-4aa4-ac45-e64978877611"
      },
      "execution_count": null,
      "outputs": [
        {
          "output_type": "stream",
          "name": "stdout",
          "text": [
            "{0: 0, 1: 1, 2: 4, 3: 9, 4: 16, 5: 25, 6: 36, 7: 49, 8: 64, 9: 81}\n"
          ]
        }
      ]
    },
    {
      "cell_type": "code",
      "source": [
        "# 集合 Set\n",
        "ani = {'cat', 'dog', 'pig'}\n",
        "print(type(ani))\n",
        "print(ani)\n",
        "ani.add('monkey')\n",
        "print('cat' in ani)\n",
        "print('monkey' in ani)\n",
        "ani.remove('pig')\n",
        "print(ani)"
      ],
      "metadata": {
        "colab": {
          "base_uri": "https://localhost:8080/"
        },
        "id": "Am_DGKlWa0oU",
        "outputId": "e969fefb-cc7f-484f-8f2c-ebd3bcfb5517"
      },
      "execution_count": null,
      "outputs": [
        {
          "output_type": "stream",
          "name": "stdout",
          "text": [
            "<class 'set'>\n",
            "{'dog', 'cat', 'pig'}\n",
            "True\n",
            "True\n",
            "{'monkey', 'dog', 'cat'}\n"
          ]
        }
      ]
    },
    {
      "cell_type": "code",
      "source": [
        "A = {1, 1, 3, 5, 7}\n",
        "B = {2, 5, 6, 44}\n",
        "\n",
        "print(A & B)\n",
        "print(A.intersection(B))\n",
        "\n",
        "print(A | B)\n",
        "print(A.union(B))\n",
        "\n",
        "print(A - B)\n",
        "print(A.difference(B))"
      ],
      "metadata": {
        "colab": {
          "base_uri": "https://localhost:8080/"
        },
        "id": "-UPaGuznbTJI",
        "outputId": "e00ddf9c-2ff4-43e9-f4c3-eaa7c71dc3ee"
      },
      "execution_count": null,
      "outputs": [
        {
          "output_type": "stream",
          "name": "stdout",
          "text": [
            "{5}\n",
            "{5}\n",
            "{1, 2, 3, 5, 6, 7, 44}\n",
            "{1, 2, 3, 5, 6, 7, 44}\n",
            "{1, 3, 7}\n",
            "{1, 3, 7}\n"
          ]
        }
      ]
    },
    {
      "cell_type": "code",
      "source": [
        "# 元組 Tuple ，資料內容不可以被修改\n",
        "t = (5, 6, 7, 8)\n",
        "print(type(t))\n",
        "print(t[0])\n"
      ],
      "metadata": {
        "colab": {
          "base_uri": "https://localhost:8080/"
        },
        "id": "WsMaDs30HwFH",
        "outputId": "a713724a-6b4c-4665-c0c8-027e72290896"
      },
      "execution_count": null,
      "outputs": [
        {
          "output_type": "stream",
          "name": "stdout",
          "text": [
            "<class 'tuple'>\n",
            "5\n"
          ]
        }
      ]
    },
    {
      "cell_type": "code",
      "source": [
        "# class -> OO(Object Oriented)\n",
        "class Student:\n",
        "  # 類別建構子\n",
        "  def __init__(self, name, grade):\n",
        "    self.name = name\n",
        "    self.grade = grade\n",
        "\n",
        "  def displayStudent(self):\n",
        "    print('姓名: ' + self.name)\n",
        "    print('成績: ' + str(self.grade))\n",
        "\n",
        "  def whoami(self):\n",
        "    return self.name"
      ],
      "metadata": {
        "id": "-z5wd-dcJWWA"
      },
      "execution_count": null,
      "outputs": []
    },
    {
      "cell_type": "code",
      "source": [
        "s1 = Student('RayWu', 85)\n",
        "s1.displayStudent()\n",
        "s1.whoami()"
      ],
      "metadata": {
        "colab": {
          "base_uri": "https://localhost:8080/",
          "height": 70
        },
        "id": "wcFmA0xpLKMQ",
        "outputId": "8fa4f23e-4a90-429b-9339-dbcf1c4a3e76"
      },
      "execution_count": null,
      "outputs": [
        {
          "output_type": "stream",
          "name": "stdout",
          "text": [
            "姓名: RayWu\n",
            "成績: 85\n"
          ]
        },
        {
          "output_type": "execute_result",
          "data": {
            "text/plain": [
              "'RayWu'"
            ],
            "application/vnd.google.colaboratory.intrinsic+json": {
              "type": "string"
            }
          },
          "metadata": {},
          "execution_count": 10
        }
      ]
    }
  ]
}