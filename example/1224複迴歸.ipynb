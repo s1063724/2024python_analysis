{
  "nbformat": 4,
  "nbformat_minor": 0,
  "metadata": {
    "colab": {
      "provenance": [],
      "authorship_tag": "ABX9TyObqIidAgFbpPCRSQ6BPGYO",
      "include_colab_link": true
    },
    "kernelspec": {
      "name": "python3",
      "display_name": "Python 3"
    },
    "language_info": {
      "name": "python"
    }
  },
  "cells": [
    {
      "cell_type": "markdown",
      "metadata": {
        "id": "view-in-github",
        "colab_type": "text"
      },
      "source": [
        "<a href=\"https://colab.research.google.com/github/s1063724/2024python_analysis/blob/main/example/1224%E8%A4%87%E8%BF%B4%E6%AD%B8.ipynb\" target=\"_parent\"><img src=\"https://colab.research.google.com/assets/colab-badge.svg\" alt=\"Open In Colab\"/></a>"
      ]
    },
    {
      "cell_type": "code",
      "execution_count": 10,
      "metadata": {
        "id": "EJbc4hPFPOOJ"
      },
      "outputs": [],
      "source": [
        "# 運用獲得的資料 -> AI -> 資料分析, 或是建立模型去協助人類預測或是回答問題\n",
        "# AI: 機器學習 (ML, Machine Learning); 類神經網路 (NN, Neuro Network)\n",
        "# ML: 單純線性迴歸 (Smiple Liner Regression) y = ax + b\n",
        "# 多元線性迴歸: y = a1x1 + a2x2 + a3x3 +..... + b\n",
        "# 波士頓房價\n",
        "# CRIM 城鎮犯罪率; ZN 住宅用地超過 700 坪; INDUS 非商業用地比例; NOX; CHAS 河; RM 房間數; AGE: 房齡;\n",
        "# DIS 就業中心距離, RAD 重要幹道, TAX 稅率, PTRATIO 師生比率,  B 黑人比率\n",
        "# LSTAT -> 房價\n",
        "\n",
        "from sklearn import datasets\n",
        "#data = datasets.load_boston().data 資料集已被取消\n",
        "\n",
        "import pandas as pd\n",
        "import numpy as np\n",
        "\n",
        "data_url = \"http://lib.stat.cmu.edu/datasets/boston\"\n",
        "raw_df = pd.read_csv(data_url, sep=\"\\s+\", skiprows=22, header=None)\n",
        "data = np.hstack([raw_df.values[::2, :], raw_df.values[1::2, :2]])\n",
        "target = raw_df.values[1::2, 2]"
      ]
    },
    {
      "cell_type": "code",
      "source": [
        "data"
      ],
      "metadata": {
        "colab": {
          "base_uri": "https://localhost:8080/"
        },
        "id": "_DMDXfeDTgNO",
        "outputId": "772945e2-f771-43ed-8125-9b3d8bee9843"
      },
      "execution_count": 11,
      "outputs": [
        {
          "output_type": "execute_result",
          "data": {
            "text/plain": [
              "array([[6.3200e-03, 1.8000e+01, 2.3100e+00, ..., 1.5300e+01, 3.9690e+02,\n",
              "        4.9800e+00],\n",
              "       [2.7310e-02, 0.0000e+00, 7.0700e+00, ..., 1.7800e+01, 3.9690e+02,\n",
              "        9.1400e+00],\n",
              "       [2.7290e-02, 0.0000e+00, 7.0700e+00, ..., 1.7800e+01, 3.9283e+02,\n",
              "        4.0300e+00],\n",
              "       ...,\n",
              "       [6.0760e-02, 0.0000e+00, 1.1930e+01, ..., 2.1000e+01, 3.9690e+02,\n",
              "        5.6400e+00],\n",
              "       [1.0959e-01, 0.0000e+00, 1.1930e+01, ..., 2.1000e+01, 3.9345e+02,\n",
              "        6.4800e+00],\n",
              "       [4.7410e-02, 0.0000e+00, 1.1930e+01, ..., 2.1000e+01, 3.9690e+02,\n",
              "        7.8800e+00]])"
            ]
          },
          "metadata": {},
          "execution_count": 11
        }
      ]
    },
    {
      "cell_type": "code",
      "source": [
        "#資料切割: 80% 模型的訓練; 20% 驗證模型的準確性\n",
        "from sklearn.model_selection import train_test_split\n",
        "data_train, data_test, target_train, target_test = train_test_split(data, target, test_size=0.2)\n",
        "print(data_train.shape)\n",
        "print(data_test.shape)\n",
        "\n",
        "print(target_train.shape)\n",
        "print(target_test.shape)"
      ],
      "metadata": {
        "colab": {
          "base_uri": "https://localhost:8080/"
        },
        "id": "_OumC_ZvTiVX",
        "outputId": "e27e23a2-ebb6-44eb-9c01-a752fb90fd78"
      },
      "execution_count": 12,
      "outputs": [
        {
          "output_type": "stream",
          "name": "stdout",
          "text": [
            "(404, 13)\n",
            "(102, 13)\n",
            "(404,)\n",
            "(102,)\n"
          ]
        }
      ]
    },
    {
      "cell_type": "code",
      "source": [
        "#建立一個多元線性迴歸的預測模型\n",
        "from sklearn.linear_model import LinearRegression\n",
        "regr_model = LinearRegression()\n",
        "regr_model.fit(data_train, target_train)"
      ],
      "metadata": {
        "colab": {
          "base_uri": "https://localhost:8080/",
          "height": 74
        },
        "id": "1V8qtzPnZVwY",
        "outputId": "8602e27b-bcdd-4a79-b9e5-e6560fd9d42e"
      },
      "execution_count": 13,
      "outputs": [
        {
          "output_type": "execute_result",
          "data": {
            "text/plain": [
              "LinearRegression()"
            ],
            "text/html": [
              "<style>#sk-container-id-2 {color: black;background-color: white;}#sk-container-id-2 pre{padding: 0;}#sk-container-id-2 div.sk-toggleable {background-color: white;}#sk-container-id-2 label.sk-toggleable__label {cursor: pointer;display: block;width: 100%;margin-bottom: 0;padding: 0.3em;box-sizing: border-box;text-align: center;}#sk-container-id-2 label.sk-toggleable__label-arrow:before {content: \"▸\";float: left;margin-right: 0.25em;color: #696969;}#sk-container-id-2 label.sk-toggleable__label-arrow:hover:before {color: black;}#sk-container-id-2 div.sk-estimator:hover label.sk-toggleable__label-arrow:before {color: black;}#sk-container-id-2 div.sk-toggleable__content {max-height: 0;max-width: 0;overflow: hidden;text-align: left;background-color: #f0f8ff;}#sk-container-id-2 div.sk-toggleable__content pre {margin: 0.2em;color: black;border-radius: 0.25em;background-color: #f0f8ff;}#sk-container-id-2 input.sk-toggleable__control:checked~div.sk-toggleable__content {max-height: 200px;max-width: 100%;overflow: auto;}#sk-container-id-2 input.sk-toggleable__control:checked~label.sk-toggleable__label-arrow:before {content: \"▾\";}#sk-container-id-2 div.sk-estimator input.sk-toggleable__control:checked~label.sk-toggleable__label {background-color: #d4ebff;}#sk-container-id-2 div.sk-label input.sk-toggleable__control:checked~label.sk-toggleable__label {background-color: #d4ebff;}#sk-container-id-2 input.sk-hidden--visually {border: 0;clip: rect(1px 1px 1px 1px);clip: rect(1px, 1px, 1px, 1px);height: 1px;margin: -1px;overflow: hidden;padding: 0;position: absolute;width: 1px;}#sk-container-id-2 div.sk-estimator {font-family: monospace;background-color: #f0f8ff;border: 1px dotted black;border-radius: 0.25em;box-sizing: border-box;margin-bottom: 0.5em;}#sk-container-id-2 div.sk-estimator:hover {background-color: #d4ebff;}#sk-container-id-2 div.sk-parallel-item::after {content: \"\";width: 100%;border-bottom: 1px solid gray;flex-grow: 1;}#sk-container-id-2 div.sk-label:hover label.sk-toggleable__label {background-color: #d4ebff;}#sk-container-id-2 div.sk-serial::before {content: \"\";position: absolute;border-left: 1px solid gray;box-sizing: border-box;top: 0;bottom: 0;left: 50%;z-index: 0;}#sk-container-id-2 div.sk-serial {display: flex;flex-direction: column;align-items: center;background-color: white;padding-right: 0.2em;padding-left: 0.2em;position: relative;}#sk-container-id-2 div.sk-item {position: relative;z-index: 1;}#sk-container-id-2 div.sk-parallel {display: flex;align-items: stretch;justify-content: center;background-color: white;position: relative;}#sk-container-id-2 div.sk-item::before, #sk-container-id-2 div.sk-parallel-item::before {content: \"\";position: absolute;border-left: 1px solid gray;box-sizing: border-box;top: 0;bottom: 0;left: 50%;z-index: -1;}#sk-container-id-2 div.sk-parallel-item {display: flex;flex-direction: column;z-index: 1;position: relative;background-color: white;}#sk-container-id-2 div.sk-parallel-item:first-child::after {align-self: flex-end;width: 50%;}#sk-container-id-2 div.sk-parallel-item:last-child::after {align-self: flex-start;width: 50%;}#sk-container-id-2 div.sk-parallel-item:only-child::after {width: 0;}#sk-container-id-2 div.sk-dashed-wrapped {border: 1px dashed gray;margin: 0 0.4em 0.5em 0.4em;box-sizing: border-box;padding-bottom: 0.4em;background-color: white;}#sk-container-id-2 div.sk-label label {font-family: monospace;font-weight: bold;display: inline-block;line-height: 1.2em;}#sk-container-id-2 div.sk-label-container {text-align: center;}#sk-container-id-2 div.sk-container {/* jupyter's `normalize.less` sets `[hidden] { display: none; }` but bootstrap.min.css set `[hidden] { display: none !important; }` so we also need the `!important` here to be able to override the default hidden behavior on the sphinx rendered scikit-learn.org. See: https://github.com/scikit-learn/scikit-learn/issues/21755 */display: inline-block !important;position: relative;}#sk-container-id-2 div.sk-text-repr-fallback {display: none;}</style><div id=\"sk-container-id-2\" class=\"sk-top-container\"><div class=\"sk-text-repr-fallback\"><pre>LinearRegression()</pre><b>In a Jupyter environment, please rerun this cell to show the HTML representation or trust the notebook. <br />On GitHub, the HTML representation is unable to render, please try loading this page with nbviewer.org.</b></div><div class=\"sk-container\" hidden><div class=\"sk-item\"><div class=\"sk-estimator sk-toggleable\"><input class=\"sk-toggleable__control sk-hidden--visually\" id=\"sk-estimator-id-2\" type=\"checkbox\" checked><label for=\"sk-estimator-id-2\" class=\"sk-toggleable__label sk-toggleable__label-arrow\">LinearRegression</label><div class=\"sk-toggleable__content\"><pre>LinearRegression()</pre></div></div></div></div></div>"
            ]
          },
          "metadata": {},
          "execution_count": 13
        }
      ]
    },
    {
      "cell_type": "code",
      "source": [
        "pre = regr_model.predict(data_test)\n",
        "# 預測結果(取小數第一位)\n",
        "print(pre.round(1))\n",
        "# 實際價錢\n",
        "print(target_test)\n"
      ],
      "metadata": {
        "colab": {
          "base_uri": "https://localhost:8080/"
        },
        "id": "Zdo3Rjw3bkXX",
        "outputId": "08e264f3-5740-42b1-8d6e-dde68c41cc32"
      },
      "execution_count": 14,
      "outputs": [
        {
          "output_type": "stream",
          "name": "stdout",
          "text": [
            "[16.9 19.1 26.8 25.4 21.5 18.2 19.5 19.4 22.4 39.  24.9 20.6  9.3 33.9\n",
            " 22.5  6.8 21.8 28.2 20.3 18.9 13.4 21.6 23.6 34.8 21.7 20.4 11.3 27.6\n",
            " 27.7 36.8 36.9 35.  13.4 32.2 18.2 21.8 38.9 27.5 18.5 32.7 16.1 21.7\n",
            " 16.1 20.6 27.4 14.6 25.1 20.  19.3 18.9 24.5 20.6 29.4 33.7 34.9 24.1\n",
            " 20.5 19.  26.6 16.3 25.5 21.4 19.6 22.5 22.3 14.1 38.7 21.6 10.  20.\n",
            " 22.5 19.8 28.1 15.7 27.1 24.9 27.  23.8 19.5 26.8 24.6 17.3 31.5 27.4\n",
            " 13.4 12.4 24.9 34.2 36.5 21.9 23.1 32.2  6.6 33.4 22.7 25.  21.8 17.6\n",
            " 20.   0.3 22.4 17.4]\n",
            "[17.5 20.  20.7 26.5 19.6 19.9 18.5 27.1 19.8 21.9 21.7 13.8 23.7 35.4\n",
            " 17.8 10.4 21.1 28.6 19.5 16.1  8.3 17.8 23.4 34.6 15.6 18.7 13.8 25.\n",
            " 36.2 33.2 50.  38.7 15.6 28.2 17.5 18.9 50.  26.6 18.2 30.3 23.1 20.6\n",
            " 15.6 20.5 23.2 10.4 22.9 16.7 18.5 19.6 24.4 19.3 24.3 39.8 50.  24.3\n",
            " 21.7 20.8 22.3 10.2 22.2 21.7 15.2 17.4 16.5 13.1 43.5 19.8  9.7 20.4\n",
            " 20.9 20.  28.7 15.6 23.9 22.7 22.  20.1 27.5 25.2 22.7 13.9 30.8 26.6\n",
            " 13.9 15.2 21.6 26.7 48.3 20.6 20.8 37.2  8.8 37.9 21.2 21.9 19.3 14.9\n",
            " 20.5 13.8 20.3 17.4]\n"
          ]
        }
      ]
    },
    {
      "cell_type": "code",
      "source": [
        "#模型的評估方法\n",
        "\n",
        "#模型評估方法 1：決定係數 (迴歸)\n",
        "# 訓練分數\n",
        "print(regr_model.score(data_train, target_train).round(3))\n",
        "# 0 - 1 之間, 至少大於 0.7, 0.999(工業領域誤差不能太大)\n",
        "# 驗證分數\n",
        "print(regr_model.score(data_test, target_test).round(3))\n",
        "# 若驗證分數 、訓練分數差太大 -> Overfitting(過度訓練)\n",
        "#0.758\n",
        "#0.659"
      ],
      "metadata": {
        "colab": {
          "base_uri": "https://localhost:8080/"
        },
        "id": "Wx4zd0wXdTHr",
        "outputId": "1fb5e39c-c145-48cd-f07e-0aebca1d5b77"
      },
      "execution_count": 15,
      "outputs": [
        {
          "output_type": "stream",
          "name": "stdout",
          "text": [
            "0.748\n",
            "0.682\n"
          ]
        }
      ]
    },
    {
      "cell_type": "code",
      "source": [
        "# 第二種: 模型評估方法 2：圖形:殘差圖 (residual plot):若預測點'都'離迴歸線很遠表示不準確\n",
        "import matplotlib.pyplot as plt\n",
        "# 資料長度\n",
        "x = np.arange(pre.size)\n",
        "y = x*0\n",
        "plt.scatter(x, pre - target_test)\n",
        "plt.plot(x, y, color='orange') # 劃出 y= 0 的基礎線\n",
        "plt.show()"
      ],
      "metadata": {
        "colab": {
          "base_uri": "https://localhost:8080/",
          "height": 430
        },
        "id": "jmxPYjJogzKI",
        "outputId": "eb11f4dd-ee6f-4e68-d6b1-f2fbbb5eb12e"
      },
      "execution_count": 16,
      "outputs": [
        {
          "output_type": "display_data",
          "data": {
            "text/plain": [
              "<Figure size 640x480 with 1 Axes>"
            ],
            "image/png": "[encoded data removed]"
          },
          "metadata": {}
        }
      ]
    },
    {
      "cell_type": "code",
      "source": [
        "#模型評估方法 3：平均絕對誤差 (MAE, mean absolute error)\n",
        "from sklearn.metrics import mean_absolute_error\n",
        "# 測試資料答案跟預測結果\n",
        "print(mean_absolute_error(target_test, pre).round(2))"
      ],
      "metadata": {
        "colab": {
          "base_uri": "https://localhost:8080/"
        },
        "id": "iWEO5LChWf9R",
        "outputId": "555e6ee5-4644-442b-84d4-44fcb6387d1a"
      },
      "execution_count": 17,
      "outputs": [
        {
          "output_type": "stream",
          "name": "stdout",
          "text": [
            "3.41\n"
          ]
        }
      ]
    }
  ]
}