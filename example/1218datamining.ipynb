{
  "nbformat": 4,
  "nbformat_minor": 0,
  "metadata": {
    "colab": {
      "provenance": [],
      "authorship_tag": "ABX9TyO6f+IbRcRJiiIuzl45R2el",
      "include_colab_link": true
    },
    "kernelspec": {
      "name": "python3",
      "display_name": "Python 3"
    },
    "language_info": {
      "name": "python"
    }
  },
  "cells": [
    {
      "cell_type": "markdown",
      "metadata": {
        "id": "view-in-github",
        "colab_type": "text"
      },
      "source": [
        "<a href=\"https://colab.research.google.com/github/s1063724/2024python_analysis/blob/main/example/1218datamining.ipynb\" target=\"_parent\"><img src=\"https://colab.research.google.com/assets/colab-badge.svg\" alt=\"Open In Colab\"/></a>"
      ]
    },
    {
      "cell_type": "code",
      "source": [
        "print(sum(range(1,101)))"
      ],
      "metadata": {
        "colab": {
          "base_uri": "https://localhost:8080/"
        },
        "id": "04oEwfDX5XBm",
        "outputId": "175df7d6-62e8-45c8-fd56-efa458a513c6"
      },
      "execution_count": null,
      "outputs": [
        {
          "output_type": "stream",
          "name": "stdout",
          "text": [
            "5050\n"
          ]
        }
      ]
    },
    {
      "cell_type": "code",
      "source": [
        "a = 1 #integer\n",
        "b = \"hello\" #string '',\"\",\"\"\"\"\"\"\n",
        "a\n",
        "b"
      ],
      "metadata": {
        "colab": {
          "base_uri": "https://localhost:8080/",
          "height": 36
        },
        "id": "5L0_5SlqATMV",
        "outputId": "a7d58455-e7b1-472b-f044-e48a585af442"
      },
      "execution_count": null,
      "outputs": [
        {
          "output_type": "execute_result",
          "data": {
            "text/plain": [
              "'hello'"
            ],
            "application/vnd.google.colaboratory.intrinsic+json": {
              "type": "string"
            }
          },
          "metadata": {},
          "execution_count": 16
        }
      ]
    },
    {
      "cell_type": "code",
      "source": [
        "hello = \"Hello\"\n",
        "height = 178\n",
        "say_hi = hello\n",
        "print(say_hi)"
      ],
      "metadata": {
        "colab": {
          "base_uri": "https://localhost:8080/"
        },
        "id": "DbwnhGyhBkIa",
        "outputId": "ff33c6a8-8c8b-4b97-ef4a-66e42a8c267d"
      },
      "execution_count": null,
      "outputs": [
        {
          "output_type": "stream",
          "name": "stdout",
          "text": [
            "Hello\n"
          ]
        }
      ]
    },
    {
      "cell_type": "code",
      "source": [
        "weight = 70\n",
        "weight = weight + 2\n",
        "bmi =weight/height/height\n",
        "bmi\n",
        "print(bmi)"
      ],
      "metadata": {
        "colab": {
          "base_uri": "https://localhost:8080/"
        },
        "id": "8XFNz6wBCH6p",
        "outputId": "eab5c105-5e84-413d-9a99-adc918d44f06"
      },
      "execution_count": null,
      "outputs": [
        {
          "output_type": "stream",
          "name": "stdout",
          "text": [
            "0.0022724403484408536\n"
          ]
        }
      ]
    },
    {
      "cell_type": "code",
      "source": [
        "# 多重指定敘述\n",
        "score1 = score2 = score3 = 35\n",
        "print(score1, score2, score3)"
      ],
      "metadata": {
        "colab": {
          "base_uri": "https://localhost:8080/"
        },
        "id": "Q35zrR5yDgsd",
        "outputId": "457a3ed1-dd79-4095-c55a-ed0b94d497cf"
      },
      "execution_count": null,
      "outputs": [
        {
          "output_type": "stream",
          "name": "stdout",
          "text": [
            "35 35 35\n"
          ]
        }
      ]
    },
    {
      "cell_type": "code",
      "source": [
        "# 同時指定敘述\n",
        "x, y = 1, 2\n",
        "print(\"x = \",x, \"y = \", y)"
      ],
      "metadata": {
        "colab": {
          "base_uri": "https://localhost:8080/"
        },
        "id": "KOIjhAhpDxzV",
        "outputId": "1a503b1a-d032-46f5-f51a-c7902901ccd4"
      },
      "execution_count": null,
      "outputs": [
        {
          "output_type": "stream",
          "name": "stdout",
          "text": [
            "x =  1 y =  2\n"
          ]
        }
      ]
    },
    {
      "cell_type": "code",
      "source": [
        "x = 10  #integer\n",
        "print(type(x))\n",
        "y = 3.14  #float\n",
        "print(type(y))\n",
        "a = True  #booleans false\n",
        "print(type(a))\n",
        "b = \"monkey\"\n",
        "print(type(b))"
      ],
      "metadata": {
        "colab": {
          "base_uri": "https://localhost:8080/"
        },
        "id": "y_92RR-3EBOc",
        "outputId": "3774c3b1-3745-4c9d-c7c1-e33ef8d9b097"
      },
      "execution_count": null,
      "outputs": [
        {
          "output_type": "stream",
          "name": "stdout",
          "text": [
            "<class 'int'>\n",
            "<class 'float'>\n",
            "<class 'bool'>\n",
            "<class 'str'>\n"
          ]
        }
      ]
    },
    {
      "cell_type": "markdown",
      "source": [
        "numpy:array\n",
        "scipy:統計、資料處理\n",
        "pandas:dataframe\n",
        "matplotlib:繪圖\n",
        "sympy,sckit-image"
      ],
      "metadata": {
        "id": "Az6IKsL5FT0T"
      }
    },
    {
      "cell_type": "code",
      "source": [
        "import numpy as np\n",
        "from numpy import random\n",
        "import numpy.random as random\n",
        "import scipy as sp\n",
        "import pandas as pd\n",
        "from pandas import Series, DataFrame\n",
        "\n",
        "import matplotlib.pyplot as plt\n",
        "import matplotlib as mpl\n",
        "import seaborn as sns\n",
        "\n",
        "# 可省略掉plt.show()\n",
        "%matplotlib inline\n",
        "# 小數點位數2位\n",
        "%precision 2\n"
      ],
      "metadata": {
        "colab": {
          "base_uri": "https://localhost:8080/",
          "height": 36
        },
        "id": "A5Whq7x8FsU_",
        "outputId": "7d9d1b81-4a66-47fc-de6a-62b5fb3a87c8"
      },
      "execution_count": null,
      "outputs": [
        {
          "output_type": "execute_result",
          "data": {
            "text/plain": [
              "'%.2f'"
            ],
            "application/vnd.google.colaboratory.intrinsic+json": {
              "type": "string"
            }
          },
          "metadata": {},
          "execution_count": 22
        }
      ]
    },
    {
      "cell_type": "code",
      "source": [
        "data1 = np.array([9,3,4,0,6,7,8,1,5])\n",
        "data1"
      ],
      "metadata": {
        "colab": {
          "base_uri": "https://localhost:8080/"
        },
        "id": "FWyWH5YhHpfB",
        "outputId": "09f769a4-60e9-4d4f-c692-8d09ad0eb1ac"
      },
      "execution_count": null,
      "outputs": [
        {
          "output_type": "execute_result",
          "data": {
            "text/plain": [
              "array([9, 3, 4, 0, 6, 7, 8, 1, 5])"
            ]
          },
          "metadata": {},
          "execution_count": 23
        }
      ]
    },
    {
      "cell_type": "code",
      "source": [
        "#int64:有正負號的64位元整數\n",
        "data1.dtype"
      ],
      "metadata": {
        "colab": {
          "base_uri": "https://localhost:8080/"
        },
        "id": "gLmaVtDBH_ii",
        "outputId": "c863e2fe-6b55-4328-a879-ad6a78eb5781"
      },
      "execution_count": null,
      "outputs": [
        {
          "output_type": "execute_result",
          "data": {
            "text/plain": [
              "dtype('int64')"
            ]
          },
          "metadata": {},
          "execution_count": 24
        }
      ]
    },
    {
      "cell_type": "code",
      "source": [
        "print(\"維度: \", data1.ndim)\n",
        "print(\"元素: \", data1.size)"
      ],
      "metadata": {
        "colab": {
          "base_uri": "https://localhost:8080/"
        },
        "id": "6Ehy5aw9IOlx",
        "outputId": "5b063f44-acfc-4468-8924-f13a16504b55"
      },
      "execution_count": null,
      "outputs": [
        {
          "output_type": "stream",
          "name": "stdout",
          "text": [
            "維度:  1\n",
            "元素:  9\n"
          ]
        }
      ]
    },
    {
      "cell_type": "code",
      "source": [
        "data2 = data1 * 2"
      ],
      "metadata": {
        "id": "xLBrYW9uIoSA"
      },
      "execution_count": null,
      "outputs": []
    },
    {
      "cell_type": "code",
      "source": [
        "data3 = data1 * data2\n",
        "data3"
      ],
      "metadata": {
        "colab": {
          "base_uri": "https://localhost:8080/"
        },
        "id": "3ZSg8CHgIwAK",
        "outputId": "4ac12bbf-6288-4ec0-c475-a1ccb6be0294"
      },
      "execution_count": null,
      "outputs": [
        {
          "output_type": "execute_result",
          "data": {
            "text/plain": [
              "array([162,  18,  32,   0,  72,  98, 128,   2,  50])"
            ]
          },
          "metadata": {},
          "execution_count": 27
        }
      ]
    },
    {
      "cell_type": "code",
      "source": [
        "data4 = data3 / data1\n",
        "data4"
      ],
      "metadata": {
        "colab": {
          "base_uri": "https://localhost:8080/"
        },
        "id": "gu7o_MlDI_Ke",
        "outputId": "cbed024d-984f-4b80-f9da-29980cedce1d"
      },
      "execution_count": null,
      "outputs": [
        {
          "output_type": "stream",
          "name": "stderr",
          "text": [
            "<ipython-input-28-c4046be5b033>:1: RuntimeWarning: invalid value encountered in divide\n",
            "  data4 = data3 / data1\n"
          ]
        },
        {
          "output_type": "execute_result",
          "data": {
            "text/plain": [
              "array([18.,  6.,  8., nan, 12., 14., 16.,  2., 10.])"
            ]
          },
          "metadata": {},
          "execution_count": 28
        }
      ]
    },
    {
      "cell_type": "code",
      "source": [
        "print(data4.min())\n",
        "print(data4.max())\n",
        "print(data4.sum())\n",
        "print(data4.cumsum())# 累加"
      ],
      "metadata": {
        "colab": {
          "base_uri": "https://localhost:8080/"
        },
        "id": "_hr0r9jjJKiy",
        "outputId": "3f829b2d-d44f-4e3a-e1d9-51cedca20090"
      },
      "execution_count": null,
      "outputs": [
        {
          "output_type": "stream",
          "name": "stdout",
          "text": [
            "nan\n",
            "nan\n",
            "nan\n",
            "[18. 24. 32. nan nan nan nan nan nan]\n"
          ]
        }
      ]
    }
  ]
}