{
  "nbformat": 4,
  "nbformat_minor": 0,
  "metadata": {
    "colab": {
      "provenance": [],
      "authorship_tag": "ABX9TyNnea+MM+1B126G8gCWp2bO",
      "include_colab_link": true
    },
    "kernelspec": {
      "name": "python3",
      "display_name": "Python 3"
    },
    "language_info": {
      "name": "python"
    }
  },
  "cells": [
    {
      "cell_type": "markdown",
      "metadata": {
        "id": "view-in-github",
        "colab_type": "text"
      },
      "source": [
        "<a href=\"https://colab.research.google.com/github/s1063724/2024python_analysis/blob/main/example/1228.ipynb\" target=\"_parent\"><img src=\"https://colab.research.google.com/assets/colab-badge.svg\" alt=\"Open In Colab\"/></a>"
      ]
    },
    {
      "cell_type": "code",
      "execution_count": null,
      "metadata": {
        "id": "KXMFvBkdJ92S"
      },
      "outputs": [],
      "source": [
        "#list串列, Dictionary字典, set集合, tuple元組\n",
        "ls =[6, 5, 4] #list串列"
      ]
    },
    {
      "cell_type": "code",
      "source": [
        "ls\n",
        "print(ls, ls[2])\n",
        "ls[2] = 'py'\n",
        "ls"
      ],
      "metadata": {
        "colab": {
          "base_uri": "https://localhost:8080/"
        },
        "id": "aSWd9zx2acEL",
        "outputId": "67c7c058-ed06-43d7-e627-154f335539aa"
      },
      "execution_count": null,
      "outputs": [
        {
          "output_type": "stream",
          "name": "stdout",
          "text": [
            "[6, 5, 4] 4\n"
          ]
        },
        {
          "output_type": "execute_result",
          "data": {
            "text/plain": [
              "[6, 5, 'py']"
            ]
          },
          "metadata": {},
          "execution_count": 2
        }
      ]
    },
    {
      "cell_type": "code",
      "source": [
        "ls.append('bar')\n",
        "ls"
      ],
      "metadata": {
        "colab": {
          "base_uri": "https://localhost:8080/"
        },
        "id": "6JHRe199aeKc",
        "outputId": "e25deaed-034b-46ff-f983-7f8a33ac71e1"
      },
      "execution_count": null,
      "outputs": [
        {
          "output_type": "execute_result",
          "data": {
            "text/plain": [
              "[6, 5, 'py', 'bar']"
            ]
          },
          "metadata": {},
          "execution_count": 3
        }
      ]
    },
    {
      "cell_type": "code",
      "source": [
        "ls.pop()\n",
        "ls"
      ],
      "metadata": {
        "colab": {
          "base_uri": "https://localhost:8080/"
        },
        "id": "z1d4HTcgbk4W",
        "outputId": "2881268b-eddc-474d-a958-fe37d68558d1"
      },
      "execution_count": null,
      "outputs": [
        {
          "output_type": "execute_result",
          "data": {
            "text/plain": [
              "[6, 5, 'py']"
            ]
          },
          "metadata": {},
          "execution_count": 4
        }
      ]
    },
    {
      "cell_type": "code",
      "source": [
        "#串列 資料切割(抽取)\n",
        "nums = list(range(5))\n",
        "print(nums)\n",
        "print(nums[2:4])\n",
        "print(nums[:-1])"
      ],
      "metadata": {
        "colab": {
          "base_uri": "https://localhost:8080/"
        },
        "id": "z5hUv4iybqal",
        "outputId": "9bca0a80-7fa7-4631-d84c-668a5e23b5de"
      },
      "execution_count": null,
      "outputs": [
        {
          "output_type": "stream",
          "name": "stdout",
          "text": [
            "[0, 1, 2, 3, 4]\n",
            "[2, 3]\n",
            "[0, 1, 2, 3]\n"
          ]
        }
      ]
    },
    {
      "cell_type": "code",
      "source": [
        "#走訪串列\n",
        "ani = ['cat', 'dog', 'bat']\n",
        "for ani_kind in ani:\n",
        "  print(ani_kind,'--->')\n",
        "  print('-------------')\n",
        "print('access!')"
      ],
      "metadata": {
        "colab": {
          "base_uri": "https://localhost:8080/"
        },
        "id": "eXOMMryGcSdV",
        "outputId": "82aa86d0-f3af-4d9a-8db8-992d0aa9c06c"
      },
      "execution_count": null,
      "outputs": [
        {
          "output_type": "stream",
          "name": "stdout",
          "text": [
            "cat --->\n",
            "-------------\n",
            "dog --->\n",
            "-------------\n",
            "bat --->\n",
            "-------------\n",
            "access!\n"
          ]
        }
      ]
    },
    {
      "cell_type": "code",
      "source": [
        "for index, ani_kind in enumerate(ani):  #顯示晚整的資料\n",
        "  print(index, ani_kind)\n"
      ],
      "metadata": {
        "colab": {
          "base_uri": "https://localhost:8080/"
        },
        "id": "lPhOPNGtdkl8",
        "outputId": "47fef87b-83f3-461c-da0e-95baf69989ef"
      },
      "execution_count": null,
      "outputs": [
        {
          "output_type": "stream",
          "name": "stdout",
          "text": [
            "0 cat\n",
            "1 dog\n",
            "2 bat\n"
          ]
        }
      ]
    },
    {
      "cell_type": "code",
      "source": [
        "#串列生成式\n",
        "list1 = [x for x in range(10)]\n",
        "print(type(list1))\n",
        "print(list1)\n",
        "list2 = [x+1 for x in range(10)]\n",
        "print(list2)\n",
        "list3 = [x for x in range(10) if x%2 == 0]\n",
        "print(list3)\n",
        "list4 = [x*2 for x in range(10) if x%2 == 0]\n",
        "print(list4)"
      ],
      "metadata": {
        "colab": {
          "base_uri": "https://localhost:8080/"
        },
        "id": "9LzyyN5J4qPI",
        "outputId": "cb7142c0-bfc9-43db-d761-79fc131538a5"
      },
      "execution_count": null,
      "outputs": [
        {
          "output_type": "stream",
          "name": "stdout",
          "text": [
            "<class 'list'>\n",
            "[0, 1, 2, 3, 4, 5, 6, 7, 8, 9]\n",
            "[1, 2, 3, 4, 5, 6, 7, 8, 9, 10]\n",
            "[0, 2, 4, 6, 8]\n",
            "[0, 4, 8, 12, 16]\n"
          ]
        }
      ]
    },
    {
      "cell_type": "code",
      "source": [
        "#字典dictionary, dict\n",
        "#[key:value]\n",
        "\n",
        "d = {'cat':'white', 'dog':'black', 'fish':'gold'}\n",
        "print(d)\n",
        "print(type(d))\n",
        "print(d['cat'])\n",
        "\n",
        "#資料新增\n",
        "d['snake'] = 'green'\n",
        "print(d)\n",
        "#資料修改\n",
        "d['snake'] = 'yello'\n",
        "print(d)\n",
        "\n",
        "print(d.get('monkey', 'not find!'))\n",
        "print(d.get('snake', 'not find!'))\n",
        "\n",
        "#資料刪除\n",
        "del d['snake']\n",
        "print(d)"
      ],
      "metadata": {
        "colab": {
          "base_uri": "https://localhost:8080/"
        },
        "id": "zV4MlkcD5INB",
        "outputId": "337ff6db-2935-403a-b5de-10f8d00e350e"
      },
      "execution_count": null,
      "outputs": [
        {
          "output_type": "stream",
          "name": "stdout",
          "text": [
            "{'cat': 'white', 'dog': 'black', 'fish': 'gold'}\n",
            "<class 'dict'>\n",
            "white\n",
            "{'cat': 'white', 'dog': 'black', 'fish': 'gold', 'snake': 'green'}\n",
            "{'cat': 'white', 'dog': 'black', 'fish': 'gold', 'snake': 'yello'}\n",
            "not find!\n",
            "yello\n",
            "{'cat': 'white', 'dog': 'black', 'fish': 'gold'}\n"
          ]
        }
      ]
    },
    {
      "cell_type": "code",
      "source": [
        "#資典走訪\n",
        "for ani in d:\n",
        "  color = d[ani]\n",
        "  print(ani, \"'s color is \", color, '.')\n"
      ],
      "metadata": {
        "colab": {
          "base_uri": "https://localhost:8080/"
        },
        "id": "G6tQxVFU7Lcd",
        "outputId": "ba679cd9-d7b1-4c21-feaf-1dbf22ce26c5"
      },
      "execution_count": null,
      "outputs": [
        {
          "output_type": "stream",
          "name": "stdout",
          "text": [
            "cat 's color is  white .\n",
            "dog 's color is  black .\n",
            "fish 's color is  gold .\n"
          ]
        }
      ]
    },
    {
      "cell_type": "code",
      "source": [
        "for ani, color in d.items():\n",
        "  print(\"animal: \", ani, \"'s color is \", color, '.')"
      ],
      "metadata": {
        "colab": {
          "base_uri": "https://localhost:8080/"
        },
        "id": "lTZmDqop82dE",
        "outputId": "2145e08e-058b-4b20-d708-280a752476dd"
      },
      "execution_count": null,
      "outputs": [
        {
          "output_type": "stream",
          "name": "stdout",
          "text": [
            "animal:  cat 's color is  white .\n",
            "animal:  dog 's color is  black .\n",
            "animal:  fish 's color is  gold .\n"
          ]
        }
      ]
    },
    {
      "cell_type": "code",
      "source": [
        "# 資典生成式\n",
        "d1 = {x:x*x for x in range(10)}\n",
        "print(type(d1))\n",
        "print(d1)"
      ],
      "metadata": {
        "colab": {
          "base_uri": "https://localhost:8080/"
        },
        "id": "6NOILTSa9zXR",
        "outputId": "aedc426b-18a3-406f-a492-359fe60e28b2"
      },
      "execution_count": null,
      "outputs": [
        {
          "output_type": "stream",
          "name": "stdout",
          "text": [
            "<class 'dict'>\n",
            "{0: 0, 1: 1, 2: 4, 3: 9, 4: 16, 5: 25, 6: 36, 7: 49, 8: 64, 9: 81}\n"
          ]
        }
      ]
    },
    {
      "cell_type": "code",
      "source": [
        "# 集合set\n",
        "ani = {'cat', 'dog', 'pig'}\n",
        "ani.add('monkey')\n",
        "\n",
        "print(type(ani))\n",
        "print(ani)\n",
        "print('monkey' in ani)"
      ],
      "metadata": {
        "colab": {
          "base_uri": "https://localhost:8080/"
        },
        "id": "FINP6mQ3-POb",
        "outputId": "b8c35ef2-a983-4323-d2b2-891f676e5cd8"
      },
      "execution_count": null,
      "outputs": [
        {
          "output_type": "stream",
          "name": "stdout",
          "text": [
            "<class 'set'>\n",
            "{'pig', 'cat', 'monkey', 'dog'}\n",
            "True\n"
          ]
        }
      ]
    },
    {
      "cell_type": "code",
      "source": [
        "A = {1, 1, 4, 6, 2}\n",
        "B = {2, 3, 5, 2, 1}\n",
        "print(type(A))\n",
        "print(A & B)\n",
        "print(A.intersection(B))\n",
        "\n",
        "print(A | B)\n",
        "print(A.union(B))\n",
        "\n",
        "print(A - B)\n",
        "print(A.difference(B))"
      ],
      "metadata": {
        "colab": {
          "base_uri": "https://localhost:8080/"
        },
        "id": "hIhXvl5n-yqJ",
        "outputId": "685095c0-6cbf-492a-cddf-0fb796f742b5"
      },
      "execution_count": null,
      "outputs": [
        {
          "output_type": "stream",
          "name": "stdout",
          "text": [
            "<class 'set'>\n",
            "{1, 2}\n",
            "{1, 2}\n",
            "{1, 2, 3, 4, 5, 6}\n",
            "{1, 2, 3, 4, 5, 6}\n",
            "{4, 6}\n",
            "{4, 6}\n"
          ]
        }
      ]
    },
    {
      "cell_type": "code",
      "source": [
        "# 元組tuple(類似串列的容器，唯獨)\n",
        "t = (5, 6, 7, 8)\n",
        "print(type(t))\n",
        "print(t[0])"
      ],
      "metadata": {
        "colab": {
          "base_uri": "https://localhost:8080/"
        },
        "id": "y_Du7itEADCZ",
        "outputId": "0f6625fe-5725-45fc-b94c-353261e13583"
      },
      "execution_count": null,
      "outputs": [
        {
          "output_type": "stream",
          "name": "stdout",
          "text": [
            "<class 'tuple'>\n",
            "5\n"
          ]
        }
      ]
    },
    {
      "cell_type": "code",
      "source": [
        "t[0] = 20;  #tuple不支持修改內容"
      ],
      "metadata": {
        "colab": {
          "base_uri": "https://localhost:8080/",
          "height": 178
        },
        "id": "zpm_WY1TH6Ax",
        "outputId": "4fe05b46-dc2d-460d-a61b-f4219d98b86b"
      },
      "execution_count": null,
      "outputs": [
        {
          "output_type": "error",
          "ename": "TypeError",
          "evalue": "ignored",
          "traceback": [
            "\u001b[0;31m---------------------------------------------------------------------------\u001b[0m",
            "\u001b[0;31mTypeError\u001b[0m                                 Traceback (most recent call last)",
            "\u001b[0;32m<ipython-input-20-2ac438bedaed>\u001b[0m in \u001b[0;36m<cell line: 1>\u001b[0;34m()\u001b[0m\n\u001b[0;32m----> 1\u001b[0;31m \u001b[0mt\u001b[0m\u001b[0;34m[\u001b[0m\u001b[0;36m0\u001b[0m\u001b[0;34m]\u001b[0m \u001b[0;34m=\u001b[0m \u001b[0;36m20\u001b[0m\u001b[0;34m;\u001b[0m\u001b[0;34m\u001b[0m\u001b[0;34m\u001b[0m\u001b[0m\n\u001b[0m",
            "\u001b[0;31mTypeError\u001b[0m: 'tuple' object does not support item assignment"
          ]
        }
      ]
    },
    {
      "cell_type": "code",
      "source": [
        "#class ->OO(Object Oriented)\n",
        "#類別建構子\n",
        "class Student:\n",
        "  def __init__(self, name, grade):\n",
        "    self.name = name\n",
        "    self.grade = grade\n",
        "  def displayStudent(self):\n",
        "    print(\"姓名 : \"+self.name)\n",
        "    print(\"成績 : \"+str(self.grade))\n",
        "  def whoami(self):\n",
        "    return self.name"
      ],
      "metadata": {
        "id": "PtcrWFKBH88B"
      },
      "execution_count": null,
      "outputs": []
    },
    {
      "cell_type": "code",
      "source": [
        "s1 = Student(\"Ray\",95)\n",
        "s1.displayStudent()\n",
        "s1.whoami()"
      ],
      "metadata": {
        "colab": {
          "base_uri": "https://localhost:8080/",
          "height": 70
        },
        "id": "oJwskfHiKnYg",
        "outputId": "f4e01ed4-3c84-4df0-b011-83255d12444a"
      },
      "execution_count": null,
      "outputs": [
        {
          "output_type": "stream",
          "name": "stdout",
          "text": [
            "姓名 : Ray\n",
            "成績 : 95\n"
          ]
        },
        {
          "output_type": "execute_result",
          "data": {
            "text/plain": [
              "'Ray'"
            ],
            "application/vnd.google.colaboratory.intrinsic+json": {
              "type": "string"
            }
          },
          "metadata": {},
          "execution_count": 23
        }
      ]
    },
    {
      "cell_type": "code",
      "source": [],
      "metadata": {
        "id": "hsFpv-HBKzRV"
      },
      "execution_count": null,
      "outputs": []
    }
  ]
}