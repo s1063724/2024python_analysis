{
  "nbformat": 4,
  "nbformat_minor": 0,
  "metadata": {
    "colab": {
      "provenance": [],
      "authorship_tag": "ABX9TyNYG3PzARuLACUxGe2hDDMi",
      "include_colab_link": true
    },
    "kernelspec": {
      "name": "python3",
      "display_name": "Python 3"
    },
    "language_info": {
      "name": "python"
    }
  },
  "cells": [
    {
      "cell_type": "markdown",
      "metadata": {
        "id": "view-in-github",
        "colab_type": "text"
      },
      "source": [
        "<a href=\"https://colab.research.google.com/github/s1063724/2024python_analysis/blob/main/example/0108pandas.ipynb\" target=\"_parent\"><img src=\"https://colab.research.google.com/assets/colab-badge.svg\" alt=\"Open In Colab\"/></a>"
      ]
    },
    {
      "cell_type": "code",
      "execution_count": null,
      "metadata": {
        "colab": {
          "base_uri": "https://localhost:8080/"
        },
        "id": "aqgAwfXOT9-8",
        "outputId": "0d8db29e-d146-4618-f7b1-9e389fd89961"
      },
      "outputs": [
        {
          "output_type": "stream",
          "name": "stdout",
          "text": [
            "蘋果    12\n",
            "橘子    29\n",
            "梨子    72\n",
            "櫻桃     4\n",
            "蓮霧     8\n",
            "釋迦    10\n",
            "dtype: int64\n"
          ]
        }
      ],
      "source": [
        "# pandas -> python and data analysis\n",
        "# 索引陣列結構series, dataframe物件\n",
        "# 多層次的階層索引\n",
        "# Agrregating, Transdorm\n",
        "# 檔案讀取，轉換，純存\n",
        "\n",
        "import pandas as pd\n",
        "\n",
        "# 自訂索引\n",
        "fruits = ['蘋果', '橘子', '梨子', '櫻桃', '蓮霧', '釋迦']\n",
        "s = pd.Series([12, 29, 72, 4, 8, 10], index = fruits)\n",
        "print(s)\n"
      ]
    },
    {
      "cell_type": "code",
      "source": [
        "print('橘子 = ', s['橘子'])\n",
        "print(s[['梨子', '蓮霧', '釋迦']])\n",
        "print()\n",
        "print((s+2)*3)"
      ],
      "metadata": {
        "colab": {
          "base_uri": "https://localhost:8080/"
        },
        "id": "49lCAdJ5XD_k",
        "outputId": "0718c796-2d9c-4d88-aac8-9c3513c37075"
      },
      "execution_count": null,
      "outputs": [
        {
          "output_type": "stream",
          "name": "stdout",
          "text": [
            "橘子 =  29\n",
            "梨子    72\n",
            "蓮霧     8\n",
            "釋迦    10\n",
            "dtype: int64\n",
            "\n",
            "蘋果     42\n",
            "橘子     93\n",
            "梨子    222\n",
            "櫻桃     18\n",
            "蓮霧     30\n",
            "釋迦     36\n",
            "dtype: int64\n"
          ]
        }
      ]
    },
    {
      "cell_type": "code",
      "source": [
        "# DataFrame (Excel, Table)\n",
        "# 資料來源: excel, csv, 資料庫, 字典dict\n",
        "dists = {'name' : ['中正區', '板橋區', '桃園區', '北屯區',\n",
        "         '安南區', '三民區', '大安區', '永和區',\n",
        "         '八德區', '前鎮區', '鳳山區', '信義區',\n",
        "         '新店區'],\n",
        "      'population' : [159598, 551452, 44287, 275207,\n",
        "              192327, 343203, 309835, 222531,\n",
        "              198473, 189623, 359125, 225561,\n",
        "              302070],\n",
        "      'city' : ['台北市', '新北市', '桃園市', '台中市',\n",
        "            '台南市', '高雄市', '台北市', '新北市',\n",
        "            '桃園市', '高雄市', '高雄市', '台北市',\n",
        "            '新北市']\n",
        "}\n",
        "ordinals = ['第一區', '第二區', '第三區', '第四區',\n",
        "            '第五區', '第六區', '第七區', '第八區',\n",
        "            '第九區', '第十區', '第十一區', '第十二區',\n",
        "            '第十三區']\n",
        "df1 = pd.DataFrame(dists)\n",
        "df = pd.DataFrame(dists, columns =['name', 'population', 'city'], index = ordinals)\n",
        "print(df1)\n",
        "print()\n",
        "print(df)"
      ],
      "metadata": {
        "colab": {
          "base_uri": "https://localhost:8080/"
        },
        "id": "Ah94YrpMZs5c",
        "outputId": "10fd9980-0b87-4916-e092-755318f68d40"
      },
      "execution_count": null,
      "outputs": [
        {
          "output_type": "stream",
          "name": "stdout",
          "text": [
            "   name  population city\n",
            "0   中正區      159598  台北市\n",
            "1   板橋區      551452  新北市\n",
            "2   桃園區       44287  桃園市\n",
            "3   北屯區      275207  台中市\n",
            "4   安南區      192327  台南市\n",
            "5   三民區      343203  高雄市\n",
            "6   大安區      309835  台北市\n",
            "7   永和區      222531  新北市\n",
            "8   八德區      198473  桃園市\n",
            "9   前鎮區      189623  高雄市\n",
            "10  鳳山區      359125  高雄市\n",
            "11  信義區      225561  台北市\n",
            "12  新店區      302070  新北市\n",
            "\n",
            "     name  population city\n",
            "第一區   中正區      159598  台北市\n",
            "第二區   板橋區      551452  新北市\n",
            "第三區   桃園區       44287  桃園市\n",
            "第四區   北屯區      275207  台中市\n",
            "第五區   安南區      192327  台南市\n",
            "第六區   三民區      343203  高雄市\n",
            "第七區   大安區      309835  台北市\n",
            "第八區   永和區      222531  新北市\n",
            "第九區   八德區      198473  桃園市\n",
            "第十區   前鎮區      189623  高雄市\n",
            "第十一區  鳳山區      359125  高雄市\n",
            "第十二區  信義區      225561  台北市\n",
            "第十三區  新店區      302070  新北市\n"
          ]
        }
      ]
    },
    {
      "cell_type": "code",
      "source": [
        "df.to_html('ex01.html')"
      ],
      "metadata": {
        "id": "vG2Jju4QdcM4"
      },
      "execution_count": null,
      "outputs": []
    },
    {
      "cell_type": "code",
      "source": [
        "# 城市變成索引值\n",
        "df2 = pd.DataFrame(dists, columns = ['name', 'population'], index = dists['city'])\n",
        "print(df2)"
      ],
      "metadata": {
        "colab": {
          "base_uri": "https://localhost:8080/"
        },
        "id": "aODBl8xYyzeY",
        "outputId": "d57c9ee1-4143-4d95-d3ba-25c5f95f3f94"
      },
      "execution_count": null,
      "outputs": [
        {
          "output_type": "stream",
          "name": "stdout",
          "text": [
            "    name  population\n",
            "台北市  中正區      159598\n",
            "新北市  板橋區      551452\n",
            "桃園市  桃園區       44287\n",
            "台中市  北屯區      275207\n",
            "台南市  安南區      192327\n",
            "高雄市  三民區      343203\n",
            "台北市  大安區      309835\n",
            "新北市  永和區      222531\n",
            "桃園市  八德區      198473\n",
            "高雄市  前鎮區      189623\n",
            "高雄市  鳳山區      359125\n",
            "台北市  信義區      225561\n",
            "新北市  新店區      302070\n"
          ]
        }
      ]
    },
    {
      "cell_type": "code",
      "source": [
        "# to_csv(), to_json, to_html, to_excel, to_sql\n",
        "# read_csv(), read_json, read_html, read_sql\n",
        "df.to_csv('dists2.csv', index = False, encoding = 'utf-8')\n",
        "df.to_json('dists2.json')"
      ],
      "metadata": {
        "id": "X8miAM8pz9zD"
      },
      "execution_count": null,
      "outputs": []
    },
    {
      "cell_type": "code",
      "source": [
        "print(df.head(3))\n",
        "print(df.tail(2))\n",
        "print(len(df))\n",
        "print(df.shape)"
      ],
      "metadata": {
        "colab": {
          "base_uri": "https://localhost:8080/"
        },
        "id": "wCEPqvDA2iYE",
        "outputId": "d9e1f0d0-312a-47bf-86fd-a3af6aeadeac"
      },
      "execution_count": null,
      "outputs": [
        {
          "output_type": "stream",
          "name": "stdout",
          "text": [
            "    name  population city\n",
            "第一區  中正區      159598  台北市\n",
            "第二區  板橋區      551452  新北市\n",
            "第三區  桃園區       44287  桃園市\n",
            "     name  population city\n",
            "第十二區  信義區      225561  台北市\n",
            "第十三區  新店區      302070  新北市\n",
            "13\n",
            "(13, 3)\n"
          ]
        }
      ]
    },
    {
      "cell_type": "code",
      "source": [
        "# 使用iterrows()函數走訪 DataFrame物件\n",
        "for index, row in df.iterrows():\n",
        "  print(index, '\\t', row['city'], '\\t', row['name'], '\\t', row['population'])\n",
        "  print('--------------------------------')"
      ],
      "metadata": {
        "colab": {
          "base_uri": "https://localhost:8080/"
        },
        "id": "l-QIPfVA3keL",
        "outputId": "89da105a-974c-4096-bc0f-d8d3322745d9"
      },
      "execution_count": null,
      "outputs": [
        {
          "output_type": "stream",
          "name": "stdout",
          "text": [
            "第一區 \t 台北市 \t 中正區 \t 159598\n",
            "--------------------------------\n",
            "第二區 \t 新北市 \t 板橋區 \t 551452\n",
            "--------------------------------\n",
            "第三區 \t 桃園市 \t 桃園區 \t 44287\n",
            "--------------------------------\n",
            "第四區 \t 台中市 \t 北屯區 \t 275207\n",
            "--------------------------------\n",
            "第五區 \t 台南市 \t 安南區 \t 192327\n",
            "--------------------------------\n",
            "第六區 \t 高雄市 \t 三民區 \t 343203\n",
            "--------------------------------\n",
            "第七區 \t 台北市 \t 大安區 \t 309835\n",
            "--------------------------------\n",
            "第八區 \t 新北市 \t 永和區 \t 222531\n",
            "--------------------------------\n",
            "第九區 \t 桃園市 \t 八德區 \t 198473\n",
            "--------------------------------\n",
            "第十區 \t 高雄市 \t 前鎮區 \t 189623\n",
            "--------------------------------\n",
            "第十一區 \t 高雄市 \t 鳳山區 \t 359125\n",
            "--------------------------------\n",
            "第十二區 \t 台北市 \t 信義區 \t 225561\n",
            "--------------------------------\n",
            "第十三區 \t 新北市 \t 新店區 \t 302070\n",
            "--------------------------------\n"
          ]
        }
      ]
    },
    {
      "cell_type": "code",
      "source": [
        "# DataFrame 資料的過濾和排序\n",
        "print(df.population > 350000)\n",
        "print('-----------------------')\n",
        "print(df['city'].isin(['台北市', '高雄市']))"
      ],
      "metadata": {
        "colab": {
          "base_uri": "https://localhost:8080/"
        },
        "id": "Us-5O2k-4EOh",
        "outputId": "2f2b2d85-ff03-4a96-d5b8-f7d628b39fda"
      },
      "execution_count": null,
      "outputs": [
        {
          "output_type": "stream",
          "name": "stdout",
          "text": [
            "第一區     False\n",
            "第二區      True\n",
            "第三區     False\n",
            "第四區     False\n",
            "第五區     False\n",
            "第六區     False\n",
            "第七區     False\n",
            "第八區     False\n",
            "第九區     False\n",
            "第十區     False\n",
            "第十一區     True\n",
            "第十二區    False\n",
            "第十三區    False\n",
            "Name: population, dtype: bool\n",
            "-----------------------\n",
            "第一區      True\n",
            "第二區     False\n",
            "第三區     False\n",
            "第四區     False\n",
            "第五區     False\n",
            "第六區      True\n",
            "第七區      True\n",
            "第八區     False\n",
            "第九區     False\n",
            "第十區      True\n",
            "第十一區     True\n",
            "第十二區     True\n",
            "第十三區    False\n",
            "Name: city, dtype: bool\n"
          ]
        }
      ]
    },
    {
      "cell_type": "code",
      "source": [
        "# 資料的新增與刪除\n",
        "df\n",
        "# 尋找\n",
        "df.loc['第一區'] = ['士林區', 288340, '台北市']\n",
        "print(df.tail(3))\n",
        "# 新增\n",
        "s = pd.Series({'city' : '新北市', 'name' : '中和區', 'population' : 413291})\n",
        "df3 =df.append(s, ignore_index=True)\n",
        "print(df3)\n",
        "\n"
      ],
      "metadata": {
        "colab": {
          "base_uri": "https://localhost:8080/"
        },
        "id": "AqayTSzmRvop",
        "outputId": "a08a1aab-64d7-4995-ff0d-a8beb3547344"
      },
      "execution_count": null,
      "outputs": [
        {
          "output_type": "stream",
          "name": "stdout",
          "text": [
            "     name  population city\n",
            "第十一區  鳳山區      359125  高雄市\n",
            "第十二區  信義區      225561  台北市\n",
            "第十三區  新店區      302070  新北市\n",
            "   name  population city\n",
            "0   士林區      288340  台北市\n",
            "1   板橋區      551452  新北市\n",
            "2   桃園區       44287  桃園市\n",
            "3   北屯區      275207  台中市\n",
            "4   安南區      192327  台南市\n",
            "5   三民區      343203  高雄市\n",
            "6   大安區      309835  台北市\n",
            "7   永和區      222531  新北市\n",
            "8   八德區      198473  桃園市\n",
            "9   前鎮區      189623  高雄市\n",
            "10  鳳山區      359125  高雄市\n",
            "11  信義區      225561  台北市\n",
            "12  新店區      302070  新北市\n",
            "13  中和區      413291  新北市\n"
          ]
        },
        {
          "output_type": "stream",
          "name": "stderr",
          "text": [
            "<ipython-input-59-66ea1eb196b5>:8: FutureWarning: The frame.append method is deprecated and will be removed from pandas in a future version. Use pandas.concat instead.\n",
            "  df3 =df.append(s, ignore_index=True)\n"
          ]
        }
      ]
    },
    {
      "cell_type": "code",
      "source": [
        "# 資料刪除\n",
        "df3.drop([5])"
      ],
      "metadata": {
        "colab": {
          "base_uri": "https://localhost:8080/",
          "height": 457
        },
        "id": "Smldf-m3VMPb",
        "outputId": "e4bbbfd3-9f3e-42d2-c596-50439533e92e"
      },
      "execution_count": null,
      "outputs": [
        {
          "output_type": "execute_result",
          "data": {
            "text/plain": [
              "   name  population city\n",
              "0   士林區      288340  台北市\n",
              "1   板橋區      551452  新北市\n",
              "2   桃園區       44287  桃園市\n",
              "3   北屯區      275207  台中市\n",
              "4   安南區      192327  台南市\n",
              "6   大安區      309835  台北市\n",
              "7   永和區      222531  新北市\n",
              "8   八德區      198473  桃園市\n",
              "9   前鎮區      189623  高雄市\n",
              "10  鳳山區      359125  高雄市\n",
              "11  信義區      225561  台北市\n",
              "12  新店區      302070  新北市\n",
              "13  中和區      413291  新北市"
            ],
            "text/html": [
              "\n",
              "  <div id=\"df-bfcf0f3e-9565-48ab-8158-178d1683c8ef\" class=\"colab-df-container\">\n",
              "    <div>\n",
              "<style scoped>\n",
              "    .dataframe tbody tr th:only-of-type {\n",
              "        vertical-align: middle;\n",
              "    }\n",
              "\n",
              "    .dataframe tbody tr th {\n",
              "        vertical-align: top;\n",
              "    }\n",
              "\n",
              "    .dataframe thead th {\n",
              "        text-align: right;\n",
              "    }\n",
              "</style>\n",
              "<table border=\"1\" class=\"dataframe\">\n",
              "  <thead>\n",
              "    <tr style=\"text-align: right;\">\n",
              "      <th></th>\n",
              "      <th>name</th>\n",
              "      <th>population</th>\n",
              "      <th>city</th>\n",
              "    </tr>\n",
              "  </thead>\n",
              "  <tbody>\n",
              "    <tr>\n",
              "      <th>0</th>\n",
              "      <td>士林區</td>\n",
              "      <td>288340</td>\n",
              "      <td>台北市</td>\n",
              "    </tr>\n",
              "    <tr>\n",
              "      <th>1</th>\n",
              "      <td>板橋區</td>\n",
              "      <td>551452</td>\n",
              "      <td>新北市</td>\n",
              "    </tr>\n",
              "    <tr>\n",
              "      <th>2</th>\n",
              "      <td>桃園區</td>\n",
              "      <td>44287</td>\n",
              "      <td>桃園市</td>\n",
              "    </tr>\n",
              "    <tr>\n",
              "      <th>3</th>\n",
              "      <td>北屯區</td>\n",
              "      <td>275207</td>\n",
              "      <td>台中市</td>\n",
              "    </tr>\n",
              "    <tr>\n",
              "      <th>4</th>\n",
              "      <td>安南區</td>\n",
              "      <td>192327</td>\n",
              "      <td>台南市</td>\n",
              "    </tr>\n",
              "    <tr>\n",
              "      <th>6</th>\n",
              "      <td>大安區</td>\n",
              "      <td>309835</td>\n",
              "      <td>台北市</td>\n",
              "    </tr>\n",
              "    <tr>\n",
              "      <th>7</th>\n",
              "      <td>永和區</td>\n",
              "      <td>222531</td>\n",
              "      <td>新北市</td>\n",
              "    </tr>\n",
              "    <tr>\n",
              "      <th>8</th>\n",
              "      <td>八德區</td>\n",
              "      <td>198473</td>\n",
              "      <td>桃園市</td>\n",
              "    </tr>\n",
              "    <tr>\n",
              "      <th>9</th>\n",
              "      <td>前鎮區</td>\n",
              "      <td>189623</td>\n",
              "      <td>高雄市</td>\n",
              "    </tr>\n",
              "    <tr>\n",
              "      <th>10</th>\n",
              "      <td>鳳山區</td>\n",
              "      <td>359125</td>\n",
              "      <td>高雄市</td>\n",
              "    </tr>\n",
              "    <tr>\n",
              "      <th>11</th>\n",
              "      <td>信義區</td>\n",
              "      <td>225561</td>\n",
              "      <td>台北市</td>\n",
              "    </tr>\n",
              "    <tr>\n",
              "      <th>12</th>\n",
              "      <td>新店區</td>\n",
              "      <td>302070</td>\n",
              "      <td>新北市</td>\n",
              "    </tr>\n",
              "    <tr>\n",
              "      <th>13</th>\n",
              "      <td>中和區</td>\n",
              "      <td>413291</td>\n",
              "      <td>新北市</td>\n",
              "    </tr>\n",
              "  </tbody>\n",
              "</table>\n",
              "</div>\n",
              "    <div class=\"colab-df-buttons\">\n",
              "\n",
              "  <div class=\"colab-df-container\">\n",
              "    <button class=\"colab-df-convert\" onclick=\"convertToInteractive('df-bfcf0f3e-9565-48ab-8158-178d1683c8ef')\"\n",
              "            title=\"Convert this dataframe to an interactive table.\"\n",
              "            style=\"display:none;\">\n",
              "\n",
              "  <svg xmlns=\"http://www.w3.org/2000/svg\" height=\"24px\" viewBox=\"0 -960 960 960\">\n",
              "    <path d=\"M120-120v-720h720v720H120Zm60-500h600v-160H180v160Zm220 220h160v-160H400v160Zm0 220h160v-160H400v160ZM180-400h160v-160H180v160Zm440 0h160v-160H620v160ZM180-180h160v-160H180v160Zm440 0h160v-160H620v160Z\"/>\n",
              "  </svg>\n",
              "    </button>\n",
              "\n",
              "  <style>\n",
              "    .colab-df-container {\n",
              "      display:flex;\n",
              "      gap: 12px;\n",
              "    }\n",
              "\n",
              "    .colab-df-convert {\n",
              "      background-color: #E8F0FE;\n",
              "      border: none;\n",
              "      border-radius: 50%;\n",
              "      cursor: pointer;\n",
              "      display: none;\n",
              "      fill: #1967D2;\n",
              "      height: 32px;\n",
              "      padding: 0 0 0 0;\n",
              "      width: 32px;\n",
              "    }\n",
              "\n",
              "    .colab-df-convert:hover {\n",
              "      background-color: #E2EBFA;\n",
              "      box-shadow: 0px 1px 2px rgba(60, 64, 67, 0.3), 0px 1px 3px 1px rgba(60, 64, 67, 0.15);\n",
              "      fill: #174EA6;\n",
              "    }\n",
              "\n",
              "    .colab-df-buttons div {\n",
              "      margin-bottom: 4px;\n",
              "    }\n",
              "\n",
              "    [theme=dark] .colab-df-convert {\n",
              "      background-color: #3B4455;\n",
              "      fill: #D2E3FC;\n",
              "    }\n",
              "\n",
              "    [theme=dark] .colab-df-convert:hover {\n",
              "      background-color: #434B5C;\n",
              "      box-shadow: 0px 1px 3px 1px rgba(0, 0, 0, 0.15);\n",
              "      filter: drop-shadow(0px 1px 2px rgba(0, 0, 0, 0.3));\n",
              "      fill: #FFFFFF;\n",
              "    }\n",
              "  </style>\n",
              "\n",
              "    <script>\n",
              "      const buttonEl =\n",
              "        document.querySelector('#df-bfcf0f3e-9565-48ab-8158-178d1683c8ef button.colab-df-convert');\n",
              "      buttonEl.style.display =\n",
              "        google.colab.kernel.accessAllowed ? 'block' : 'none';\n",
              "\n",
              "      async function convertToInteractive(key) {\n",
              "        const element = document.querySelector('#df-bfcf0f3e-9565-48ab-8158-178d1683c8ef');\n",
              "        const dataTable =\n",
              "          await google.colab.kernel.invokeFunction('convertToInteractive',\n",
              "                                                    [key], {});\n",
              "        if (!dataTable) return;\n",
              "\n",
              "        const docLinkHtml = 'Like what you see? Visit the ' +\n",
              "          '<a target=\"_blank\" href=https://colab.research.google.com/notebooks/data_table.ipynb>data table notebook</a>'\n",
              "          + ' to learn more about interactive tables.';\n",
              "        element.innerHTML = '';\n",
              "        dataTable['output_type'] = 'display_data';\n",
              "        await google.colab.output.renderOutput(dataTable, element);\n",
              "        const docLink = document.createElement('div');\n",
              "        docLink.innerHTML = docLinkHtml;\n",
              "        element.appendChild(docLink);\n",
              "      }\n",
              "    </script>\n",
              "  </div>\n",
              "\n",
              "\n",
              "<div id=\"df-e5246435-ccfd-429d-89f2-ae5ee91959ef\">\n",
              "  <button class=\"colab-df-quickchart\" onclick=\"quickchart('df-e5246435-ccfd-429d-89f2-ae5ee91959ef')\"\n",
              "            title=\"Suggest charts\"\n",
              "            style=\"display:none;\">\n",
              "\n",
              "<svg xmlns=\"http://www.w3.org/2000/svg\" height=\"24px\"viewBox=\"0 0 24 24\"\n",
              "     width=\"24px\">\n",
              "    <g>\n",
              "        <path d=\"M19 3H5c-1.1 0-2 .9-2 2v14c0 1.1.9 2 2 2h14c1.1 0 2-.9 2-2V5c0-1.1-.9-2-2-2zM9 17H7v-7h2v7zm4 0h-2V7h2v10zm4 0h-2v-4h2v4z\"/>\n",
              "    </g>\n",
              "</svg>\n",
              "  </button>\n",
              "\n",
              "<style>\n",
              "  .colab-df-quickchart {\n",
              "      --bg-color: #E8F0FE;\n",
              "      --fill-color: #1967D2;\n",
              "      --hover-bg-color: #E2EBFA;\n",
              "      --hover-fill-color: #174EA6;\n",
              "      --disabled-fill-color: #AAA;\n",
              "      --disabled-bg-color: #DDD;\n",
              "  }\n",
              "\n",
              "  [theme=dark] .colab-df-quickchart {\n",
              "      --bg-color: #3B4455;\n",
              "      --fill-color: #D2E3FC;\n",
              "      --hover-bg-color: #434B5C;\n",
              "      --hover-fill-color: #FFFFFF;\n",
              "      --disabled-bg-color: #3B4455;\n",
              "      --disabled-fill-color: #666;\n",
              "  }\n",
              "\n",
              "  .colab-df-quickchart {\n",
              "    background-color: var(--bg-color);\n",
              "    border: none;\n",
              "    border-radius: 50%;\n",
              "    cursor: pointer;\n",
              "    display: none;\n",
              "    fill: var(--fill-color);\n",
              "    height: 32px;\n",
              "    padding: 0;\n",
              "    width: 32px;\n",
              "  }\n",
              "\n",
              "  .colab-df-quickchart:hover {\n",
              "    background-color: var(--hover-bg-color);\n",
              "    box-shadow: 0 1px 2px rgba(60, 64, 67, 0.3), 0 1px 3px 1px rgba(60, 64, 67, 0.15);\n",
              "    fill: var(--button-hover-fill-color);\n",
              "  }\n",
              "\n",
              "  .colab-df-quickchart-complete:disabled,\n",
              "  .colab-df-quickchart-complete:disabled:hover {\n",
              "    background-color: var(--disabled-bg-color);\n",
              "    fill: var(--disabled-fill-color);\n",
              "    box-shadow: none;\n",
              "  }\n",
              "\n",
              "  .colab-df-spinner {\n",
              "    border: 2px solid var(--fill-color);\n",
              "    border-color: transparent;\n",
              "    border-bottom-color: var(--fill-color);\n",
              "    animation:\n",
              "      spin 1s steps(1) infinite;\n",
              "  }\n",
              "\n",
              "  @keyframes spin {\n",
              "    0% {\n",
              "      border-color: transparent;\n",
              "      border-bottom-color: var(--fill-color);\n",
              "      border-left-color: var(--fill-color);\n",
              "    }\n",
              "    20% {\n",
              "      border-color: transparent;\n",
              "      border-left-color: var(--fill-color);\n",
              "      border-top-color: var(--fill-color);\n",
              "    }\n",
              "    30% {\n",
              "      border-color: transparent;\n",
              "      border-left-color: var(--fill-color);\n",
              "      border-top-color: var(--fill-color);\n",
              "      border-right-color: var(--fill-color);\n",
              "    }\n",
              "    40% {\n",
              "      border-color: transparent;\n",
              "      border-right-color: var(--fill-color);\n",
              "      border-top-color: var(--fill-color);\n",
              "    }\n",
              "    60% {\n",
              "      border-color: transparent;\n",
              "      border-right-color: var(--fill-color);\n",
              "    }\n",
              "    80% {\n",
              "      border-color: transparent;\n",
              "      border-right-color: var(--fill-color);\n",
              "      border-bottom-color: var(--fill-color);\n",
              "    }\n",
              "    90% {\n",
              "      border-color: transparent;\n",
              "      border-bottom-color: var(--fill-color);\n",
              "    }\n",
              "  }\n",
              "</style>\n",
              "\n",
              "  <script>\n",
              "    async function quickchart(key) {\n",
              "      const quickchartButtonEl =\n",
              "        document.querySelector('#' + key + ' button');\n",
              "      quickchartButtonEl.disabled = true;  // To prevent multiple clicks.\n",
              "      quickchartButtonEl.classList.add('colab-df-spinner');\n",
              "      try {\n",
              "        const charts = await google.colab.kernel.invokeFunction(\n",
              "            'suggestCharts', [key], {});\n",
              "      } catch (error) {\n",
              "        console.error('Error during call to suggestCharts:', error);\n",
              "      }\n",
              "      quickchartButtonEl.classList.remove('colab-df-spinner');\n",
              "      quickchartButtonEl.classList.add('colab-df-quickchart-complete');\n",
              "    }\n",
              "    (() => {\n",
              "      let quickchartButtonEl =\n",
              "        document.querySelector('#df-e5246435-ccfd-429d-89f2-ae5ee91959ef button');\n",
              "      quickchartButtonEl.style.display =\n",
              "        google.colab.kernel.accessAllowed ? 'block' : 'none';\n",
              "    })();\n",
              "  </script>\n",
              "</div>\n",
              "\n",
              "    </div>\n",
              "  </div>\n"
            ]
          },
          "metadata": {},
          "execution_count": 64
        }
      ]
    },
    {
      "cell_type": "code",
      "source": [
        "# 分群(grouping), 樞紐分析\n",
        "import numpy as np\n",
        "df = pd.DataFrame({'名稱':['客戶A', '客戶B', '客戶A', '客戶B', '客戶A', '客戶B', '客戶A', '客戶A'],\n",
        "          '編號':['訂單1','訂單1','訂單2','訂單3','訂單2','訂單1','訂單1','訂單3'],\n",
        "          '數量':np.random.randint(1,5,size = 8),\n",
        "          '售價':np.random.randint(150,500,size = 8)\n",
        "                   })\n",
        "print(df)"
      ],
      "metadata": {
        "colab": {
          "base_uri": "https://localhost:8080/"
        },
        "id": "i5PlHXWWWEAM",
        "outputId": "ffce8fb7-48aa-4935-cf87-40c5f612f565"
      },
      "execution_count": null,
      "outputs": [
        {
          "output_type": "stream",
          "name": "stdout",
          "text": [
            "    名稱   編號  數量   售價\n",
            "0  客戶A  訂單1   4  205\n",
            "1  客戶B  訂單1   3  223\n",
            "2  客戶A  訂單2   4  472\n",
            "3  客戶B  訂單3   2  163\n",
            "4  客戶A  訂單2   4  334\n",
            "5  客戶B  訂單1   4  210\n",
            "6  客戶A  訂單1   3  166\n",
            "7  客戶A  訂單3   4  304\n"
          ]
        }
      ]
    },
    {
      "cell_type": "code",
      "source": [
        "print(df.groupby('名稱').sum())\n",
        "print('-----------------------')\n",
        "print(df.groupby(['名稱','編號']).sum())"
      ],
      "metadata": {
        "colab": {
          "base_uri": "https://localhost:8080/"
        },
        "id": "sAaCW2E3YQrt",
        "outputId": "bd2e67d0-4883-4324-f214-75731a3bf156"
      },
      "execution_count": null,
      "outputs": [
        {
          "output_type": "stream",
          "name": "stdout",
          "text": [
            "     數量    售價\n",
            "名稱           \n",
            "客戶A  19  1481\n",
            "客戶B   9   596\n",
            "-----------------------\n",
            "         數量   售價\n",
            "名稱  編號          \n",
            "客戶A 訂單1   7  371\n",
            "    訂單2   8  806\n",
            "    訂單3   4  304\n",
            "客戶B 訂單1   7  433\n",
            "    訂單3   2  163\n"
          ]
        },
        {
          "output_type": "stream",
          "name": "stderr",
          "text": [
            "<ipython-input-70-bd73b59e9e16>:1: FutureWarning: The default value of numeric_only in DataFrameGroupBy.sum is deprecated. In a future version, numeric_only will default to False. Either specify numeric_only or select only columns which should be valid for the function.\n",
            "  print(df.groupby('名稱').sum())\n"
          ]
        }
      ]
    },
    {
      "cell_type": "code",
      "source": [
        "# 樞紐分析pivot_table\n",
        "pivot_a =df.pivot_table(index = '名稱', columns = '編號', values = '售價')\n",
        "pivot_b =df.pivot_table(index = '名稱', columns = '編號', values = '數量')\n",
        "print(pivot_a)\n",
        "print()\n",
        "print(pivot_b)"
      ],
      "metadata": {
        "colab": {
          "base_uri": "https://localhost:8080/"
        },
        "id": "mi84UimCYu_z",
        "outputId": "162010bd-1579-444c-c0b0-cd3c5cc0b5c6"
      },
      "execution_count": null,
      "outputs": [
        {
          "output_type": "stream",
          "name": "stdout",
          "text": [
            "編號     訂單1    訂單2    訂單3\n",
            "名稱                      \n",
            "客戶A  185.5  403.0  304.0\n",
            "客戶B  216.5    NaN  163.0\n",
            "\n",
            "編號   訂單1  訂單2  訂單3\n",
            "名稱                \n",
            "客戶A  3.5  4.0  4.0\n",
            "客戶B  3.5  NaN  2.0\n"
          ]
        }
      ]
    }
  ]
}