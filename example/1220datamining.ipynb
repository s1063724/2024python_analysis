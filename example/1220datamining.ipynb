{
  "nbformat": 4,
  "nbformat_minor": 0,
  "metadata": {
    "colab": {
      "provenance": [],
      "authorship_tag": "ABX9TyN8iP56p1wImrKQDCfu+Qji",
      "include_colab_link": true
    },
    "kernelspec": {
      "name": "python3",
      "display_name": "Python 3"
    },
    "language_info": {
      "name": "python"
    }
  },
  "cells": [
    {
      "cell_type": "markdown",
      "metadata": {
        "id": "view-in-github",
        "colab_type": "text"
      },
      "source": [
        "<a href=\"https://colab.research.google.com/github/s1063724/2024python_analysis/blob/main/example/1220datamining.ipynb\" target=\"_parent\"><img src=\"https://colab.research.google.com/assets/colab-badge.svg\" alt=\"Open In Colab\"/></a>"
      ]
    },
    {
      "cell_type": "code",
      "execution_count": null,
      "metadata": {
        "colab": {
          "base_uri": "https://localhost:8080/"
        },
        "id": "cMIbU-2Akmsj",
        "outputId": "dbb924a8-959c-40c1-eaff-008268fe241b"
      },
      "outputs": [
        {
          "output_type": "stream",
          "name": "stdout",
          "text": [
            "<class 'int'>\n",
            "5\n",
            "5.0\n",
            "6\n",
            "4\n",
            "10\n",
            "2.5\n",
            "2\n",
            "1\n",
            "25\n"
          ]
        }
      ],
      "source": [
        "# python基本資料型態\n",
        "# 整數integer -> int\n",
        "a = 1\n",
        "b = 100\n",
        "c = 122\n",
        "d = 56789\n",
        "x = 5\n",
        "print(type(x))\n",
        "# class 類別\n",
        "print(x)\n",
        "# 資料轉換\n",
        "print(float(x))\n",
        "print(x + 1)\n",
        "print(x - 1)\n",
        "print(x * 2)\n",
        "print(x / 2)\n",
        "# 整數除法\n",
        "print(x // 2)\n",
        "# x / 2 取餘數\n",
        "print(x % 2)\n",
        "# x乘積\n",
        "print(x ** 2)"
      ]
    },
    {
      "cell_type": "code",
      "source": [
        "# 浮點數\n",
        "y = 2.5\n",
        "print(y)\n",
        "print(y, (y + 1), (y * 2), (y ** 2))"
      ],
      "metadata": {
        "colab": {
          "base_uri": "https://localhost:8080/"
        },
        "id": "CQg9VzC3mB6V",
        "outputId": "e03c05bc-0c91-49d8-9772-d4863b77fc15"
      },
      "execution_count": null,
      "outputs": [
        {
          "output_type": "stream",
          "name": "stdout",
          "text": [
            "2.5\n",
            "2.5 3.5 5.0 6.25\n"
          ]
        }
      ]
    },
    {
      "cell_type": "code",
      "source": [
        "# 布林boolean -> 真假\n",
        "x = True\n",
        "y = False\n",
        "print(type(x))\n",
        "# 0, 0.0, [], (), {}, None -> 代表False\n",
        "a = True\n",
        "b = False\n",
        "print(type(a))\n",
        "print(a and b)\n",
        "print(a & b)\n",
        "print(a or b)\n",
        "print(a | b)\n",
        "print(not a)\n",
        "\n",
        "a = 3\n",
        "b = 4\n",
        "print(a == b)\n",
        "print(a != b)\n",
        "print(a > b)\n",
        "print(a >= b)\n",
        "print(a < b)\n",
        "print(a <= b)"
      ],
      "metadata": {
        "colab": {
          "base_uri": "https://localhost:8080/"
        },
        "id": "a8FH28GFpr29",
        "outputId": "9945b001-3b48-4828-8dc9-fea87439095c"
      },
      "execution_count": null,
      "outputs": [
        {
          "output_type": "stream",
          "name": "stdout",
          "text": [
            "<class 'bool'>\n",
            "<class 'bool'>\n",
            "False\n",
            "False\n",
            "True\n",
            "True\n",
            "False\n",
            "False\n",
            "True\n",
            "False\n",
            "False\n",
            "True\n",
            "True\n"
          ]
        }
      ]
    },
    {
      "cell_type": "code",
      "source": [
        "# 字串 string -> str\n",
        "s1 = '大家都來學 python 資料分析'\n",
        "s2 = 'Apple'\n",
        "print(type(s1))\n",
        "# 字元 char -> 'A'(python沒有字元)\n",
        "print(type('A'))\n",
        "print(len(s1))\n",
        "s3 = s1 + s2\n",
        "print(s3)\n",
        "# 格式化字串\n",
        "s4 = '第一 %s 第二 %s 第三 %d' % (s1, s2, 12)\n",
        "print(s4)\n",
        "\n",
        "s = 'hello'\n",
        "# 第一個字大寫\n",
        "print(s.capitalize())\n",
        "print(s.upper())\n",
        "# 往右靠\n",
        "print(s.rjust(7))\n",
        "# 7格文字空間往中間靠\n",
        "print(s.center(7))\n",
        "\n",
        "print(s.replace('l','烏龜'))\n",
        "# 將前面空格去除\n",
        "print('   python'.strip())\n",
        "print('  p  y th on'.strip())"
      ],
      "metadata": {
        "colab": {
          "base_uri": "https://localhost:8080/"
        },
        "id": "qRyFaSdxw5l2",
        "outputId": "22a70995-2e4c-4449-c02f-8e7e624cad86"
      },
      "execution_count": null,
      "outputs": [
        {
          "output_type": "stream",
          "name": "stdout",
          "text": [
            "<class 'str'>\n",
            "<class 'str'>\n",
            "17\n",
            "大家都來學 python 資料分析Apple\n",
            "第一 大家都來學 python 資料分析 第二 Apple 第三 12\n",
            "Hello\n",
            "HELLO\n",
            "  hello\n",
            " hello \n",
            "he烏龜烏龜o\n",
            "python\n",
            "p  y th on\n"
          ]
        }
      ]
    },
    {
      "cell_type": "code",
      "source": [
        "# 流程控制:\n",
        "#   1.條件控制\n",
        "#   2.迴圈控制\n",
        "# 單選條件控制\n",
        "t = input('請輸入目前氣溫: ')\n",
        "if(int(t) < 20):\n",
        "  print('請穿外套出門')\n",
        "\n",
        "print('目前的氣溫是: ', t, '度')"
      ],
      "metadata": {
        "colab": {
          "base_uri": "https://localhost:8080/"
        },
        "id": "glkIVopFzZb0",
        "outputId": "b1c9a9a0-8d22-4fa1-8976-4d45aa6d07e0"
      },
      "execution_count": null,
      "outputs": [
        {
          "output_type": "stream",
          "name": "stdout",
          "text": [
            "請輸入目前氣溫: 20\n",
            "目前的氣溫是:  20 度\n"
          ]
        }
      ]
    },
    {
      "cell_type": "code",
      "source": [
        "# 二選一條件\n",
        "s = int(input(\"請輸入成績: \"))\n",
        "if(s >= 60):\n",
        "  print('成績合格!')\n",
        "else:\n",
        "  print(\"不及格!\")"
      ],
      "metadata": {
        "colab": {
          "base_uri": "https://localhost:8080/"
        },
        "id": "9AZMgoCCrv4g",
        "outputId": "264931ff-8250-4c1f-b27a-03fca4261a76"
      },
      "execution_count": null,
      "outputs": [
        {
          "output_type": "stream",
          "name": "stdout",
          "text": [
            "請輸入成績: 59\n",
            "不及格!\n"
          ]
        }
      ]
    },
    {
      "cell_type": "code",
      "source": [
        "# 多選一條件\n",
        "a = int(input('請輸入年齡: '))\n",
        "if(a < 13):\n",
        "  print('小屁孩')\n",
        "elif(a < 20):\n",
        "  print('社畜')\n",
        "elif(a < 30):\n",
        "  print('中年社畜')\n",
        "else:\n",
        "  print('老人')"
      ],
      "metadata": {
        "colab": {
          "base_uri": "https://localhost:8080/"
        },
        "id": "JeVEU8You2AP",
        "outputId": "d7072ab6-7a5b-4e41-d50c-b387debf21b0"
      },
      "execution_count": null,
      "outputs": [
        {
          "output_type": "stream",
          "name": "stdout",
          "text": [
            "請輸入年齡: 25\n",
            "中年社畜\n"
          ]
        }
      ]
    },
    {
      "cell_type": "code",
      "source": [
        "# 單行條件\n",
        "# 變數 = 變數一 if 條件運算 else 變數二\n",
        "t = int(input())\n",
        "t = print('好刺激') if t >= 12 else print('不滿足')"
      ],
      "metadata": {
        "colab": {
          "base_uri": "https://localhost:8080/"
        },
        "id": "Ic8t_OYk0Q-R",
        "outputId": "535d8b87-0072-4a19-c808-ae659f0a0bb7"
      },
      "execution_count": null,
      "outputs": [
        {
          "output_type": "stream",
          "name": "stdout",
          "text": [
            "15\n",
            "好刺激\n"
          ]
        }
      ]
    },
    {
      "cell_type": "code",
      "source": [
        "# 迴圈\n",
        "m = int(input('請輸入最大值: '))\n",
        "s = 0\n",
        "for i in range(1, m+1):\n",
        "  s = s + 1\n",
        "print('總和 = ', s)"
      ],
      "metadata": {
        "colab": {
          "base_uri": "https://localhost:8080/"
        },
        "id": "TIHdHyj007Ev",
        "outputId": "7d27d0fc-dc53-4956-ad3c-701e649acff9"
      },
      "execution_count": null,
      "outputs": [
        {
          "output_type": "stream",
          "name": "stdout",
          "text": [
            "請輸入最大值: 5\n",
            "總和 =  5\n"
          ]
        }
      ]
    },
    {
      "cell_type": "code",
      "source": [
        "m = int(input('輸入階層: '))\n",
        "r = 1\n",
        "n = 1\n",
        "while n <= m:\n",
        "  r = r * n\n",
        "  n = n + 1\n",
        "print('階層 ! = ', r)"
      ],
      "metadata": {
        "colab": {
          "base_uri": "https://localhost:8080/"
        },
        "id": "vdtCdMmq2jne",
        "outputId": "a0b5db20-d785-44be-8053-0739ae8c53d4"
      },
      "execution_count": null,
      "outputs": [
        {
          "output_type": "stream",
          "name": "stdout",
          "text": [
            "輸入階層: 3\n",
            "階層 ! =  6\n"
          ]
        }
      ]
    },
    {
      "cell_type": "code",
      "source": [
        "# break\n",
        "# continue\n",
        "i = 1\n",
        "while True:\n",
        "  print(i, end = ' ')\n",
        "  i = i + 1\n",
        "  if i > 5:\n",
        "    break\n",
        "print('\\n---------------------')\n",
        "for i in range(1,11):\n",
        "  if i % 2 == 1:\n",
        "    continue\n",
        "  print(i, end= ' ')"
      ],
      "metadata": {
        "colab": {
          "base_uri": "https://localhost:8080/"
        },
        "id": "bn7f0E5K3gbK",
        "outputId": "24e84e35-60c8-4f54-8044-b19ca7731ba8"
      },
      "execution_count": null,
      "outputs": [
        {
          "output_type": "stream",
          "name": "stdout",
          "text": [
            "1 2 3 4 5 \n",
            "---------------------\n",
            "2 4 6 8 10 "
          ]
        }
      ]
    },
    {
      "cell_type": "code",
      "source": [
        "# funtion 函式, 函數\n",
        "# return 回傳值\n",
        "# () 參數 parameters\n",
        "# def print_msg\n",
        "def print_msg():\n",
        "  print('這是我設計的第一個函式')\n",
        "\n"
      ],
      "metadata": {
        "id": "owyTTRlb6Eav"
      },
      "execution_count": null,
      "outputs": []
    },
    {
      "cell_type": "code",
      "source": [
        "# 呼叫函式\n",
        "print_msg()"
      ],
      "metadata": {
        "colab": {
          "base_uri": "https://localhost:8080/"
        },
        "id": "xa_xt9J-66bH",
        "outputId": "0b5fe6b1-3b59-44dd-f037-ded1199714b1"
      },
      "execution_count": null,
      "outputs": [
        {
          "output_type": "stream",
          "name": "stdout",
          "text": [
            "這是我設計的第一個函式\n"
          ]
        }
      ]
    },
    {
      "cell_type": "code",
      "source": [
        "def is_valid_num(no):\n",
        "  if no >= 0 and no <= 200.0:\n",
        "    return True\n",
        "  else:\n",
        "    return False\n"
      ],
      "metadata": {
        "id": "MUBtfg8nfDjx"
      },
      "execution_count": null,
      "outputs": []
    },
    {
      "cell_type": "code",
      "source": [
        "print(is_valid_num(50.00))"
      ],
      "metadata": {
        "colab": {
          "base_uri": "https://localhost:8080/"
        },
        "id": "_VRs0_Tsfhnd",
        "outputId": "3889af5a-16a3-4e8a-8dee-d5653bfce421"
      },
      "execution_count": null,
      "outputs": [
        {
          "output_type": "stream",
          "name": "stdout",
          "text": [
            "True\n"
          ]
        }
      ]
    },
    {
      "cell_type": "code",
      "source": [
        "# 模組 moudules (.py),套件 package (模組的集合)_init_.py\n",
        "# 別名 alias\n",
        "import random as R\n",
        "target = R.randint(1, 100)\n",
        "print(target)"
      ],
      "metadata": {
        "colab": {
          "base_uri": "https://localhost:8080/"
        },
        "id": "0vhlRpfefwgz",
        "outputId": "58f37ef3-6bf8-46af-d19f-960711093f6a"
      },
      "execution_count": null,
      "outputs": [
        {
          "output_type": "stream",
          "name": "stdout",
          "text": [
            "20\n"
          ]
        }
      ]
    },
    {
      "cell_type": "code",
      "source": [
        "from bs4 import BeautifulSoup\n",
        "html_str = \"<p>Hello World!</p>\"\n",
        "soup = BeautifulSoup(html_str, \"lxml\")\n",
        "print(soup)"
      ],
      "metadata": {
        "colab": {
          "base_uri": "https://localhost:8080/"
        },
        "id": "EV8O7nmEhHhi",
        "outputId": "6413479e-9549-4756-f67e-cafd5b2e304e"
      },
      "execution_count": null,
      "outputs": [
        {
          "output_type": "stream",
          "name": "stdout",
          "text": [
            "<html><body><p>Hello World!</p></body></html>\n"
          ]
        }
      ]
    },
    {
      "cell_type": "code",
      "source": [
        "# 例外情況控制\n",
        "try:\n",
        "  fp = open(\"myfile.txt\", \"r\")\n",
        "  print(fp.read())\n",
        "  fp.close()\n",
        "except FileNotFoundError:\n",
        "  print(\"找不到這個檔案\")"
      ],
      "metadata": {
        "colab": {
          "base_uri": "https://localhost:8080/"
        },
        "id": "4OVO-1kWiidB",
        "outputId": "1918172c-0c51-4db4-a218-96efa3e9fccb"
      },
      "execution_count": null,
      "outputs": [
        {
          "output_type": "stream",
          "name": "stdout",
          "text": [
            "找不到這個檔案\n"
          ]
        }
      ]
    },
    {
      "cell_type": "code",
      "source": [
        "# 資料處理\n",
        "# 放資料的方式或格式 -> 容器 container\n",
        "# 串列 List, 字典 Dictionary, dict (JSON), 集合 Set, 元組 Tuple\n",
        "ls = [6, 4, 5] #list, element元素, 索引值Index\n",
        "print(ls)\n",
        "print(ls[1])\n",
        "print(ls[-2])"
      ],
      "metadata": {
        "colab": {
          "base_uri": "https://localhost:8080/"
        },
        "id": "fogaoQoSjvH5",
        "outputId": "0235432b-dc9a-4db9-a66b-a0f95b164bd8"
      },
      "execution_count": null,
      "outputs": [
        {
          "output_type": "stream",
          "name": "stdout",
          "text": [
            "[6, 4, 5]\n",
            "4\n",
            "4\n"
          ]
        }
      ]
    }
  ]
}