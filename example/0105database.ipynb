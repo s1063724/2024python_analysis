{
  "nbformat": 4,
  "nbformat_minor": 0,
  "metadata": {
    "colab": {
      "provenance": [],
      "authorship_tag": "ABX9TyOfSeKNe+IDR3PJigzzm90+",
      "include_colab_link": true
    },
    "kernelspec": {
      "name": "python3",
      "display_name": "Python 3"
    },
    "language_info": {
      "name": "python"
    }
  },
  "cells": [
    {
      "cell_type": "markdown",
      "metadata": {
        "id": "view-in-github",
        "colab_type": "text"
      },
      "source": [
        "<a href=\"https://colab.research.google.com/github/s1063724/2024python_analysis/blob/main/example/0105database.ipynb\" target=\"_parent\"><img src=\"https://colab.research.google.com/assets/colab-badge.svg\" alt=\"Open In Colab\"/></a>"
      ]
    },
    {
      "cell_type": "code",
      "execution_count": null,
      "metadata": {
        "colab": {
          "base_uri": "https://localhost:8080/"
        },
        "id": "ttWGAyCozC3J",
        "outputId": "96acdedf-3920-410b-e1e6-a586ecc71623"
      },
      "outputs": [
        {
          "output_type": "execute_result",
          "data": {
            "text/plain": [
              "<sqlite3.Cursor at 0x7b13c79ca3c0>"
            ]
          },
          "metadata": {},
          "execution_count": 5
        }
      ],
      "source": [
        "# json\n",
        "# csv(Excel)\n",
        "# 資料庫:Oracle, SQL Server, DB2, MySql, SQLite\n",
        "# 資料庫本體，table\n",
        "\n",
        "import sqlite3\n",
        "\n",
        "# 連線並建立school.db\n",
        "conn = sqlite3.connect('school.db')\n",
        "# dataset資料集: 欄位; 列\n",
        "# 聯想excel資料表裡的一筆資料\n",
        "cur = conn.cursor()\n",
        "# 資料庫的語言:SQL\n",
        "# 內嵌sql語法;對資料庫建立一個名稱為stu的資料表(table)\n",
        "# stu: stuid INTEGER PRIMARY KEY, name VARCHAR(20), phone VARCHAR(10)\n",
        "cur.execute('CREATE TABLE stu(stuid INTEGER PRIMARY KEY,name VARCHAR(20), phone VARCHAR(10))')\n"
      ]
    },
    {
      "cell_type": "code",
      "source": [
        "cur.execute('DROP TABLE stu')"
      ],
      "metadata": {
        "colab": {
          "base_uri": "https://localhost:8080/"
        },
        "id": "52DtJ1NbI3EF",
        "outputId": "e4273aa6-3b85-4903-f0f5-ed186234a654"
      },
      "execution_count": null,
      "outputs": [
        {
          "output_type": "execute_result",
          "data": {
            "text/plain": [
              "<sqlite3.Cursor at 0x7b13c79ca640>"
            ]
          },
          "metadata": {},
          "execution_count": 3
        }
      ]
    },
    {
      "cell_type": "code",
      "source": [
        "cur.execute(\"INSERT INTO stu VALUES(113001, '王先生', '0905662336')\")\n",
        "cur.execute(\"INSERT INTO stu VALUES(113002, '李先生', '0909662336')\")\n",
        "cur.execute(\"INSERT INTO stu VALUES(113003, '張生', '0909523336')\")\n",
        "cur.execute(\"INSERT INTO stu VALUES(113004, '琛未依', '0909475836')\")\n",
        "cur.execute(\"INSERT INTO stu VALUES(113005, '李ㄟ屋', '0909574125')\")"
      ],
      "metadata": {
        "colab": {
          "base_uri": "https://localhost:8080/"
        },
        "id": "8XFVUiIoJKUK",
        "outputId": "e7fbc372-f6b1-4908-82a0-07c3e097e349"
      },
      "execution_count": null,
      "outputs": [
        {
          "output_type": "execute_result",
          "data": {
            "text/plain": [
              "<sqlite3.Cursor at 0x7b13c79ca3c0>"
            ]
          },
          "metadata": {},
          "execution_count": 6
        }
      ]
    },
    {
      "cell_type": "code",
      "source": [
        "cur.execute('SELECT * FROM stu')\n",
        "# 取得資料\n",
        "rows = cur.fetchall()\n",
        "print(type(rows))\n",
        "print(rows)\n",
        "print(type(rows[1]))\n",
        "print(rows[1])\n",
        "\n",
        "print('-----------------------')\n",
        "for row in rows:\n",
        "  print(row[0], row[1], row[2])\n",
        "\n",
        "# 最後不用記得要關閉，避免佔用資源\n",
        "# cur.close()"
      ],
      "metadata": {
        "colab": {
          "base_uri": "https://localhost:8080/"
        },
        "id": "1pTvqkF9LH5F",
        "outputId": "dd9a8f51-b66d-497b-aac6-2eb6235af256"
      },
      "execution_count": null,
      "outputs": [
        {
          "output_type": "stream",
          "name": "stdout",
          "text": [
            "<class 'list'>\n",
            "[(113001, '王先生', '0905662336'), (113002, '李先生', '0909662336'), (113003, '張生', '0909523336'), (113004, '琛未依', '0909475836'), (113005, '李ㄟ屋', '0909574125')]\n",
            "<class 'tuple'>\n",
            "(113002, '李先生', '0909662336')\n",
            "-----------------------\n",
            "113001 王先生 0905662336\n",
            "113002 李先生 0909662336\n",
            "113003 張生 0909523336\n",
            "113004 琛未依 0909475836\n",
            "113005 李ㄟ屋 0909574125\n"
          ]
        }
      ]
    },
    {
      "cell_type": "code",
      "source": [
        "cur.execute('SELECT * FROM stu')\n",
        "# 取得一筆\n",
        "row = cur.fetchone()\n",
        "print(row[0],row[1])\n",
        "print('--------------------------------------------')\n",
        "# 因為前面已經取出1筆資料了，所以在取得只能取得剩下的4筆資料\n",
        "data = cur.fetchall()\n",
        "for row in data:\n",
        "  # 取得list\n",
        "  # print(row)\n",
        "  # 取得個別資料\n",
        "  print(row[0], row[1], row[2])"
      ],
      "metadata": {
        "id": "DFzlLs_HLQub",
        "colab": {
          "base_uri": "https://localhost:8080/"
        },
        "outputId": "104e52e8-56a2-40e5-dcf5-e4ea5a7e5a90"
      },
      "execution_count": null,
      "outputs": [
        {
          "output_type": "stream",
          "name": "stdout",
          "text": [
            "113001 王先生\n",
            "--------------------------------------------\n",
            "113002 李先生 0909662336\n",
            "113003 張生 0909523336\n",
            "113004 琛未依 0909475836\n",
            "113005 李ㄟ屋 0909574125\n"
          ]
        }
      ]
    },
    {
      "cell_type": "code",
      "source": [
        "# 向量， 矩陣\n",
        "# 電腦資料處理\n",
        "# 資料科學(Data Science)\n",
        "# Numpy -> 向量與矩陣運算;Pandas -> 資料處理;Matplotlib -> 2D繪圖;Seaborn豐富的圖形\n",
        "# Numpy : ndarry\n",
        "# 向量(vectory);矩陣(matrix)\n",
        "# 向量:方向與大小的值:速度、加速度、動力\n",
        "# 向量:序列的值:[2, 5, -9], 2i+4j+6k\n",
        "\n",
        "# 矩陣: 2維度的表格(欄、列)\n",
        "\n",
        "# 陣列\n",
        "import numpy as np\n",
        "# 用串列建立ndarray\n",
        "a = np.array([1, 2, 3, 4, 5])\n",
        "# 用tuple建立ndarray\n",
        "b = np.array((1, 2, 3, 4, 5))\n",
        "print(a)\n",
        "print(type(a))\n",
        "print('--------------')\n",
        "print(b)\n",
        "print(type(b))\n"
      ],
      "metadata": {
        "colab": {
          "base_uri": "https://localhost:8080/"
        },
        "id": "Bo6LDau_zCjV",
        "outputId": "ba7aa5d8-9700-47df-b835-a1bf94357f5b"
      },
      "execution_count": null,
      "outputs": [
        {
          "output_type": "stream",
          "name": "stdout",
          "text": [
            "[1 2 3 4 5]\n",
            "<class 'numpy.ndarray'>\n",
            "--------------\n",
            "[1 2 3 4 5]\n",
            "<class 'numpy.ndarray'>\n"
          ]
        }
      ]
    },
    {
      "cell_type": "code",
      "source": [
        "# 針對每個元素都給予索引值\n",
        "print(a[0], a[1], a[2], a[3], a[4])\n",
        "a[0] = 90\n",
        "print(a)"
      ],
      "metadata": {
        "colab": {
          "base_uri": "https://localhost:8080/"
        },
        "id": "XjhpntRV5IB1",
        "outputId": "b170573e-6f1d-4e86-ad5b-be9aa02f2701"
      },
      "execution_count": null,
      "outputs": [
        {
          "output_type": "stream",
          "name": "stdout",
          "text": [
            "1 2 3 4 5\n",
            "[90  2  3  4  5]\n"
          ]
        }
      ]
    },
    {
      "cell_type": "code",
      "source": [
        "# 二維陣列\n",
        "c = np.array([[1, 2, 3], [4, 5, 6]])\n",
        "print(c)\n",
        "# c[0,0] = 1, c[0,1] = 2\n",
        "print('-------------------')\n",
        "print(c[1,1])"
      ],
      "metadata": {
        "colab": {
          "base_uri": "https://localhost:8080/"
        },
        "id": "F31uPxee5_XY",
        "outputId": "a7732898-a4f5-4085-b07e-505025c657f4"
      },
      "execution_count": null,
      "outputs": [
        {
          "output_type": "stream",
          "name": "stdout",
          "text": [
            "[[1 2 3]\n",
            " [4 5 6]]\n",
            "-------------------\n",
            "5\n"
          ]
        }
      ]
    },
    {
      "cell_type": "code",
      "source": [
        "# 指定元素類型\n",
        "d = np.array([1,2,3,4,5], dtype = float)\n",
        "print(type(d[0]))\n",
        "print(d)"
      ],
      "metadata": {
        "colab": {
          "base_uri": "https://localhost:8080/"
        },
        "id": "eMgpa1x98f13",
        "outputId": "72dd9111-38d7-4753-b4af-d6e4824d6198"
      },
      "execution_count": null,
      "outputs": [
        {
          "output_type": "stream",
          "name": "stdout",
          "text": [
            "<class 'numpy.float64'>\n",
            "[1. 2. 3. 4. 5.]\n"
          ]
        }
      ]
    },
    {
      "cell_type": "code",
      "source": [
        "# 指定一個範圍的陣列\n",
        "e = np.arange(5)\n",
        "print(e)\n",
        "# 產生1-5間格2的陣列\n",
        "f = np.arange(1, 6, 2)\n",
        "print(f)"
      ],
      "metadata": {
        "colab": {
          "base_uri": "https://localhost:8080/"
        },
        "id": "SHY2TzcB8z0n",
        "outputId": "404dee1a-9753-41ae-aa39-805643ef7121"
      },
      "execution_count": null,
      "outputs": [
        {
          "output_type": "stream",
          "name": "stdout",
          "text": [
            "[0 1 2 3 4]\n",
            "[1 3 5]\n"
          ]
        }
      ]
    },
    {
      "cell_type": "code",
      "source": [
        "g = np.zeros(2)\n",
        "print(g)\n",
        "\n",
        "h = np.ones(5)\n",
        "print(h)\n",
        "# 產生兩個元素，值都是7\n",
        "i = np.full(2,7)\n",
        "print(i)\n",
        "\n",
        "j_ex = np.array([[1, 5, 6], [5, 8, 9]])\n",
        "j = np.zeros_like(j_ex)\n",
        "print(j)\n",
        "\n",
        "# 產生對角線是1的矩陣\n",
        "k = np.eye(3)\n",
        "print(k)\n",
        "print('--------------------')\n",
        "l = np.eye(3, k = 1)\n",
        "print(l)\n",
        "print('--------------------')\n",
        "m = np.eye(3, 1)\n",
        "print(m)\n",
        "\n",
        "n = np.random.rand(3, 5)\n",
        "print(n)"
      ],
      "metadata": {
        "colab": {
          "base_uri": "https://localhost:8080/"
        },
        "id": "QOxDiczP-E9X",
        "outputId": "e7fee93b-8d88-40df-a652-87b4cab5a65e"
      },
      "execution_count": null,
      "outputs": [
        {
          "output_type": "stream",
          "name": "stdout",
          "text": [
            "[0. 0.]\n",
            "[1. 1. 1. 1. 1.]\n",
            "[7 7]\n",
            "[[0 0 0]\n",
            " [0 0 0]]\n",
            "[[1. 0. 0.]\n",
            " [0. 1. 0.]\n",
            " [0. 0. 1.]]\n",
            "--------------------\n",
            "[[0. 1. 0.]\n",
            " [0. 0. 1.]\n",
            " [0. 0. 0.]]\n",
            "--------------------\n",
            "[[1.]\n",
            " [0.]\n",
            " [0.]]\n",
            "[[0.00428708 0.51467293 0.27003424 0.76057467 0.17597863]\n",
            " [0.10164741 0.27549392 0.95639944 0.68442266 0.47087019]\n",
            " [0.79403871 0.63346126 0.35947226 0.39764382 0.06047883]]\n"
          ]
        }
      ]
    },
    {
      "cell_type": "code",
      "source": [
        "a = np.arange(16)\n",
        "print(a)\n",
        "print('------------------------')\n",
        "b = a.reshape((4, 4))\n",
        "print(b)\n",
        "print('------------------------')\n",
        "c = b.reshape(16)\n",
        "print(c)\n",
        "print('------------------------')\n",
        "\n",
        "# d = np.array(range(10), dtype= float)\n",
        "d = np.array(range(10), float)\n",
        "print(d)\n",
        "e = d.reshape((5,2))\n",
        "print(e)"
      ],
      "metadata": {
        "colab": {
          "base_uri": "https://localhost:8080/"
        },
        "id": "Ud2Xs1qFJfn1",
        "outputId": "1710105e-6b9f-4aec-9bd0-f5bf1a4632da"
      },
      "execution_count": null,
      "outputs": [
        {
          "output_type": "stream",
          "name": "stdout",
          "text": [
            "[ 0  1  2  3  4  5  6  7  8  9 10 11 12 13 14 15]\n",
            "------------------------\n",
            "[[ 0  1  2  3]\n",
            " [ 4  5  6  7]\n",
            " [ 8  9 10 11]\n",
            " [12 13 14 15]]\n",
            "------------------------\n",
            "[ 0  1  2  3  4  5  6  7  8  9 10 11 12 13 14 15]\n",
            "------------------------\n",
            "[0. 1. 2. 3. 4. 5. 6. 7. 8. 9.]\n",
            "[[0. 1.]\n",
            " [2. 3.]\n",
            " [4. 5.]\n",
            " [6. 7.]\n",
            " [8. 9.]]\n"
          ]
        }
      ]
    },
    {
      "cell_type": "code",
      "source": [
        "# numpy -> function()\n",
        "# 屬性 .attribute\n",
        "# dtype, size, shape, itemsize, ndim, nbytes\n",
        "\n",
        "a = np.array([[11, 12, 13, 14, 15],[16, 17, 18, 19, 20], [21, 22, 23, 24, 25],[26, 27, 28, 29, 30]])\n",
        "print(a.dtype)\n",
        "print(a.shape)\n",
        "# 每個元素的byte數\n",
        "print(a.itemsize)\n",
        "print(a.ndim)\n",
        "# 位元\n",
        "print(a.nbytes)"
      ],
      "metadata": {
        "colab": {
          "base_uri": "https://localhost:8080/"
        },
        "id": "zu9CVvbLLIBm",
        "outputId": "6417f1f5-a319-4f06-f248-85cd4a3123d0"
      },
      "execution_count": null,
      "outputs": [
        {
          "output_type": "stream",
          "name": "stdout",
          "text": [
            "int64\n",
            "(4, 5)\n",
            "8\n",
            "2\n",
            "160\n"
          ]
        }
      ]
    },
    {
      "cell_type": "code",
      "source": [
        "# 走訪陣列元素:迴圈\n",
        "a = np.array([[11, 12, 13, 14, 15],[16, 17, 18, 19, 20], [21, 22, 23, 24, 25],[26, 27, 28, 29, 30]])\n",
        "a1 = np.array([1, 2, 3, 4, 5])\n",
        "for ele in a1:\n",
        "  print(ele)\n",
        "  print('----')\n",
        "\n",
        "# 走訪二維陣列\n",
        "for ele in a:\n",
        "  print(ele)\n",
        "print('-------------------')\n",
        "for ele in a:\n",
        "  for item in ele:\n",
        "    print(str(item)+ \" \",end =\"\")\n",
        "print()\n",
        "print('-------------------')\n",
        "for ele in a:\n",
        "  for item in ele:\n",
        "    print(item)\n",
        "\n"
      ],
      "metadata": {
        "colab": {
          "base_uri": "https://localhost:8080/"
        },
        "id": "VV8WHCNQM3l2",
        "outputId": "dea9e34d-cb14-4424-c2f0-fdc25b15f717"
      },
      "execution_count": null,
      "outputs": [
        {
          "output_type": "stream",
          "name": "stdout",
          "text": [
            "1\n",
            "----\n",
            "2\n",
            "----\n",
            "3\n",
            "----\n",
            "4\n",
            "----\n",
            "5\n",
            "----\n",
            "[11 12 13 14 15]\n",
            "[16 17 18 19 20]\n",
            "[21 22 23 24 25]\n",
            "[26 27 28 29 30]\n",
            "-------------------\n",
            "11 12 13 14 15 16 17 18 19 20 21 22 23 24 25 26 27 28 29 30 \n",
            "-------------------\n",
            "11\n",
            "12\n",
            "13\n",
            "14\n",
            "15\n",
            "16\n",
            "17\n",
            "18\n",
            "19\n",
            "20\n",
            "21\n",
            "22\n",
            "23\n",
            "24\n",
            "25\n",
            "26\n",
            "27\n",
            "28\n",
            "29\n",
            "30\n"
          ]
        }
      ]
    },
    {
      "cell_type": "code",
      "source": [],
      "metadata": {
        "id": "gypW5eUNPOaG"
      },
      "execution_count": null,
      "outputs": []
    }
  ]
}