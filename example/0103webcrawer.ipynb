{
  "nbformat": 4,
  "nbformat_minor": 0,
  "metadata": {
    "colab": {
      "provenance": [],
      "authorship_tag": "ABX9TyPmf9A40th7DyF4lhYXNiSc",
      "include_colab_link": true
    },
    "kernelspec": {
      "name": "python3",
      "display_name": "Python 3"
    },
    "language_info": {
      "name": "python"
    }
  },
  "cells": [
    {
      "cell_type": "markdown",
      "metadata": {
        "id": "view-in-github",
        "colab_type": "text"
      },
      "source": [
        "<a href=\"https://colab.research.google.com/github/s1063724/2024python_analysis/blob/main/example/0103webcrawer.ipynb\" target=\"_parent\"><img src=\"https://colab.research.google.com/assets/colab-badge.svg\" alt=\"Open In Colab\"/></a>"
      ]
    },
    {
      "cell_type": "code",
      "execution_count": null,
      "metadata": {
        "colab": {
          "base_uri": "https://localhost:8080/"
        },
        "id": "i7crypmQv0C2",
        "outputId": "11638dee-050a-4772-8634-e77ce8daeb5f"
      },
      "outputs": [
        {
          "output_type": "stream",
          "name": "stdout",
          "text": [
            "['Data1', 'Data2', 'Data3']\n",
            "['10', '33', '45']\n",
            "['5', '25', '56']\n"
          ]
        }
      ],
      "source": [
        "# 檔案(Excel, Csv)， 資料庫\n",
        "# list, json{}\n",
        "import csv\n",
        "csvfile = 'exa.csv'\n",
        "# 開啟與讀取csv資料\n",
        "# read\n",
        "with open(csvfile, 'r') as fp:\n",
        "  reader = csv.reader(fp)\n",
        "  for row in reader:\n",
        "    print(row)\n"
      ]
    },
    {
      "cell_type": "code",
      "source": [
        "csvfile1 = 'exa2.csv'\n",
        "\n",
        "list1 = [[10, 20 , 30], [5, 10 , 26]]\n",
        "# newline新增分隔符號\n",
        "with open(csvfile1 , 'w', newline='') as fp:\n",
        "  writer = csv.writer(fp)\n",
        "  writer.writerow(['First', 'Second', 'Third'])\n",
        "  for row in list1:\n",
        "    writer.writerow(row)"
      ],
      "metadata": {
        "id": "AUHd1Ghnt6jT"
      },
      "execution_count": null,
      "outputs": []
    },
    {
      "cell_type": "code",
      "source": [
        "import csv\n",
        "import requests\n",
        "from bs4 import BeautifulSoup\n",
        "\n",
        "url = 'https://fchart.github.io/ML/table.html'\n",
        "csvfile2 = 'comapny.csv'\n",
        "r = requests.get(url)\n",
        "r.encoding = 'utf-8'\n",
        "# print(r.status_code)\n",
        "soup = BeautifulSoup(r.text, 'lxml')\n",
        "# print(soup)\n",
        "tag_table = soup.find(class_='tt')\n",
        "rows = tag_table.find_all('tr')\n",
        "# print(rows)\n",
        "\n",
        "with open(csvfile2, 'w+', newline='', encoding = 'utf-8') as fp:\n",
        "  writer = csv.writer(fp)\n",
        "\n",
        "  for row in rows:\n",
        "    rowList = []\n",
        "    for cell in row.find_all(['th','td']):\n",
        "      rowList.append(cell.get_text().replace('\\r','').replace('\\n',''))\n",
        "    writer.writerow(rowList)\n"
      ],
      "metadata": {
        "id": "d3bpidhEyYr2"
      },
      "execution_count": null,
      "outputs": []
    },
    {
      "cell_type": "code",
      "source": [
        "# JSON -> JavaScript\n",
        "import json\n",
        "data = {\n",
        "    'name' : 'RayWu',\n",
        "    'score' : 58,\n",
        "    'tel' : '0903708261'\n",
        "}\n",
        "# 轉成json串流格式\n",
        "json_str = json.dumps(data)\n",
        "print(json_str)\n",
        "# 轉回字典格式\n",
        "data1 = json.loads(json_str)\n",
        "print(data1)\n",
        "\n",
        "# file.json\n",
        "jsonfile = 'example.json'\n",
        "with open(jsonfile, 'w') as fp:\n",
        "  json.dump(data, fp)\n",
        "\n"
      ],
      "metadata": {
        "colab": {
          "base_uri": "https://localhost:8080/"
        },
        "id": "u2414n8A5OR2",
        "outputId": "bd0f28cf-9905-46dd-df6a-17df25892ead"
      },
      "execution_count": null,
      "outputs": [
        {
          "output_type": "stream",
          "name": "stdout",
          "text": [
            "{\"name\": \"RayWu\", \"score\": 58, \"tel\": \"0903708261\"}\n",
            "{'name': 'RayWu', 'score': 58, 'tel': '0903708261'}\n"
          ]
        }
      ]
    },
    {
      "cell_type": "code",
      "source": [
        "with open(jsonfile, 'r') as fp:\n",
        "  data = json.load(fp)\n",
        "json_str = json.dumps(data)\n",
        "\n",
        "print(json_str)"
      ],
      "metadata": {
        "colab": {
          "base_uri": "https://localhost:8080/"
        },
        "id": "1MDmjfp-Xu8c",
        "outputId": "01aefce8-5d87-47a4-a002-308418249725"
      },
      "execution_count": null,
      "outputs": [
        {
          "output_type": "stream",
          "name": "stdout",
          "text": [
            "{\"name\": \"RayWu\", \"score\": 58, \"tel\": \"0903708261\"}\n"
          ]
        }
      ]
    },
    {
      "cell_type": "code",
      "source": [
        "import json\n",
        "import requests\n",
        "\n",
        "url = 'https://www.googleapis.com/books/v1/volumes?maxResults=5&q=Python&projection=lite'\n",
        "jsonfile = 'books.json'\n",
        "r = requests.get(url)\n",
        "r.encoding = 'utf-8'\n",
        "json_data = json.loads(r.text)\n",
        "with open(jsonfile, 'w') as fp:\n",
        "  json.dump(json_data, fp)"
      ],
      "metadata": {
        "id": "2mWt4CmsdhJN"
      },
      "execution_count": null,
      "outputs": []
    },
    {
      "cell_type": "code",
      "source": [
        "with open(jsonfile, 'r') as fp:\n",
        "  data = json.load(fp)\n",
        "json_str = json.dumps(data)\n",
        "\n",
        "print(json_str)"
      ],
      "metadata": {
        "colab": {
          "base_uri": "https://localhost:8080/"
        },
        "id": "q99WWBQkiENh",
        "outputId": "5333fde5-0aab-45fa-acea-8d3a0953c773"
      },
      "execution_count": null,
      "outputs": [
        {
          "output_type": "stream",
          "name": "stdout",
          "text": [
            "{\"kind\": \"books#volumes\", \"totalItems\": 517, \"items\": [{\"kind\": \"books#volume\", \"id\": \"KuymEAAAQBAJ\", \"etag\": \"BDSHrCaHItY\", \"selfLink\": \"https://www.googleapis.com/books/v1/volumes/KuymEAAAQBAJ\", \"volumeInfo\": {\"title\": \"Python\\u7a0b\\u5f0f\\u8a2d\\u8a08:\\u5f9e\\u5165\\u9580\\u5230\\u9032\\u968e\\u61c9\\u7528\", \"authors\": [\"\\u9ec3\\u5efa\\u5ead\"], \"publisher\": \"\\u5168\\u83ef\\u5716\\u66f8\", \"publishedDate\": \"2020-02-01\", \"description\": \"Python \\u662f\\u652f\\u63f4\\u7a0b\\u5e8f\\u5c0e\\u5411\\u3001\\u7269\\u4ef6\\u5c0e\\u5411\\u7684\\u52d5\\u614b\\u8a9e\\u8a00\\uff0c\\u6240\\u6709\\u65b0\\u529f\\u80fd\\u90fd\\u52a0\\u5165\\u5230Python 3.0 \\u4ee5\\u5f8c\\u7684\\u7248\\u672c\\u3002\\u5168\\u66f8\\u517114\\u7ae0\\uff0c\\u5f9ePython \\u7c21\\u4ecb\\u8207\\u7a0b\\u5f0f\\u7de8\\u8f2f\\u5668\\u4ecb\\u7d39\\u958b\\u59cb\\uff0c\\u9010\\u4e00\\u8aaa\\u660ePython\\u7a0b\\u5f0f\\u8a9e\\u8a00\\u7684\\u57fa\\u790e\\uff0c\\u5305\\u542b\\u8cc7\\u6599\\u578b\\u5225\\u3001\\u9078\\u64c7\\u7d50\\u69cb\\u3001\\u8ff4\\u5708\\u3001\\u51fd\\u5f0f\\u3001\\u6a21\\u7d44\\u7b49\\u4e3b\\u984c\\u3002\\u6700\\u5f8c\\u9032\\u968e\\u5230\\u8cc7\\u6599\\u5eab\\u3001\\u64f7\\u53d6\\u7db2\\u9801\\u8cc7\\u6599\\u3001\\u7b2c\\u4e09\\u65b9\\u6a21\\u7d44\\u7b49\\uff0c\\u6536\\u9304Python\\u6700\\u91cd\\u8981\\u7684\\u529f\\u80fd\\u4ecb\\u7d39\\u8207\\u89e3\\u8aaa\\uff0c\\u8b93\\u60a8\\u900f\\u904e\\u6700\\u7c21\\u55ae\\u7684\\u65b9\\u5f0f\\u5b78\\u7fd2Python\\uff0c\\u5e6b\\u52a9\\u60a8\\u6210\\u70ba\\u7cbe\\u901aPython\\u7684\\u7a0b\\u5f0f\\u8a2d\\u8a08\\u9ad8\\u624b\\u3002\", \"readingModes\": {\"text\": false, \"image\": true}, \"maturityRating\": \"NOT_MATURE\", \"allowAnonLogging\": true, \"contentVersion\": \"preview-1.0.0\", \"panelizationSummary\": {\"containsEpubBubbles\": false, \"containsImageBubbles\": false}, \"imageLinks\": {\"smallThumbnail\": \"http://books.google.com/books/content?id=KuymEAAAQBAJ&printsec=frontcover&img=1&zoom=5&edge=curl&source=gbs_api\", \"thumbnail\": \"http://books.google.com/books/content?id=KuymEAAAQBAJ&printsec=frontcover&img=1&zoom=1&edge=curl&source=gbs_api\"}, \"previewLink\": \"http://books.google.com.tw/books?id=KuymEAAAQBAJ&printsec=frontcover&dq=Python&hl=&cd=1&source=gbs_api\", \"infoLink\": \"https://play.google.com/store/books/details?id=KuymEAAAQBAJ&source=gbs_api\", \"canonicalVolumeLink\": \"https://play.google.com/store/books/details?id=KuymEAAAQBAJ\"}, \"saleInfo\": {\"country\": \"TW\", \"listPrice\": {\"amount\": 450, \"currencyCode\": \"TWD\"}, \"retailPrice\": {\"amount\": 306, \"currencyCode\": \"TWD\"}, \"buyLink\": \"https://play.google.com/store/books/details?id=KuymEAAAQBAJ&rdid=book-KuymEAAAQBAJ&rdot=1&source=gbs_api\", \"offers\": [{\"finskyOfferType\": 1, \"listPrice\": {\"amountInMicros\": 450000000, \"currencyCode\": \"TWD\"}, \"retailPrice\": {\"amountInMicros\": 306000000, \"currencyCode\": \"TWD\"}}]}, \"accessInfo\": {\"country\": \"TW\", \"epub\": {\"isAvailable\": false}, \"pdf\": {\"isAvailable\": true, \"acsTokenLink\": \"http://books.google.com.tw/books/download/Python%E7%A8%8B%E5%BC%8F%E8%A8%AD%E8%A8%88_%E5%BE%9E%E5%85%A5%E9%96%80%E5%88%B0%E9%80%B2%E9%9A%8E%E6%87%89-sample-pdf.acsm?id=KuymEAAAQBAJ&format=pdf&output=acs4_fulfillment_token&dl_type=sample&source=gbs_api\"}, \"accessViewStatus\": \"SAMPLE\"}, \"searchInfo\": {\"textSnippet\": \"Python \\u662f\\u652f\\u63f4\\u7a0b\\u5e8f\\u5c0e\\u5411\\u3001\\u7269\\u4ef6\\u5c0e\\u5411\\u7684\\u52d5\\u614b\\u8a9e\\u8a00\\uff0c\\u6240\\u6709\\u65b0\\u529f\\u80fd\\u90fd\\u52a0\\u5165\\u5230Python 3.0 \\u4ee5\\u5f8c\\u7684\\u7248\\u672c\\u3002\\u5168\\u66f8\\u517114\\u7ae0\\uff0c\\u5f9ePython ...\"}}, {\"kind\": \"books#volume\", \"id\": \"5yEZEAAAQBAJ\", \"etag\": \"mcUxsR2aNOs\", \"selfLink\": \"https://www.googleapis.com/books/v1/volumes/5yEZEAAAQBAJ\", \"volumeInfo\": {\"title\": \"Python 3.9\\u6280\\u8853\\u624b\\u518a(\\u96fb\\u5b50\\u66f8)\", \"authors\": [\"\\u6797\\u4fe1\\u826f\"], \"publisher\": \"\\u7881\\u5cf0\\u8cc7\\u8a0a\\u80a1\\u4efd\\u6709\\u9650\\u516c\\u53f8\", \"publishedDate\": \"2020-12-25\", \"description\": \"- \\u6db5\\u84cbPython 3.0\\u81f33.9\\u5be6\\u7528\\u7279\\u6027 - \\u904b\\u7528Type Hints\\u589e\\u52a0\\u7a0b\\u5f0f\\u53ef\\u8b80\\u6027\\u8207\\u7a69\\u56fa\\u6027 - \\u6df1\\u5165\\u5e38\\u7528\\u6a21\\u7d44\\u4e4b\\u61c9\\u7528\\u8207\\u5be6\\u4f5c - \\u4ecb\\u7d39asyncio\\u6a21\\u7d44\\u8207\\u975e\\u540c\\u6b65\\u8a2d\\u8a08 - \\u5305\\u542b\\u88dd\\u98fe\\u5668\\u3001meta\\u985e\\u5225\\u5be6\\u4f5c\\u7b49\\u9032\\u968e\\u4e3b\\u984c \\u2027\\u4f5c\\u8005\\u81eaPyCon Taiwan 2013\\u4ee5\\u4f86\\u5be6\\u884c\\u591a\\u6b21Python\\u5165\\u9580\\u8ab2\\u7a0b\\uff0c\\u532f\\u6574\\u5b78\\u54e1\\u5728\\u8ab2\\u7a0b\\u4e2d\\u9047\\u5230\\u7684\\u89c0\\u5ff5\\u3001\\u5be6\\u4f5c\\u3001\\u61c9\\u7528\\u7b49\\u554f\\u984c\\u4e4b\\u7d93\\u9a57\\u96c6\\u6210\\u3002 \\u2027\\u57fa\\u65bcPython 3.9\\u800c\\u64b0\\u5beb\\uff0c\\u6db5\\u84cbPython 3.0\\u81f33.9\\u7684\\u5be6\\u7528\\u7279\\u6027\\u3002 \\u2027\\u76f4\\u63a5\\u5728\\u7bc4\\u4f8b\\u4e0a\\u878d\\u5408Type Hints\\uff0c\\u589e\\u52a0\\u7a0b\\u5f0f\\u78bc\\u53ef\\u8b80\\u6027\\uff0c\\u4e26\\u7d50\\u5408mypy\\u9032\\u884c\\u578b\\u614b\\u6aa2\\u67e5\\u3002 \\u2027\\u6db5\\u84cbabc\\u3001collection.abc\\u3001datetime\\u3001urllib\\u3001pdb\\u3001unittest\\u3001timeit\\u3001threading\\u3001subprocess\\u3001multiprocessing\\u3001asyncio\\u7b49\\u6a19\\u6e96\\u7a0b\\u5f0f\\u5eab\\u4e4b\\u5be6\\u7528\\u6a21\\u7d44\\u3002 \\u2027\\u4ecb\\u7d39async\\u3001await\\u3001async for\\u3001async with\\u7b49\\u8a9e\\u6cd5\\uff0c\\u4e26\\u63a2\\u8a0e\\u5982\\u4f55\\u904b\\u7528asyncio\\u6a21\\u7d44\\u9032\\u884c\\u975e\\u540c\\u6b65\\u7a0b\\u5f0f\\u8a2d\\u8a08\\u3002 \\u2027\\u5c0d\\u65bc\\u63cf\\u8ff0\\u5668\\u3001\\u88dd\\u98fe\\u5668\\u3001meta\\u985e\\u5225\\u5be6\\u4f5c\\u7b49\\u9032\\u968e\\u4e3b\\u984c\\u8a73\\u7d30\\u63a2\\u8a0e\\uff0c\\u4e26\\u4ee5\\u6a19\\u6e96\\u7a0b\\u5f0f\\u5eab\\u4e2d@staticmethod\\u3001@abstractmethod\\u7b49\\u529f\\u80fd\\u4e4b\\u6a21\\u4eff\\uff0c\\u4f5c\\u70ba\\u5be6\\u969b\\u4e4b\\u61c9\\u7528\\u5c0d\\u8c61\\u3002 \\u2027\\u5efa\\u8b70\\u52d5\\u624b\\u5be6\\u4f5c\\u7684\\u7bc4\\u4f8b\\u63d0\\u4f9bLab\\u6a94\\u6848\\uff0c\\u66f4\\u80fd\\u638c\\u63e1\\u7df4\\u7fd2\\u91cd\\u9ede\\u3002 #\\u7881\\u5cf0\\u8cc7\\u8a0a GOTOP\", \"readingModes\": {\"text\": false, \"image\": true}, \"maturityRating\": \"NOT_MATURE\", \"allowAnonLogging\": true, \"contentVersion\": \"1.0.0.0.preview.1\", \"panelizationSummary\": {\"containsEpubBubbles\": false, \"containsImageBubbles\": false}, \"imageLinks\": {\"smallThumbnail\": \"http://books.google.com/books/content?id=5yEZEAAAQBAJ&printsec=frontcover&img=1&zoom=5&edge=curl&source=gbs_api\", \"thumbnail\": \"http://books.google.com/books/content?id=5yEZEAAAQBAJ&printsec=frontcover&img=1&zoom=1&edge=curl&source=gbs_api\"}, \"previewLink\": \"http://books.google.com.tw/books?id=5yEZEAAAQBAJ&printsec=frontcover&dq=Python&hl=&cd=2&source=gbs_api\", \"infoLink\": \"https://play.google.com/store/books/details?id=5yEZEAAAQBAJ&source=gbs_api\", \"canonicalVolumeLink\": \"https://play.google.com/store/books/details?id=5yEZEAAAQBAJ\"}, \"saleInfo\": {\"country\": \"TW\", \"listPrice\": {\"amount\": 560, \"currencyCode\": \"TWD\"}, \"retailPrice\": {\"amount\": 381, \"currencyCode\": \"TWD\"}, \"buyLink\": \"https://play.google.com/store/books/details?id=5yEZEAAAQBAJ&rdid=book-5yEZEAAAQBAJ&rdot=1&source=gbs_api\", \"offers\": [{\"finskyOfferType\": 1, \"listPrice\": {\"amountInMicros\": 560000000, \"currencyCode\": \"TWD\"}, \"retailPrice\": {\"amountInMicros\": 381000000, \"currencyCode\": \"TWD\"}}]}, \"accessInfo\": {\"country\": \"TW\", \"epub\": {\"isAvailable\": false}, \"pdf\": {\"isAvailable\": true, \"acsTokenLink\": \"http://books.google.com.tw/books/download/Python_3_9%E6%8A%80%E8%A1%93%E6%89%8B%E5%86%8A_%E9%9B%BB%E5%AD%90%E6%9B%B8-sample-pdf.acsm?id=5yEZEAAAQBAJ&format=pdf&output=acs4_fulfillment_token&dl_type=sample&source=gbs_api\"}, \"accessViewStatus\": \"SAMPLE\"}, \"searchInfo\": {\"textSnippet\": \"- \\u6db5\\u84cbPython 3.0\\u81f33.9\\u5be6\\u7528\\u7279\\u6027 - \\u904b\\u7528Type Hints\\u589e\\u52a0\\u7a0b\\u5f0f\\u53ef\\u8b80\\u6027\\u8207\\u7a69\\u56fa\\u6027 - \\u6df1\\u5165\\u5e38\\u7528\\u6a21\\u7d44\\u4e4b\\u61c9\\u7528\\u8207\\u5be6\\u4f5c - \\u4ecb\\u7d39asyncio\\u6a21\\u7d44\\u8207\\u975e\\u540c\\u6b65\\u8a2d\\u8a08 - \\u5305\\u542b\\u88dd\\u98fe\\u5668\\u3001meta\\u985e\\u5225\\u5be6\\u4f5c\\u7b49\\u9032\\u968e\\u4e3b\\u984c \\u2027\\u4f5c\\u8005\\u81eaPyCon ...\"}}, {\"kind\": \"books#volume\", \"id\": \"ISNZEAAAQBAJ\", \"etag\": \"msgK4ysylI8\", \"selfLink\": \"https://www.googleapis.com/books/v1/volumes/ISNZEAAAQBAJ\", \"volumeInfo\": {\"title\": \"\\u8cc7\\u6599\\u8655\\u7406\\uff1a\\u4f7f\\u7528Python\\u8a9e\\u8a00\", \"authors\": [\"\\u6797\\u9032\\u76ca\"], \"publisher\": \"\\u4e94\\u5357\\u5716\\u66f8\\u51fa\\u7248\\u80a1\\u4efd\\u6709\\u9650\\u516c\\u53f8\", \"publishedDate\": \"2021-09-03\", \"description\": \"\\u904b\\u7528\\u71b1\\u9580Python\\u7a0b\\u5f0f\\u8a9e\\u8a00\\uff0c\\u5b78\\u7fd2\\u8cc7\\u6599\\u8655\\u7406\\u3002\\uff01 \\u672c\\u66f8\\u5c6c\\u65bc\\u57fa\\u672cPython\\u8a9e\\u6cd5\\u7684\\u4ecb\\u7d39\\uff0c\\u5167\\u5bb9\\u504f\\u5411\\u65bc\\u8cc7\\u6599\\u6846 (dataframe) \\u7684\\u5efa\\u69cb\\u8207\\u4f7f\\u7528\\u3002 \\u4ee5\\u6559\\u7a0b(tutorials)\\u65b9\\u5f0f\\u9032\\u884c\\uff0c\\u66f8\\u5167\\u63d0\\u4f9b\\u5c0d\\u61c9\\u7684\\u6307\\u4ee4\\u8207\\u7d50\\u679c\\uff0c\\u914d\\u5408\\u300c\\u7bc4\\u4f8b\\u300d\\u8457\\u624b\\uff0c\\u5373\\u53ef\\u4e86\\u89e3\\u3002 \\u672c\\u66f8\\u9069\\u5408\\u521d\\u5b78\\u8005\\uff0c\\u9032\\u5165\\u9580\\u6abb\\u6216\\u5c08\\u696d\\u6027\\u8cea\\u4e26\\u4e0d\\u9ad8\\uff0c\\u4e5f\\u9069\\u5408\\u4e00\\u822c\\u793e\\u6703\\u5927\\u773e\\u4f7f\\u7528\\u3002 \\u672c\\u66f8\\u4f7f\\u7528Python 3.8.2 (IDLE)\\u8207Spyder 4.1.5\\u4e8c\\u500b\\u7248\\u672c\\u3002\\u96a8\\u66f8\\u5149\\u789f\\u542b\\u5168\\u66f8\\u5b8c\\u6574\\u7a0b\\u5f0f\\u78bc\\u3002 **\\u5149\\u789f\\u5167\\u9644\\u6709\\u672c\\u66f8\\u5b8c\\u6574\\u7684\\u8cc7\\u6599\\u8207Python\\u7a0b\\u5f0f\\u78bc \\u4e00\\u66f8\\u5728\\u624b\\uff0c\\u638c\\u63e1\\u8cc7\\u6599\\u8655\\u7406\\uff01 Python\\u529f\\u80fd\\u76f8\\u7576\\u591a\\u5143\\uff0c\\u7d55\\u975e\\u53ea\\u6709\\u6578\\u64da\\u6216\\u7d71\\u8a08\\u5206\\u6790\\u76ee\\u7684\\u800c\\u5df2\\u3002\\u5168\\u66f8\\u5171\\u52069\\u7ae0\\u3002\\u7b2c1\\u7ae0Python\\u7684\\u7c21\\u4ecb\\u8aaa\\u660e\\uff0c\\u5176\\u4e2d\\u5305\\u62ec\\u5982\\u4f55\\u5efa\\u7acb\\u300c\\u985e\\u5225 (class)\\u300d\\u8207\\u6a21\\u7d44(module)\\u3002\\u7b2c2\\u7ae0\\u4ecb\\u7d39Python\\u7684\\u57fa\\u672c\\u8a9e\\u6cd5\\u3002\\u7b2c3\\u7ae0\\u6558\\u8ff0\\u5982\\u4f55\\u65bcPython\\u5167\\u64cd\\u4f5c\\u77e9\\u9663\\u4ee5\\u53ca\\u4e00\\u4e9b\\u57fa\\u672c\\u7684\\u77e9\\u9663\\u904b\\u7b97\\u3002\\u7b2c4\\u7ae0\\u4ecb\\u7d39\\u4e3b\\u8981\\u7684\\u8cc7\\u6599\\u7d50\\u69cb\\u578b\\u614b\\uff1a\\u8cc7\\u6599\\u6846\\uff0c\\u4ee5\\u53ca\\u5982\\u4f55\\u9032\\u884c\\u8cc7\\u6599\\u6846\\u5167\\u7684\\u64cd\\u4f5c\\u3002\\u7b2c5\\u7ae0\\u8aaa\\u660e\\u5982\\u4f55\\u5efa\\u7acb\\u6642\\u9593\\u5e8f\\u5217\\u578b\\u614b\\u8cc7\\u6599\\uff0c\\u5373\\u5982\\u4f55\\u65bcPython\\u5167\\u986f\\u793a\\u65e5\\u671f\\u8207\\u6642\\u9593\\u3002\\u7b2c6\\u7ae0\\u70ba\\u7b2c4\\u7ae0\\u7684\\u5ef6\\u7e8c\\uff0c\\u8aaa\\u660e\\u300c\\u9032\\u968e\\u8cc7\\u6599\\u6846\\u300d\\uff0c\\u6216\\u7a31\\u70ba\\u300c\\u591a\\u5c64\\u6b21\\u8cc7\\u6599\\u6846\\u300d\\u7684\\u5efa\\u7acb\\u3002\\u7b2c7\\u7ae0\\u4ecb\\u7d39\\u4e0d\\u540c\\u8cc7\\u6599\\u6846\\u9593\\u7684\\u5408\\u4f75\\u64cd\\u4f5c\\u3002\\u7b2c8\\u7ae0\\u5c6c\\u65bc\\u8cc7\\u6599\\u7684\\u8f38\\u5165\\u8207\\u8f38\\u51fa\\uff0c\\u5305\\u62ec\\u5982\\u4f55\\u8b80\\u53d6\\u7db2\\u8def\\u4e0a\\u7684\\u8cc7\\u6599\\u3002\\u7b2c9\\u7ae0\\u662f\\u8cc7\\u6599\\u7684\\u63a2\\u7d22\\u8207\\u7e6a\\u5716\\u7684\\u8aaa\\u660e\\u3002 \\u95b1\\u8b80\\u672c\\u66f8\\u6700\\u597d\\u65b9\\u5f0f\\u662f\\u300c\\u4e00\\u908a\\u95b1\\u8b80\\uff0c\\u4e00\\u908a\\u64cd\\u4f5c\\u300d\\uff0c\\u4e0d\\u8981\\u53ea\\u7528\\u7d14\\u7cb9\\u95b1\\u8b80\\u7684\\u65b9\\u5f0f\\u3002\\u5207\\u8a18\\uff01\", \"readingModes\": {\"text\": false, \"image\": true}, \"maturityRating\": \"NOT_MATURE\", \"allowAnonLogging\": false, \"contentVersion\": \"0.1.0.0.preview.1\", \"panelizationSummary\": {\"containsEpubBubbles\": false, \"containsImageBubbles\": false}, \"imageLinks\": {\"smallThumbnail\": \"http://books.google.com/books/content?id=ISNZEAAAQBAJ&printsec=frontcover&img=1&zoom=5&edge=curl&source=gbs_api\", \"thumbnail\": \"http://books.google.com/books/content?id=ISNZEAAAQBAJ&printsec=frontcover&img=1&zoom=1&edge=curl&source=gbs_api\"}, \"previewLink\": \"http://books.google.com.tw/books?id=ISNZEAAAQBAJ&printsec=frontcover&dq=Python&hl=&cd=3&source=gbs_api\", \"infoLink\": \"https://play.google.com/store/books/details?id=ISNZEAAAQBAJ&source=gbs_api\", \"canonicalVolumeLink\": \"https://play.google.com/store/books/details?id=ISNZEAAAQBAJ\"}, \"saleInfo\": {\"country\": \"TW\", \"listPrice\": {\"amount\": 504, \"currencyCode\": \"TWD\"}, \"retailPrice\": {\"amount\": 343, \"currencyCode\": \"TWD\"}, \"buyLink\": \"https://play.google.com/store/books/details?id=ISNZEAAAQBAJ&rdid=book-ISNZEAAAQBAJ&rdot=1&source=gbs_api\", \"offers\": [{\"finskyOfferType\": 1, \"listPrice\": {\"amountInMicros\": 504000000, \"currencyCode\": \"TWD\"}, \"retailPrice\": {\"amountInMicros\": 343000000, \"currencyCode\": \"TWD\"}}]}, \"accessInfo\": {\"country\": \"TW\", \"epub\": {\"isAvailable\": false}, \"pdf\": {\"isAvailable\": true, \"acsTokenLink\": \"http://books.google.com.tw/books/download/%E8%B3%87%E6%96%99%E8%99%95%E7%90%86_%E4%BD%BF%E7%94%A8Python%E8%AA%9E%E8%A8%80-sample-pdf.acsm?id=ISNZEAAAQBAJ&format=pdf&output=acs4_fulfillment_token&dl_type=sample&source=gbs_api\"}, \"accessViewStatus\": \"SAMPLE\"}, \"searchInfo\": {\"textSnippet\": \"\\u904b\\u7528\\u71b1\\u9580Python\\u7a0b\\u5f0f\\u8a9e\\u8a00\\uff0c\\u5b78\\u7fd2\\u8cc7\\u6599\\u8655\\u7406\\u3002\\uff01 \\u672c\\u66f8\\u5c6c\\u65bc\\u57fa\\u672cPython\\u8a9e\\u6cd5\\u7684\\u4ecb\\u7d39\\uff0c\\u5167\\u5bb9\\u504f\\u5411\\u65bc\\u8cc7\\u6599\\u6846 (dataframe) \\u7684\\u5efa\\u69cb\\u8207\\u4f7f\\u7528\\u3002 ...\"}}, {\"kind\": \"books#volume\", \"id\": \"bczmEAAAQBAJ\", \"etag\": \"MWXdDJNySuI\", \"selfLink\": \"https://www.googleapis.com/books/v1/volumes/bczmEAAAQBAJ\", \"volumeInfo\": {\"title\": \"Python\\u96f6\\u57fa\\u790e\\u5165\\u9580\\u73ed(\\u7b2c\\u56db\\u7248)\\uff1a\\u4e00\\u6b21\\u6253\\u597d\\u7a0b\\u5f0f\\u8a2d\\u8a08\\u3001\\u904b\\u7b97\\u601d\\u7dad\\u8207\\u908f\\u8f2f\\u8a13\\u7df4\\u57fa\\u672c\\u529f(\\u96fb\\u5b50\\u66f8)\", \"authors\": [\"\\u9127\\u541b\\u5982 \\u7e3d\\u76e3\\u88fd/\\u6587\\u6df5\\u95a3\\u5de5\\u4f5c\\u5ba4 \\u7de8\\u8457\"], \"publisher\": \"\\u7881\\u5cf0\\u8cc7\\u8a0a\\u80a1\\u4efd\\u6709\\u9650\\u516c\\u53f8\", \"publishedDate\": \"2023-07-10\", \"description\": \"Python\\u6b63\\u5b97\\u5165\\u9580NO.1 \\u611f\\u8b1d\\u773e\\u591a\\u8b80\\u8005\\u8207\\u6559\\u5e2b\\u597d\\u8a55 \\u4e00\\u672c\\u5f15\\u9818\\u6578\\u842c\\u8b80\\u8005\\u4e00\\u63a2Python\\u4e16\\u754c\\u3001 \\u4e5f\\u8b93\\u8001\\u5e2b\\u7528\\u4e86\\u518d\\u7528\\u7684\\u66a2\\u92b7\\u7d93\\u5178\\uff01 \\u3010\\u66f8\\u9644\\u8d85\\u503c\\u5b78\\u7fd2\\u8cc7\\u6e90\\u3011 \\u300cPython\\u5feb\\u901f\\u5165\\u9580\\u768410\\u5802\\u8ab2\\u300d\\u5f71\\u97f3\\u6559\\u5b78/\\u7bc4\\u4f8b\\u7a0b\\u5f0f\\u6a94/\\u7d9c\\u5408\\u6f14\\u7df4\\u53c3\\u8003\\u89e3\\u7b54 \\u300c\\u5584\\u7528ChatGPT\\u5b78Python\\u5165\\u9580\\u300d\\u5f71\\u97f3\\u6559\\u5b78 AI\\u4eba\\u5de5\\u667a\\u6167\\u8207Big Data\\u5927\\u6578\\u64da\\u6642\\u4ee3 \\u8de8\\u5165\\u7a0b\\u5f0f\\u8a9e\\u8a00\\u3001\\u935b\\u934a\\u908f\\u8f2f\\u601d\\u7dad\\uff0c \\u5c31\\u5f9ePython\\u958b\\u59cb\\u5b78\\uff01 Python\\u662f\\u76ee\\u524d\\u6700\\u71b1\\u9580\\u7684\\u7a0b\\u5f0f\\u8a9e\\u8a00\\uff0c\\u57f7\\u884c\\u529f\\u80fd\\u5f37\\u5927\\uff0c\\u4f46\\u8a9e\\u6cd5\\u537b\\u7c21\\u6f54\\u512a\\u96c5\\u3001\\u6613\\u65bc\\u5b78\\u7fd2\\uff0c\\u66f4\\u65b9\\u4fbf\\u61c9\\u7528\\u5728\\u8a31\\u591a\\u5c08\\u6848\\u5be6\\u4f5c\\u4e0a\\u3002\\u5b83\\u4e5f\\u6c92\\u6709\\u8907\\u96dc\\u7684\\u7d50\\u69cb\\uff0c\\u7a0b\\u5f0f\\u6613\\u8b80\\uff0c\\u4e14\\u6613\\u65bc\\u7dad\\u8b77\\u3002 Python\\u7684\\u61c9\\u7528\\u7bc4\\u570d\\u76f8\\u7576\\u5ee3\\u6cdb\\uff0c\\u7121\\u8ad6\\u662f\\u8cc7\\u8a0a\\u8490\\u96c6\\u3001\\u5927\\u6578\\u64da\\u5206\\u6790\\u3001\\u6a5f\\u5668\\u5b78\\u7fd2\\u3001\\u8cc7\\u6599\\u79d1\\u5b78\\u3001\\u7db2\\u7ad9\\u5efa\\u7f6e\\uff0c\\u751a\\u81f3\\u662f\\u904a\\u6232\\u958b\\u767c\\u7b49\\uff0c\\u90fd\\u80fd\\u770b\\u5230\\u5b83\\u7684\\u8eab\\u5f71\\u3002\\u672c\\u66f8\\u4ee5\\u96f6\\u57fa\\u790e\\u5b78\\u7fd2\\u8005\\u7684\\u8996\\u89d2\\u9032\\u884c\\u898f\\u5283\\uff0c\\u5f9e\\u6700\\u57fa\\u672c\\u7684\\u8a8d\\u8b58\\u7a0b\\u5f0f\\u8a9e\\u8a00\\u8207\\u74b0\\u5883\\u67b6\\u8a2d\\u5207\\u5165\\uff0c\\u518d\\u9032\\u5230\\u7a0b\\u5f0f\\u8a2d\\u8a08\\u6d41\\u7a0b\\u7684\\u5b8c\\u6574\\u5b78\\u7fd2\\uff0c\\u8f14\\u4ee5\\u89c0\\u5ff5\\u5716\\u89e3\\u3001\\u8868\\u683c\\u6b78\\u7d0d\\uff0c\\u4ee5\\u53ca\\u6d41\\u7a0b\\u5716\\uff0c\\u6df1\\u5165\\u6dfa\\u51fa\\u4e00\\u7abaPython\\u7a0b\\u5f0f\\u8a9e\\u8a00\\u8207\\u8a2d\\u8a08\\u7684\\u5967\\u5999\\uff01 \\u8981\\u61c2Python \\u5c31\\u8981\\u9019\\u6a23\\u771f\\u6b63\\u7684\\u5165\\u9580 \\u5fb9\\u5e95\\u638c\\u63e1\\u7a0b\\u5f0f\\u8a9e\\u8a00\\u8207\\u8a2d\\u8a08\\u7684\\u6838\\u5fc3\\uff01 \\u25a0\\u9069\\u5408\\u7121\\u7a0b\\u5f0f\\u8a2d\\u8a08\\u7d93\\u9a57\\u6216\\u60f3\\u6253\\u597dPython\\u57fa\\u790e\\u8005\\uff0c\\u5f9e\\u4e2d\\u4e86\\u89e3\\u904b\\u7b97\\u601d\\u7dad\\u7cbe\\u795e\\uff0c\\u624e\\u6839\\u7a0b\\u5f0f\\u8a2d\\u8a08\\u5b78\\u7fd2\\uff0c\\u57f9\\u990a\\u908f\\u8f2f\\u904b\\u7b97\\u80fd\\u529b\\u3002\\u5faa\\u5e8f\\u6f38\\u9032\\u7684\\u5167\\u5bb9\\u6db5\\u84cb\\uff1a\\u8a8d\\u8b58\\u904b\\u7b97\\u601d\\u7dad\\u3001\\u7a0b\\u5f0f\\u8a9e\\u8a00\\u8207\\u8a2d\\u8a08\\u3001\\u74b0\\u5883\\u5efa\\u7f6e\\u3001\\u8b8a\\u6578\\u3001\\u904b\\u7b97\\u5f0f\\u3001\\u5224\\u65b7\\u5f0f\\u3001\\u8ff4\\u5708\\u3001\\u4e32\\u5217\\u8207\\u5143\\u7d44\\u3001\\u5b57\\u5178\\u3001\\u51fd\\u5f0f\\u8207\\u6a21\\u7d44\\u3001\\u6f14\\u7b97\\u6cd5\\uff0c\\u4ee5\\u53ca\\u6a94\\u6848\\u8207\\u4f8b\\u5916\\u8655\\u7406\\u2026\\u7b49\\uff0c\\u8b93\\u521d\\u5b78\\u8005\\u7121\\u75db\\u5b78\\u7fd2\\uff0c\\u8f15\\u9b06\\u6253\\u597d\\u57fa\\u672c\\u529f\\u3002 \\u25a0\\u9664\\u4e86\\u63d0\\u4f9b\\u5728\\u672c\\u6a5f\\u5efa\\u7f6e\\u958b\\u767c\\u74b0\\u5883\\u7684\\u65b9\\u6cd5\\uff0c\\u66f4\\u65b0\\u589e\\u904b\\u7528\\u71b1\\u9580Google Colab\\u96f2\\u7aef\\u958b\\u767c\\u74b0\\u5883\\u7684\\u6280\\u5de7\\uff0c\\u4e0d\\u9700\\u5b89\\u88dd\\u8a2d\\u5b9a\\u5373\\u53ef\\u64b0\\u5beb\\u4e26\\u57f7\\u884cPython\\u7a0b\\u5f0f\\u3002 \\u25a0\\u7cbe\\u5fc3\\u8a2d\\u8a08100\\u984c\\u5be6\\u4f5c\\u7bc4\\u4f8b\\uff0c\\u8f14\\u4ee5130\\u984c\\u7d9c\\u5408\\u6f14\\u7df4\\uff0c\\u5f9e\\u505a\\u4e2d\\u5b78\\uff0c\\u5feb\\u901f\\u5b78\\u6703\\u6bcf\\u500b\\u5b78\\u7fd2\\u91cd\\u9ede\\uff0c\\u4e26\\u80fd\\u61c9\\u7528\\u65bc\\u5be6\\u969b\\u5c08\\u984c\\u4e2d\\u3002\\u7bc4\\u4f8b\\u5927\\u5c0f\\u9069\\u5408\\u8b80\\u8005\\u5e73\\u6642\\u7684\\u5b78\\u7fd2\\uff0c\\u6216\\u6bcf\\u9031\\u56fa\\u5b9a\\u6642\\u6578\\u7684\\u6559\\u5b78\\u8ab2\\u7a0b\\u3002 \\u25a0\\u878d\\u5165\\u7cbe\\u91c7\\u7684\\u60c5\\u5883\\u5be6\\u4f8b\\uff0c\\u8cbc\\u8fd1\\u751f\\u6d3b\\u61c9\\u7528\\uff0c\\u4e5f\\u8b93\\u7df4\\u7fd2\\u66f4\\u6709\\u8da3\\uff0c\\u5982\\uff1a\\u6578\\u5b78\\u904b\\u7b97\\u3001\\u5bc6\\u78bc\\u5224\\u65b7\\u3001\\u6210\\u7e3e\\u8a55\\u7b49\\u3001\\u96fb\\u5f71\\u5206\\u7d1a\\u3001\\u767e\\u8ca8\\u516c\\u53f8\\u6298\\u6263\\u6230\\u3001\\u6578\\u5b57\\u6bd4\\u5927\\u5c0f\\u3001\\u85aa\\u8cc7\\u8a08\\u7b97\\u8868\\u3001\\u6210\\u7e3e\\u55ae\\u8207\\u696d\\u7e3e\\u5831\\u8868\\u5217\\u5370\\u3001\\u65e5\\u671f\\u6642\\u9593\\u683c\\u5f0f\\u8207\\u6eab\\u5ea6\\u8f49\\u63db\\u3001\\u64f2\\u9ab0\\u5b50\\u904a\\u6232\\u3001\\u5927\\u6a02\\u900f\\u62bd\\u734e\\u3001\\u641c\\u5c0b\\u4e2d\\u734e\\u8005\\u3001\\u5f69\\u5238\\u5c0d\\u734e\\uff0c\\u4ee5\\u53ca\\u8840\\u578b\\u500b\\u6027\\u3001\\u56db\\u5b63\\u5929\\u6c23\\u3001\\u6210\\u7e3e\\u8f38\\u5165\\u3001\\u7522\\u54c1\\u92b7\\u552e\\u3001\\u96fb\\u8cbb\\u3001\\u4e16\\u5927\\u904b\\u734e\\u724c\\u6578\\u8207\\u5bb6\\u5ead\\u652f\\u51fa\\u67e5\\u8a62\\u2026\\u7b49\\u904b\\u7528\\u3002 \\u25a0\\u63d0\\u4f9b\\u66f4\\u5b8c\\u6574\\u7684\\u6f14\\u7b97\\u6cd5\\u904b\\u4f5c\\u5be6\\u4f8b\\u642d\\u914d\\u6d41\\u7a0b\\u5716\\uff0c\\u6709\\u5229\\u7406\\u89e3\\u904b\\u4f5c\\u601d\\u8def\\u8207\\u898f\\u5247\\uff0c\\u8b93\\u7a0b\\u5f0f\\u958b\\u767c\\u66f4\\u52a0\\u5f97\\u5fc3\\u61c9\\u624b\\u3002 \\u25a0\\u6536\\u9304160\\u5206\\u9418\\u7684Python\\u958b\\u767c\\u74b0\\u5883\\u5efa\\u7f6e\\u8207\\u8a9e\\u6cd5\\u5165\\u9580\\u5f71\\u97f3\\u6559\\u5b78\\uff0c\\u642d\\u914d\\u66f8\\u7c4d\\u5167\\u5bb9\\u5feb\\u901f\\u5438\\u6536\\uff0c\\u8b93\\u5b78\\u7fd2\\u66f4\\u6709\\u6548\\u7387\\u3002 \\u25a0\\u9644\\u52a0\\u300c\\u5584\\u7528ChatGPT\\u5b78Python\\u5165\\u9580\\u300d\\u5f71\\u97f3\\u6559\\u5b78\\uff0c\\u9664\\u4e86\\u5beb\\u7a0b\\u5f0f\\u4e4b\\u5916\\uff0c\\u5176\\u5be6\\u6211\\u5011\\u53ef\\u4ee5\\u904b\\u7528ChatGPT\\u4f86\\u89e3\\u91cb\\u7a0b\\u5f0f\\u78bc\\u3001\\u70ba\\u7a0b\\u5f0f\\u78bc\\u8a3b\\u89e3\\u3001\\u64b0\\u5beb\\u6307\\u5b9a\\u529f\\u80fd\\u8a9e\\u6cd5\\uff0c\\u4ee5\\u53ca\\u5e6b\\u7a0b\\u5f0f\\u9664\\u932f\\u2026\\u7b49\\uff0c\\u52a0\\u901f\\u8207\\u6df1\\u5165Python\\u7a0b\\u5f0f\\u8a9e\\u8a00\\u7684\\u5b78\\u7fd2\\u3002 #\\u7881\\u5cf0\\u8cc7\\u8a0a GOTOP\", \"readingModes\": {\"text\": false, \"image\": true}, \"maturityRating\": \"NOT_MATURE\", \"allowAnonLogging\": false, \"contentVersion\": \"preview-1.0.0\", \"panelizationSummary\": {\"containsEpubBubbles\": false, \"containsImageBubbles\": false}, \"imageLinks\": {\"smallThumbnail\": \"http://books.google.com/books/content?id=bczmEAAAQBAJ&printsec=frontcover&img=1&zoom=5&edge=curl&source=gbs_api\", \"thumbnail\": \"http://books.google.com/books/content?id=bczmEAAAQBAJ&printsec=frontcover&img=1&zoom=1&edge=curl&source=gbs_api\"}, \"previewLink\": \"http://books.google.com.tw/books?id=bczmEAAAQBAJ&printsec=frontcover&dq=Python&hl=&cd=4&source=gbs_api\", \"infoLink\": \"https://play.google.com/store/books/details?id=bczmEAAAQBAJ&source=gbs_api\", \"canonicalVolumeLink\": \"https://play.google.com/store/books/details?id=bczmEAAAQBAJ\"}, \"saleInfo\": {\"country\": \"TW\", \"listPrice\": {\"amount\": 390, \"currencyCode\": \"TWD\"}, \"retailPrice\": {\"amount\": 265, \"currencyCode\": \"TWD\"}, \"buyLink\": \"https://play.google.com/store/books/details?id=bczmEAAAQBAJ&rdid=book-bczmEAAAQBAJ&rdot=1&source=gbs_api\", \"offers\": [{\"finskyOfferType\": 1, \"listPrice\": {\"amountInMicros\": 390000000, \"currencyCode\": \"TWD\"}, \"retailPrice\": {\"amountInMicros\": 265000000, \"currencyCode\": \"TWD\"}}]}, \"accessInfo\": {\"country\": \"TW\", \"epub\": {\"isAvailable\": false}, \"pdf\": {\"isAvailable\": true, \"acsTokenLink\": \"http://books.google.com.tw/books/download/Python%E9%9B%B6%E5%9F%BA%E7%A4%8E%E5%85%A5%E9%96%80%E7%8F%AD_%E7%AC%AC%E5%9B%9B%E7%89%88_%E4%B8%80-sample-pdf.acsm?id=bczmEAAAQBAJ&format=pdf&output=acs4_fulfillment_token&dl_type=sample&source=gbs_api\"}, \"accessViewStatus\": \"SAMPLE\"}, \"searchInfo\": {\"textSnippet\": \"Python\\u6b63\\u5b97\\u5165\\u9580NO.1 \\u611f\\u8b1d\\u773e\\u591a\\u8b80\\u8005\\u8207\\u6559\\u5e2b\\u597d\\u8a55 \\u4e00\\u672c\\u5f15\\u9818\\u6578\\u842c\\u8b80\\u8005\\u4e00\\u63a2Python\\u4e16\\u754c\\u3001 \\u4e5f\\u8b93\\u8001\\u5e2b\\u7528\\u4e86\\u518d\\u7528\\u7684\\u66a2\\u92b7\\u7d93\\u5178\\uff01 \\u3010\\u66f8\\u9644\\u8d85\\u503c\\u5b78\\u7fd2\\u8cc7\\u6e90\\u3011 ...\"}}, {\"kind\": \"books#volume\", \"id\": \"2oDEEAAAQBAJ\", \"etag\": \"YdCMNW5otBc\", \"selfLink\": \"https://www.googleapis.com/books/v1/volumes/2oDEEAAAQBAJ\", \"volumeInfo\": {\"title\": \"\\u5f9e\\u96f6\\u958b\\u59cb\\u5b78Python\\u7a0b\\u5f0f\\u8a2d\\u8a08(\\u7b2c\\u4e09\\u7248\\u4fee\\u8a02\\u7248)\\uff08\\u9069\\u7528Python 3.10\\u4ee5\\u4e0a\\uff09\", \"authors\": [\"\\u674e\\u99a8\"], \"publisher\": \"\\u535a\\u78a9\\u6587\\u5316\", \"publishedDate\": \"2023-04-28\", \"description\": \"\\u25b6\\u8a8d\\u8b58 Python \\u9019\\u500b\\u7c21\\u6f54\\u7684\\u7a0b\\u5f0f\\u8a9e\\u8a00\\uff0c\\u7406\\u8ad6\\u8207\\u5be6\\u4f5c\\u4e26\\u884c \\u25b6\\u6bcf\\u500b\\u7ae0\\u7bc0\\u6709\\u8c50\\u5bcc\\u7684\\u7bc4\\u4f8b\\uff0c\\u914d\\u5408 Python Shell \\u7684\\u4e92\\u52d5\\u4ea4\\u8ac7\\uff0c\\u66f4\\u80fd\\u5f97\\u5fc3\\u61c9\\u624b \\u25b6\\u624b\\u628a\\u624b\\u5c0e\\u5f15\\uff0c\\u7531\\u51fd\\u5f0f\\u51fa\\u767c\\uff0c\\u4e26\\u5b78\\u7fd2\\u7269\\u4ef6\\u5c0e\\u5411\\u7684\\u5c01\\u88dd\\u3001\\u7e7c\\u627f\\u548c\\u591a\\u578b\\u4e09\\u5927\\u6280\\u8853 \\u25b6\\u8ab2\\u5f8c\\u8a55\\u91cf\\u4f7f\\u601d\\u8003\\u8207\\u64cd\\u4f5c\\u4e26\\u517c\\uff0c\\u53ef\\u8ffd\\u8e64\\u5b78\\u7fd2\\u6210\\u6548 \\u3010\\u672c\\u66f8\\u7c21\\u4ecb\\u3011 \\u5b78\\u7fd2\\u4e00\\u500b\\u7a0b\\u5f0f\\u8a9e\\u8a00\\uff0cPython \\u7684\\u7c21\\u6f54\\u3001\\u660e\\u77ad\\u80fd\\u8b93\\u521d\\u5b78\\u8005\\u5feb\\u901f\\u4e0a\\u624b\\u3002\\u4e00\\u500b\\u7c21\\u55ae\\u7684\\uff0c\\u96d6\\u7136 Python IDLE \\u74b0\\u5883\\u5f88\\u967d\\u6625\\uff0c\\u4f46\\u6709\\u4e0d\\u932f\\u7684\\u9664\\u932f\\u529f\\u80fd\\uff0c\\u800c\\u9644\\u5e36\\u7684 Visual Studio Code \\u53ef\\u4ee5\\u8b93\\u6211\\u5011\\u5728\\u5b78\\u7fd2\\u4e2d\\u64c1\\u6709\\u610f\\u5916\\u4e4b\\u559c\\u3002\\u7c21\\u55ae\\u7684\\u6558\\u8ff0\\u53ef\\u4ee5\\u5728 Python Shell \\u9019\\u500b\\u4e92\\u52d5\\u4ea4\\u8ac7\\u6a21\\u5f0f\\u7372\\u5f97\\u89e3\\u7b54\\u3002\\u9664\\u4e86 Python \\u7684\\u5167\\u5efa\\u6a21\\u7d44\\uff0c\\u4e5f\\u4e00\\u8d77\\u8a8d\\u8b58\\u7b2c\\u4e09\\u65b9\\u5957\\u4ef6\\u7684\\u8a5e\\u96f2\\u3001Pyinstaller\\u3002\\u7531\\u65bc Python \\u80fd\\u8a0e\\u8ad6\\u7684\\u5167\\u5bb9\\u975e\\u5e38\\u8c50\\u5bcc\\uff0c\\u672c\\u66f8\\u50c5\\u80fd\\u5c31\\u521d\\u5b78\\u8005\\u8b93\\u5927\\u5bb6\\u8a8d\\u8b58 Python \\u8a9e\\u8a00\\u7684\\u9b45\\u529b\\uff0c\\u900f\\u904e\\u672c\\u66f8\\u505a\\u901a\\u76e4\\u6027\\u8a8d\\u8b58\\uff0c\\u5168\\u66f8\\u91cd\\u8981\\u4e3b\\u984c\\u5982\\u4e0b\\uff1a \\u265aPython \\u7570\\u60f3\\u4e16\\u754c \\u265aPython \\u57fa\\u672c\\u8a9e\\u6cd5 \\u265a\\u904b\\u7b97\\u5b50\\u8207\\u689d\\u4ef6\\u9078\\u64c7 \\u265a\\u5efb\\u5708\\u63a7\\u5236 \\u265a\\u5e8f\\u5217\\u578b\\u5225\\u548c\\u5b57\\u4e32 \\u265aTuple \\u548c List \\u265a\\u5b57\\u5178\\u3001\\u96c6\\u5408\\u3001\\u51fd\\u5f0f \\u265a\\u6a21\\u7d44\\u8207\\u51fd\\u5f0f\\u5eab \\u265a\\u7269\\u4ef6\\u5c0e\\u5411\\u57fa\\u790e \\u265a\\u6dfa\\u8ac7\\u7e7c\\u627f\\u6a5f\\u5236 \\u265a\\u7570\\u5e38\\u8655\\u7406\\u6a5f\\u5236 \\u265a\\u8cc7\\u6599\\u6d41\\u8207\\u6a94\\u6848 \\u265aGUI \\u4ecb\\u9762 \\u265a\\u7e6a\\u5716\\u8207\\u5f71\\u50cf \\u671f\\u80fd\\u628a\\u63e1\\u4f4f\\u6700\\u56b4\\u8b39\\u7684\\u614b\\u5ea6\\uff0c\\u8f14\\u4ee5\\u6700\\u6dfa\\u767d\\u7684\\u8868\\u9054\\u65b9\\u5f0f\\uff0c\\u8b93\\u6bcf\\u4f4d\\u8b80\\u8005\\u5728\\u671f\\u9593\\u5145\\u6eff\\u6a02\\u8da3\\uff0c\\u964d\\u4f4e\\u95b1\\u8b80\\u58d3\\u529b\\u3002\\u7b46\\u8005\\u6df1\\u4fe1\\u672c\\u66f8\\u80fd\\u8b93\\u521d\\u7fd2\\u8005\\u5728\\u8d70\\u904e Python \\u8a9e\\u8a00\\u5b78\\u7fd2\\u4e4b\\u65c5\\uff0c\\u62d3\\u5c55\\u601d\\u8003\\u6027\\uff0c\\u5728\\u7a0b\\u5f0f\\u8a9e\\u8a00\\u4e16\\u754c\\u60a0\\u904a\\u81ea\\u5728\\u3002\", \"readingModes\": {\"text\": false, \"image\": true}, \"maturityRating\": \"NOT_MATURE\", \"allowAnonLogging\": false, \"contentVersion\": \"1.0.0.0.preview.1\", \"panelizationSummary\": {\"containsEpubBubbles\": false, \"containsImageBubbles\": false}, \"imageLinks\": {\"smallThumbnail\": \"http://books.google.com/books/content?id=2oDEEAAAQBAJ&printsec=frontcover&img=1&zoom=5&edge=curl&source=gbs_api\", \"thumbnail\": \"http://books.google.com/books/content?id=2oDEEAAAQBAJ&printsec=frontcover&img=1&zoom=1&edge=curl&source=gbs_api\"}, \"previewLink\": \"http://books.google.com.tw/books?id=2oDEEAAAQBAJ&printsec=frontcover&dq=Python&hl=&cd=5&source=gbs_api\", \"infoLink\": \"https://play.google.com/store/books/details?id=2oDEEAAAQBAJ&source=gbs_api\", \"canonicalVolumeLink\": \"https://play.google.com/store/books/details?id=2oDEEAAAQBAJ\"}, \"saleInfo\": {\"country\": \"TW\", \"listPrice\": {\"amount\": 682, \"currencyCode\": \"TWD\"}, \"retailPrice\": {\"amount\": 464, \"currencyCode\": \"TWD\"}, \"buyLink\": \"https://play.google.com/store/books/details?id=2oDEEAAAQBAJ&rdid=book-2oDEEAAAQBAJ&rdot=1&source=gbs_api\", \"offers\": [{\"finskyOfferType\": 1, \"listPrice\": {\"amountInMicros\": 682000000, \"currencyCode\": \"TWD\"}, \"retailPrice\": {\"amountInMicros\": 464000000, \"currencyCode\": \"TWD\"}}]}, \"accessInfo\": {\"country\": \"TW\", \"epub\": {\"isAvailable\": false}, \"pdf\": {\"isAvailable\": true, \"acsTokenLink\": \"http://books.google.com.tw/books/download/%E5%BE%9E%E9%9B%B6%E9%96%8B%E5%A7%8B%E5%AD%B8Python%E7%A8%8B%E5%BC%8F%E8%A8%AD%E8%A8%88_%E7%AC%AC%E4%B8%89-sample-pdf.acsm?id=2oDEEAAAQBAJ&format=pdf&output=acs4_fulfillment_token&dl_type=sample&source=gbs_api\"}, \"accessViewStatus\": \"SAMPLE\"}, \"searchInfo\": {\"textSnippet\": \"\\u25b6\\u8a8d\\u8b58 Python \\u9019\\u500b\\u7c21\\u6f54\\u7684\\u7a0b\\u5f0f\\u8a9e\\u8a00\\uff0c\\u7406\\u8ad6\\u8207\\u5be6\\u4f5c\\u4e26\\u884c \\u25b6\\u6bcf\\u500b\\u7ae0\\u7bc0\\u6709\\u8c50\\u5bcc\\u7684\\u7bc4\\u4f8b\\uff0c\\u914d\\u5408 Python Shell \\u7684\\u4e92\\u52d5\\u4ea4\\u8ac7\\uff0c\\u66f4\\u80fd\\u5f97\\u5fc3\\u61c9\\u624b ...\"}}]}\n"
          ]
        }
      ]
    },
    {
      "cell_type": "code",
      "source": [
        "import requests\n",
        "\n",
        "url = 'https://fchart.github.io/img/fchart03.png'\n",
        "path = 'fchart03.png'\n",
        "# 圖片是串流的，所以要加stream\n",
        "response = requests.get(url, stream = True)\n",
        "if response.status_code == 200:\n",
        "  # 寫成二進位資料\n",
        "  with open(path, 'wb') as fp:\n",
        "    for chunk in response:\n",
        "      fp.write(chunk)\n",
        "  print('檔案以下載.')\n",
        "else:\n",
        "  print('檔案Http請求失敗.')"
      ],
      "metadata": {
        "colab": {
          "base_uri": "https://localhost:8080/"
        },
        "id": "3ymashDxie1j",
        "outputId": "5642c3cf-ef8a-4a76-f8a3-b65a793b18bf"
      },
      "execution_count": null,
      "outputs": [
        {
          "output_type": "stream",
          "name": "stdout",
          "text": [
            "檔案以下載.\n"
          ]
        }
      ]
    },
    {
      "cell_type": "code",
      "source": [
        "# data -> file:csv,json\n",
        "# 資料庫\n",
        "# 關聯式資料庫(Reational Database):家樂福,Costco, 快速儲存查詢\n",
        "# SQL Server, Oracle, DB2, MySQL, SQLite\n",
        "\n",
        "import sqlite3\n",
        "conn = sqlite3.connect('books.sqlite')\n",
        "# 查詢Books table\n",
        "cursor = conn.execute('SELECT * FROM Books')"
      ],
      "metadata": {
        "colab": {
          "base_uri": "https://localhost:8080/",
          "height": 212
        },
        "id": "hhxPrDVGk44l",
        "outputId": "da7c9573-98aa-4a99-a98d-565eec8d3bf3"
      },
      "execution_count": null,
      "outputs": [
        {
          "output_type": "error",
          "ename": "OperationalError",
          "evalue": "no such table: Books",
          "traceback": [
            "\u001b[0;31m---------------------------------------------------------------------------\u001b[0m",
            "\u001b[0;31mOperationalError\u001b[0m                          Traceback (most recent call last)",
            "\u001b[0;32m<ipython-input-13-a6bd061f392c>\u001b[0m in \u001b[0;36m<cell line: 9>\u001b[0;34m()\u001b[0m\n\u001b[1;32m      7\u001b[0m \u001b[0mconn\u001b[0m \u001b[0;34m=\u001b[0m \u001b[0msqlite3\u001b[0m\u001b[0;34m.\u001b[0m\u001b[0mconnect\u001b[0m\u001b[0;34m(\u001b[0m\u001b[0;34m'books.sqlite'\u001b[0m\u001b[0;34m)\u001b[0m\u001b[0;34m\u001b[0m\u001b[0;34m\u001b[0m\u001b[0m\n\u001b[1;32m      8\u001b[0m \u001b[0;31m# 查詢Books table\u001b[0m\u001b[0;34m\u001b[0m\u001b[0;34m\u001b[0m\u001b[0m\n\u001b[0;32m----> 9\u001b[0;31m \u001b[0mcursor\u001b[0m \u001b[0;34m=\u001b[0m \u001b[0mconn\u001b[0m\u001b[0;34m.\u001b[0m\u001b[0mexecute\u001b[0m\u001b[0;34m(\u001b[0m\u001b[0;34m'SELECT * FROM Books'\u001b[0m\u001b[0;34m)\u001b[0m\u001b[0;34m\u001b[0m\u001b[0;34m\u001b[0m\u001b[0m\n\u001b[0m",
            "\u001b[0;31mOperationalError\u001b[0m: no such table: Books"
          ]
        }
      ]
    }
  ]
}
